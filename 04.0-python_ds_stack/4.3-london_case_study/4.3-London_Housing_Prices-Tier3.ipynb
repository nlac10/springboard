{
 "cells": [
  {
   "cell_type": "markdown",
   "metadata": {
    "colab_type": "text",
    "id": "Tia3MP1SJpgj"
   },
   "source": [
    "# Springboard Data Science Career Track Unit 4 Challenge - Tier 3 Complete\n",
    "\n",
    "## Objectives\n",
    "Hey! Great job getting through those challenging DataCamp courses. You're learning a lot in a short span of time. \n",
    "\n",
    "In this notebook, you're going to apply the skills you've been learning, bridging the gap between the controlled environment of DataCamp and the *slightly* messier work that data scientists do with actual datasets!\n",
    "\n",
    "Here’s the mystery we’re going to solve: \n",
    "\n",
    ">**Which boroughs of London have seen the greatest increase in housing prices, on average, over the last two decades?**\n",
    "\n",
    "\n",
    "A borough is just a fancy word for district. You may be familiar with the five boroughs of New York… well, there are 32 boroughs within Greater London [(here's some info for the curious)](https://en.wikipedia.org/wiki/London_boroughs). Some of them are more desirable areas to live in, and the data will reflect that with a greater rise in housing prices.\n",
    "\n",
    "***This is the Tier 3 notebook, which means it's not filled in at all: we'll just give you the skeleton of a project, the brief and the data. It's up to you to play around with it and see what you can find out! Good luck! If you struggle, feel free to look at easier tiers for help; but try to dip in and out of them, as the more independent work you do, the better it is for your learning!***\n",
    "\n",
    "This challenge will make use of only what you learned in the following DataCamp courses: \n",
    "- Prework courses (Introduction to Python for Data Science, Intermediate Python for Data Science)\n",
    "- Data Types for Data Science\n",
    "- Python Data Science Toolbox (Part One) \n",
    "- pandas Foundations\n",
    "- Manipulating DataFrames with pandas\n",
    "- Merging DataFrames with pandas\n",
    "\n",
    "Of the tools, techniques and concepts in the above DataCamp courses, this challenge should require the application of the following: \n",
    "- **pandas**\n",
    "    - **data ingestion and inspection** (pandas Foundations, Module One) \n",
    "    - **exploratory data analysis** (pandas Foundations, Module Two)\n",
    "    - **tidying and cleaning** (Manipulating DataFrames with pandas, Module Three) \n",
    "    - **transforming DataFrames** (Manipulating DataFrames with pandas, Module One)\n",
    "    - **subsetting DataFrames with lists** (Manipulating DataFrames with pandas, Module One) \n",
    "    - **filtering DataFrames** (Manipulating DataFrames with pandas, Module One) \n",
    "    - **grouping data** (Manipulating DataFrames with pandas, Module Four) \n",
    "    - **melting data** (Manipulating DataFrames with pandas, Module Three) \n",
    "    - **advanced indexing** (Manipulating DataFrames with pandas, Module Four) \n",
    "    \n",
    "- **matplotlib** (Intermediate Python for Data Science, Module One)\n",
    "\n",
    "- **fundamental data types** (Data Types for Data Science, Module One) \n",
    "\n",
    "- **dictionaries** (Intermediate Python for Data Science, Module Two)\n",
    "\n",
    "- **handling dates and times** (Data Types for Data Science, Module Four)\n",
    "\n",
    "- **function definition** (Python Data Science Toolbox - Part One, Module One)\n",
    "\n",
    "- **default arguments, variable length, and scope** (Python Data Science Toolbox - Part One, Module Two) \n",
    "\n",
    "- **lambda functions and error handling** (Python Data Science Toolbox - Part One, Module Four) "
   ]
  },
  {
   "cell_type": "markdown",
   "metadata": {
    "colab_type": "text",
    "id": "Ipgd2nV8Jpgl"
   },
   "source": [
    "## The Data Science Pipeline\n",
    "\n",
    "This is Tier Three, so we'll get you started. But after that, it's all in your hands! When you feel done with your investigations, look back over what you've accomplished, and prepare a quick presentation of your findings for the next mentor meeting. \n",
    "\n",
    "Data Science is magical. In this case study, you'll get to apply some complex machine learning algorithms. But as  [David Spiegelhalter](https://www.youtube.com/watch?v=oUs1uvsz0Ok) reminds us, there is no substitute for simply **taking a really, really good look at the data.** Sometimes, this is all we need to answer our question.\n",
    "\n",
    "Data Science projects generally adhere to the four stages of Data Science Pipeline:\n",
    "1. Sourcing and loading \n",
    "2. Cleaning, transforming, and visualizing \n",
    "3. Modeling \n",
    "4. Evaluating and concluding \n"
   ]
  },
  {
   "cell_type": "markdown",
   "metadata": {
    "colab_type": "text",
    "id": "zswDqbefJpgm"
   },
   "source": [
    "### 1. Sourcing and Loading \n",
    "\n",
    "Any Data Science project kicks off by importing  ***pandas***. The documentation of this wonderful library can be found [here](https://pandas.pydata.org/). As you've seen, pandas is conveniently connected to the [Numpy](http://www.numpy.org/) and [Matplotlib](https://matplotlib.org/) libraries. \n",
    "\n",
    "***Hint:*** This part of the data science pipeline will test those skills you acquired in the pandas Foundations course, Module One. "
   ]
  },
  {
   "cell_type": "markdown",
   "metadata": {
    "colab_type": "text",
    "id": "aEau5nEvJpgm"
   },
   "source": [
    "#### 1.1. Importing Libraries"
   ]
  },
  {
   "cell_type": "code",
   "execution_count": 1,
   "metadata": {
    "ExecuteTime": {
     "end_time": "2020-09-07T01:45:33.423544Z",
     "start_time": "2020-09-07T01:45:32.569650Z"
    },
    "colab": {},
    "colab_type": "code",
    "id": "7Bt_Q_oPJpgn"
   },
   "outputs": [],
   "source": [
    "# Let's import the pandas, numpy libraries as pd, and np respectively.\n",
    "import pandas as pd\n",
    "import numpy as np\n",
    "\n",
    "# Load the pyplot collection of functions from matplotlib, as plt \n",
    "import matplotlib.pyplot as plt\n",
    "# %matplotlib inline\n",
    "\n",
    "# other viz libraries\n",
    "import seaborn as sns\n",
    "\n",
    "# format j.ntbk\n",
    "pd.set_option(\"display.max_rows\", 30)\n",
    "pd.set_option(\"display.max_columns\", 20)\n",
    "pd.set_option(\"display.width\", 200)\n"
   ]
  },
  {
   "cell_type": "markdown",
   "metadata": {
    "colab_type": "text",
    "id": "koUrawxsJpgq"
   },
   "source": [
    "#### 1.2.  Loading the data\n",
    "Your data comes from the [London Datastore](https://data.london.gov.uk/): a free, open-source data-sharing portal for London-oriented datasets. "
   ]
  },
  {
   "cell_type": "code",
   "execution_count": 2,
   "metadata": {
    "ExecuteTime": {
     "end_time": "2020-09-07T01:45:38.364551Z",
     "start_time": "2020-09-07T01:45:33.425443Z"
    },
    "cell_style": "center",
    "colab": {},
    "colab_type": "code",
    "hide_input": false,
    "id": "AiLiD4v3Jpgr"
   },
   "outputs": [],
   "source": [
    "# First, make a variable called url_LondonHousePrices, and assign it the following link, enclosed in quotation-marks as a string:\n",
    "# https://data.london.gov.uk/download/uk-house-price-index/70ac0766-8902-4eb5-aab5-01951aaed773/UK%20House%20price%20index.xls\n",
    "\n",
    "url_LondonHousePrices = \"https://data.london.gov.uk/download/uk-house-price-index/70ac0766-8902-4eb5-aab5-01951aaed773/UK%20House%20price%20index.xls\"\n",
    "\n",
    "# The dataset we're interested in contains the Average prices of the houses, and is actually on a particular sheet of the Excel file. \n",
    "# As a result, we need to specify the sheet name in the read_excel() method.\n",
    "# Put this data into a variable called properties.  \n",
    "properties = pd.read_excel(url_LondonHousePrices, sheet_name='Average price', index_col= None)"
   ]
  },
  {
   "cell_type": "markdown",
   "metadata": {
    "colab_type": "text",
    "id": "POukEJXgJpgu"
   },
   "source": [
    "### 2. Cleaning, transforming, and visualizing\n",
    "This second stage is arguably the most important part of any Data Science project. The first thing to do is take a proper look at the data. Cleaning forms the majority of this stage, and can be done both before or after Transformation.\n",
    "\n",
    "**The end goal of data cleaning is to have tidy data. When data is tidy:**\n",
    "\n",
    "> 1. Each variable has a column.\n",
    "2. Each observation forms a row.\n",
    "\n",
    "Keep the end goal in mind as you move through this process, every step will take you closer. \n",
    "\n",
    "\n",
    "\n",
    "***Hint:*** This part of the data science pipeline should test those skills you acquired in: \n",
    "- Intermediate Python for data science, all modules.\n",
    "- pandas Foundations, all modules. \n",
    "- Manipulating DataFrames with pandas, all modules.\n",
    "- Data Types for Data Science, Module Four.\n",
    "- Python Data Science Toolbox - Part One, all modules"
   ]
  },
  {
   "cell_type": "markdown",
   "metadata": {
    "colab_type": "text",
    "id": "Te0Q548tnzZa"
   },
   "source": [
    "**2.1. Exploring your data** \n",
    "\n",
    "Think about your pandas functions for checking out a dataframe. "
   ]
  },
  {
   "cell_type": "code",
   "execution_count": 3,
   "metadata": {
    "ExecuteTime": {
     "end_time": "2020-09-07T01:45:38.377832Z",
     "start_time": "2020-09-07T01:45:38.366425Z"
    },
    "code_folding": [],
    "hide_input": false,
    "run_control": {
     "marked": true
    }
   },
   "outputs": [
    {
     "name": "stdout",
     "output_type": "stream",
     "text": [
      "<class 'pandas.core.frame.DataFrame'>\n",
      "RangeIndex: 305 entries, 0 to 304\n",
      "Data columns (total 49 columns):\n",
      " #   Column                Non-Null Count  Dtype         \n",
      "---  ------                --------------  -----         \n",
      " 0   Unnamed: 0            304 non-null    datetime64[ns]\n",
      " 1   City of London        305 non-null    object        \n",
      " 2   Barking & Dagenham    305 non-null    object        \n",
      " 3   Barnet                305 non-null    object        \n",
      " 4   Bexley                305 non-null    object        \n",
      " 5   Brent                 305 non-null    object        \n",
      " 6   Bromley               305 non-null    object        \n",
      " 7   Camden                305 non-null    object        \n",
      " 8   Croydon               305 non-null    object        \n",
      " 9   Ealing                305 non-null    object        \n",
      " 10  Enfield               305 non-null    object        \n",
      " 11  Greenwich             305 non-null    object        \n",
      " 12  Hackney               305 non-null    object        \n",
      " 13  Hammersmith & Fulham  305 non-null    object        \n",
      " 14  Haringey              305 non-null    object        \n",
      " 15  Harrow                305 non-null    object        \n",
      " 16  Havering              305 non-null    object        \n",
      " 17  Hillingdon            305 non-null    object        \n",
      " 18  Hounslow              305 non-null    object        \n",
      " 19  Islington             305 non-null    object        \n",
      " 20  Kensington & Chelsea  305 non-null    object        \n",
      " 21  Kingston upon Thames  305 non-null    object        \n",
      " 22  Lambeth               305 non-null    object        \n",
      " 23  Lewisham              305 non-null    object        \n",
      " 24  Merton                305 non-null    object        \n",
      " 25  Newham                305 non-null    object        \n",
      " 26  Redbridge             305 non-null    object        \n",
      " 27  Richmond upon Thames  305 non-null    object        \n",
      " 28  Southwark             305 non-null    object        \n",
      " 29  Sutton                305 non-null    object        \n",
      " 30  Tower Hamlets         305 non-null    object        \n",
      " 31  Waltham Forest        305 non-null    object        \n",
      " 32  Wandsworth            305 non-null    object        \n",
      " 33  Westminster           305 non-null    object        \n",
      " 34  Unnamed: 34           0 non-null      float64       \n",
      " 35  Inner London          305 non-null    object        \n",
      " 36  Outer London          305 non-null    object        \n",
      " 37  Unnamed: 37           0 non-null      float64       \n",
      " 38  NORTH EAST            305 non-null    object        \n",
      " 39  NORTH WEST            305 non-null    object        \n",
      " 40  YORKS & THE HUMBER    305 non-null    object        \n",
      " 41  EAST MIDLANDS         305 non-null    object        \n",
      " 42  WEST MIDLANDS         305 non-null    object        \n",
      " 43  EAST OF ENGLAND       305 non-null    object        \n",
      " 44  LONDON                305 non-null    object        \n",
      " 45  SOUTH EAST            305 non-null    object        \n",
      " 46  SOUTH WEST            305 non-null    object        \n",
      " 47  Unnamed: 47           0 non-null      float64       \n",
      " 48  England               305 non-null    object        \n",
      "dtypes: datetime64[ns](1), float64(3), object(45)\n",
      "memory usage: 116.9+ KB\n"
     ]
    }
   ],
   "source": [
    "# overview\n",
    "properties.info()"
   ]
  },
  {
   "cell_type": "markdown",
   "metadata": {},
   "source": [
    "> There are 305 rows and 49 columns where the columns are the name of the boroughs and the rows are the values. Index is a rangeIndex. Datatypes include: datetime, float and object. Nulls need investigating as well as the list of boroughs as there's only 32 in London."
   ]
  },
  {
   "cell_type": "code",
   "execution_count": 4,
   "metadata": {
    "ExecuteTime": {
     "end_time": "2020-09-07T01:45:38.419984Z",
     "start_time": "2020-09-07T01:45:38.380276Z"
    }
   },
   "outputs": [
    {
     "data": {
      "text/html": [
       "<div>\n",
       "<style scoped>\n",
       "    .dataframe tbody tr th:only-of-type {\n",
       "        vertical-align: middle;\n",
       "    }\n",
       "\n",
       "    .dataframe tbody tr th {\n",
       "        vertical-align: top;\n",
       "    }\n",
       "\n",
       "    .dataframe thead th {\n",
       "        text-align: right;\n",
       "    }\n",
       "</style>\n",
       "<table border=\"1\" class=\"dataframe\">\n",
       "  <thead>\n",
       "    <tr style=\"text-align: right;\">\n",
       "      <th></th>\n",
       "      <th>Unnamed: 0</th>\n",
       "      <th>City of London</th>\n",
       "      <th>Barking &amp; Dagenham</th>\n",
       "      <th>Barnet</th>\n",
       "      <th>Bexley</th>\n",
       "      <th>Brent</th>\n",
       "      <th>Bromley</th>\n",
       "      <th>Camden</th>\n",
       "      <th>Croydon</th>\n",
       "      <th>Ealing</th>\n",
       "      <th>...</th>\n",
       "      <th>NORTH WEST</th>\n",
       "      <th>YORKS &amp; THE HUMBER</th>\n",
       "      <th>EAST MIDLANDS</th>\n",
       "      <th>WEST MIDLANDS</th>\n",
       "      <th>EAST OF ENGLAND</th>\n",
       "      <th>LONDON</th>\n",
       "      <th>SOUTH EAST</th>\n",
       "      <th>SOUTH WEST</th>\n",
       "      <th>Unnamed: 47</th>\n",
       "      <th>England</th>\n",
       "    </tr>\n",
       "  </thead>\n",
       "  <tbody>\n",
       "    <tr>\n",
       "      <th>0</th>\n",
       "      <td>NaT</td>\n",
       "      <td>E09000001</td>\n",
       "      <td>E09000002</td>\n",
       "      <td>E09000003</td>\n",
       "      <td>E09000004</td>\n",
       "      <td>E09000005</td>\n",
       "      <td>E09000006</td>\n",
       "      <td>E09000007</td>\n",
       "      <td>E09000008</td>\n",
       "      <td>E09000009</td>\n",
       "      <td>...</td>\n",
       "      <td>E12000002</td>\n",
       "      <td>E12000003</td>\n",
       "      <td>E12000004</td>\n",
       "      <td>E12000005</td>\n",
       "      <td>E12000006</td>\n",
       "      <td>E12000007</td>\n",
       "      <td>E12000008</td>\n",
       "      <td>E12000009</td>\n",
       "      <td>NaN</td>\n",
       "      <td>E92000001</td>\n",
       "    </tr>\n",
       "    <tr>\n",
       "      <th>1</th>\n",
       "      <td>1995-01-01</td>\n",
       "      <td>91449</td>\n",
       "      <td>50460.2</td>\n",
       "      <td>93284.5</td>\n",
       "      <td>64958.1</td>\n",
       "      <td>71306.6</td>\n",
       "      <td>81671.5</td>\n",
       "      <td>120933</td>\n",
       "      <td>69158.2</td>\n",
       "      <td>79885.9</td>\n",
       "      <td>...</td>\n",
       "      <td>43958.5</td>\n",
       "      <td>44803.4</td>\n",
       "      <td>45544.5</td>\n",
       "      <td>48527.5</td>\n",
       "      <td>56701.6</td>\n",
       "      <td>74435.8</td>\n",
       "      <td>64018.9</td>\n",
       "      <td>54705.2</td>\n",
       "      <td>NaN</td>\n",
       "      <td>53202.8</td>\n",
       "    </tr>\n",
       "    <tr>\n",
       "      <th>2</th>\n",
       "      <td>1995-02-01</td>\n",
       "      <td>82202.8</td>\n",
       "      <td>51085.8</td>\n",
       "      <td>93190.2</td>\n",
       "      <td>64787.9</td>\n",
       "      <td>72022.3</td>\n",
       "      <td>81657.6</td>\n",
       "      <td>119509</td>\n",
       "      <td>68951.1</td>\n",
       "      <td>80897.1</td>\n",
       "      <td>...</td>\n",
       "      <td>43925.4</td>\n",
       "      <td>44528.8</td>\n",
       "      <td>46051.6</td>\n",
       "      <td>49341.3</td>\n",
       "      <td>56593.6</td>\n",
       "      <td>72777.9</td>\n",
       "      <td>63715</td>\n",
       "      <td>54356.1</td>\n",
       "      <td>NaN</td>\n",
       "      <td>53096.2</td>\n",
       "    </tr>\n",
       "    <tr>\n",
       "      <th>3</th>\n",
       "      <td>1995-03-01</td>\n",
       "      <td>79120.7</td>\n",
       "      <td>51269</td>\n",
       "      <td>92247.5</td>\n",
       "      <td>64367.5</td>\n",
       "      <td>72015.8</td>\n",
       "      <td>81449.3</td>\n",
       "      <td>120282</td>\n",
       "      <td>68712.4</td>\n",
       "      <td>81379.9</td>\n",
       "      <td>...</td>\n",
       "      <td>44434.9</td>\n",
       "      <td>45200.5</td>\n",
       "      <td>45383.8</td>\n",
       "      <td>49442.2</td>\n",
       "      <td>56171.2</td>\n",
       "      <td>73896.8</td>\n",
       "      <td>64113.6</td>\n",
       "      <td>53583.1</td>\n",
       "      <td>NaN</td>\n",
       "      <td>53201.3</td>\n",
       "    </tr>\n",
       "    <tr>\n",
       "      <th>4</th>\n",
       "      <td>1995-04-01</td>\n",
       "      <td>77101.2</td>\n",
       "      <td>53133.5</td>\n",
       "      <td>90762.9</td>\n",
       "      <td>64277.7</td>\n",
       "      <td>72965.6</td>\n",
       "      <td>81124.4</td>\n",
       "      <td>120098</td>\n",
       "      <td>68610</td>\n",
       "      <td>82188.9</td>\n",
       "      <td>...</td>\n",
       "      <td>44267.8</td>\n",
       "      <td>45614.3</td>\n",
       "      <td>46124.2</td>\n",
       "      <td>49455.9</td>\n",
       "      <td>56567.9</td>\n",
       "      <td>74455.3</td>\n",
       "      <td>64623.2</td>\n",
       "      <td>54786</td>\n",
       "      <td>NaN</td>\n",
       "      <td>53590.9</td>\n",
       "    </tr>\n",
       "  </tbody>\n",
       "</table>\n",
       "<p>5 rows × 49 columns</p>\n",
       "</div>"
      ],
      "text/plain": [
       "  Unnamed: 0 City of London Barking & Dagenham     Barnet     Bexley      Brent    Bromley     Camden    Croydon     Ealing  ... NORTH WEST YORKS & THE HUMBER EAST MIDLANDS WEST MIDLANDS  \\\n",
       "0        NaT      E09000001          E09000002  E09000003  E09000004  E09000005  E09000006  E09000007  E09000008  E09000009  ...  E12000002          E12000003     E12000004     E12000005   \n",
       "1 1995-01-01          91449            50460.2    93284.5    64958.1    71306.6    81671.5     120933    69158.2    79885.9  ...    43958.5            44803.4       45544.5       48527.5   \n",
       "2 1995-02-01        82202.8            51085.8    93190.2    64787.9    72022.3    81657.6     119509    68951.1    80897.1  ...    43925.4            44528.8       46051.6       49341.3   \n",
       "3 1995-03-01        79120.7              51269    92247.5    64367.5    72015.8    81449.3     120282    68712.4    81379.9  ...    44434.9            45200.5       45383.8       49442.2   \n",
       "4 1995-04-01        77101.2            53133.5    90762.9    64277.7    72965.6    81124.4     120098      68610    82188.9  ...    44267.8            45614.3       46124.2       49455.9   \n",
       "\n",
       "  EAST OF ENGLAND     LONDON SOUTH EAST SOUTH WEST Unnamed: 47    England  \n",
       "0       E12000006  E12000007  E12000008  E12000009         NaN  E92000001  \n",
       "1         56701.6    74435.8    64018.9    54705.2         NaN    53202.8  \n",
       "2         56593.6    72777.9      63715    54356.1         NaN    53096.2  \n",
       "3         56171.2    73896.8    64113.6    53583.1         NaN    53201.3  \n",
       "4         56567.9    74455.3    64623.2      54786         NaN    53590.9  \n",
       "\n",
       "[5 rows x 49 columns]"
      ]
     },
     "execution_count": 4,
     "metadata": {},
     "output_type": "execute_result"
    }
   ],
   "source": [
    "properties.head()"
   ]
  },
  {
   "cell_type": "code",
   "execution_count": 5,
   "metadata": {
    "ExecuteTime": {
     "end_time": "2020-09-07T01:45:38.437012Z",
     "start_time": "2020-09-07T01:45:38.421280Z"
    },
    "scrolled": true
   },
   "outputs": [
    {
     "data": {
      "text/html": [
       "<div>\n",
       "<style scoped>\n",
       "    .dataframe tbody tr th:only-of-type {\n",
       "        vertical-align: middle;\n",
       "    }\n",
       "\n",
       "    .dataframe tbody tr th {\n",
       "        vertical-align: top;\n",
       "    }\n",
       "\n",
       "    .dataframe thead th {\n",
       "        text-align: right;\n",
       "    }\n",
       "</style>\n",
       "<table border=\"1\" class=\"dataframe\">\n",
       "  <thead>\n",
       "    <tr style=\"text-align: right;\">\n",
       "      <th></th>\n",
       "      <th>Unnamed: 0</th>\n",
       "      <th>City of London</th>\n",
       "      <th>Barking &amp; Dagenham</th>\n",
       "      <th>Barnet</th>\n",
       "      <th>Bexley</th>\n",
       "      <th>Brent</th>\n",
       "      <th>Bromley</th>\n",
       "      <th>Camden</th>\n",
       "      <th>Croydon</th>\n",
       "      <th>Ealing</th>\n",
       "      <th>...</th>\n",
       "      <th>NORTH WEST</th>\n",
       "      <th>YORKS &amp; THE HUMBER</th>\n",
       "      <th>EAST MIDLANDS</th>\n",
       "      <th>WEST MIDLANDS</th>\n",
       "      <th>EAST OF ENGLAND</th>\n",
       "      <th>LONDON</th>\n",
       "      <th>SOUTH EAST</th>\n",
       "      <th>SOUTH WEST</th>\n",
       "      <th>Unnamed: 47</th>\n",
       "      <th>England</th>\n",
       "    </tr>\n",
       "  </thead>\n",
       "  <tbody>\n",
       "    <tr>\n",
       "      <th>300</th>\n",
       "      <td>2019-12-01</td>\n",
       "      <td>737275</td>\n",
       "      <td>301283</td>\n",
       "      <td>519306</td>\n",
       "      <td>336302</td>\n",
       "      <td>427126</td>\n",
       "      <td>438682</td>\n",
       "      <td>807124</td>\n",
       "      <td>369568</td>\n",
       "      <td>469662</td>\n",
       "      <td>...</td>\n",
       "      <td>164893</td>\n",
       "      <td>165818</td>\n",
       "      <td>194553</td>\n",
       "      <td>198644</td>\n",
       "      <td>290814</td>\n",
       "      <td>478576</td>\n",
       "      <td>321972</td>\n",
       "      <td>256577</td>\n",
       "      <td>NaN</td>\n",
       "      <td>248250</td>\n",
       "    </tr>\n",
       "    <tr>\n",
       "      <th>301</th>\n",
       "      <td>2020-01-01</td>\n",
       "      <td>747611</td>\n",
       "      <td>303653</td>\n",
       "      <td>518542</td>\n",
       "      <td>334765</td>\n",
       "      <td>423161</td>\n",
       "      <td>435532</td>\n",
       "      <td>815512</td>\n",
       "      <td>371227</td>\n",
       "      <td>466491</td>\n",
       "      <td>...</td>\n",
       "      <td>165094</td>\n",
       "      <td>164752</td>\n",
       "      <td>196199</td>\n",
       "      <td>202085</td>\n",
       "      <td>290335</td>\n",
       "      <td>478489</td>\n",
       "      <td>323422</td>\n",
       "      <td>257822</td>\n",
       "      <td>NaN</td>\n",
       "      <td>248950</td>\n",
       "    </tr>\n",
       "    <tr>\n",
       "      <th>302</th>\n",
       "      <td>2020-02-01</td>\n",
       "      <td>777640</td>\n",
       "      <td>304265</td>\n",
       "      <td>519121</td>\n",
       "      <td>337760</td>\n",
       "      <td>467145</td>\n",
       "      <td>435704</td>\n",
       "      <td>825249</td>\n",
       "      <td>371357</td>\n",
       "      <td>465614</td>\n",
       "      <td>...</td>\n",
       "      <td>166291</td>\n",
       "      <td>164949</td>\n",
       "      <td>194214</td>\n",
       "      <td>200196</td>\n",
       "      <td>290309</td>\n",
       "      <td>479628</td>\n",
       "      <td>319827</td>\n",
       "      <td>257101</td>\n",
       "      <td>NaN</td>\n",
       "      <td>248232</td>\n",
       "    </tr>\n",
       "    <tr>\n",
       "      <th>303</th>\n",
       "      <td>2020-03-01</td>\n",
       "      <td>844989</td>\n",
       "      <td>304099</td>\n",
       "      <td>527747</td>\n",
       "      <td>339215</td>\n",
       "      <td>461398</td>\n",
       "      <td>434625</td>\n",
       "      <td>870107</td>\n",
       "      <td>370872</td>\n",
       "      <td>478565</td>\n",
       "      <td>...</td>\n",
       "      <td>168161</td>\n",
       "      <td>165685</td>\n",
       "      <td>198284</td>\n",
       "      <td>201369</td>\n",
       "      <td>291356</td>\n",
       "      <td>488185</td>\n",
       "      <td>326701</td>\n",
       "      <td>262444</td>\n",
       "      <td>NaN</td>\n",
       "      <td>251539</td>\n",
       "    </tr>\n",
       "    <tr>\n",
       "      <th>304</th>\n",
       "      <td>2020-04-01</td>\n",
       "      <td>867841</td>\n",
       "      <td>283139</td>\n",
       "      <td>526553</td>\n",
       "      <td>346840</td>\n",
       "      <td>494455</td>\n",
       "      <td>443482</td>\n",
       "      <td>870627</td>\n",
       "      <td>386738</td>\n",
       "      <td>502107</td>\n",
       "      <td>...</td>\n",
       "      <td>167809</td>\n",
       "      <td>165561</td>\n",
       "      <td>200513</td>\n",
       "      <td>202093</td>\n",
       "      <td>295640</td>\n",
       "      <td>480425</td>\n",
       "      <td>327413</td>\n",
       "      <td>255891</td>\n",
       "      <td>NaN</td>\n",
       "      <td>250874</td>\n",
       "    </tr>\n",
       "  </tbody>\n",
       "</table>\n",
       "<p>5 rows × 49 columns</p>\n",
       "</div>"
      ],
      "text/plain": [
       "    Unnamed: 0 City of London Barking & Dagenham  Barnet  Bexley   Brent Bromley  Camden Croydon  Ealing  ... NORTH WEST YORKS & THE HUMBER EAST MIDLANDS WEST MIDLANDS EAST OF ENGLAND  LONDON  \\\n",
       "300 2019-12-01         737275             301283  519306  336302  427126  438682  807124  369568  469662  ...     164893             165818        194553        198644          290814  478576   \n",
       "301 2020-01-01         747611             303653  518542  334765  423161  435532  815512  371227  466491  ...     165094             164752        196199        202085          290335  478489   \n",
       "302 2020-02-01         777640             304265  519121  337760  467145  435704  825249  371357  465614  ...     166291             164949        194214        200196          290309  479628   \n",
       "303 2020-03-01         844989             304099  527747  339215  461398  434625  870107  370872  478565  ...     168161             165685        198284        201369          291356  488185   \n",
       "304 2020-04-01         867841             283139  526553  346840  494455  443482  870627  386738  502107  ...     167809             165561        200513        202093          295640  480425   \n",
       "\n",
       "    SOUTH EAST SOUTH WEST Unnamed: 47 England  \n",
       "300     321972     256577         NaN  248250  \n",
       "301     323422     257822         NaN  248950  \n",
       "302     319827     257101         NaN  248232  \n",
       "303     326701     262444         NaN  251539  \n",
       "304     327413     255891         NaN  250874  \n",
       "\n",
       "[5 rows x 49 columns]"
      ]
     },
     "execution_count": 5,
     "metadata": {},
     "output_type": "execute_result"
    }
   ],
   "source": [
    "properties.tail()"
   ]
  },
  {
   "cell_type": "markdown",
   "metadata": {},
   "source": [
    "> Dates are from 1995-2020. Dataframe definitely needs reformatting including (1) resetting index (2) renaming columns (3) dropping nulls if needed."
   ]
  },
  {
   "cell_type": "code",
   "execution_count": 6,
   "metadata": {
    "ExecuteTime": {
     "end_time": "2020-09-07T01:45:38.449912Z",
     "start_time": "2020-09-07T01:45:38.438440Z"
    }
   },
   "outputs": [
    {
     "data": {
      "text/html": [
       "<div>\n",
       "<style scoped>\n",
       "    .dataframe tbody tr th:only-of-type {\n",
       "        vertical-align: middle;\n",
       "    }\n",
       "\n",
       "    .dataframe tbody tr th {\n",
       "        vertical-align: top;\n",
       "    }\n",
       "\n",
       "    .dataframe thead th {\n",
       "        text-align: right;\n",
       "    }\n",
       "</style>\n",
       "<table border=\"1\" class=\"dataframe\">\n",
       "  <thead>\n",
       "    <tr style=\"text-align: right;\">\n",
       "      <th></th>\n",
       "      <th>Unnamed: 34</th>\n",
       "      <th>Unnamed: 37</th>\n",
       "      <th>Unnamed: 47</th>\n",
       "    </tr>\n",
       "  </thead>\n",
       "  <tbody>\n",
       "    <tr>\n",
       "      <th>count</th>\n",
       "      <td>0.0</td>\n",
       "      <td>0.0</td>\n",
       "      <td>0.0</td>\n",
       "    </tr>\n",
       "    <tr>\n",
       "      <th>mean</th>\n",
       "      <td>NaN</td>\n",
       "      <td>NaN</td>\n",
       "      <td>NaN</td>\n",
       "    </tr>\n",
       "    <tr>\n",
       "      <th>std</th>\n",
       "      <td>NaN</td>\n",
       "      <td>NaN</td>\n",
       "      <td>NaN</td>\n",
       "    </tr>\n",
       "    <tr>\n",
       "      <th>min</th>\n",
       "      <td>NaN</td>\n",
       "      <td>NaN</td>\n",
       "      <td>NaN</td>\n",
       "    </tr>\n",
       "    <tr>\n",
       "      <th>25%</th>\n",
       "      <td>NaN</td>\n",
       "      <td>NaN</td>\n",
       "      <td>NaN</td>\n",
       "    </tr>\n",
       "    <tr>\n",
       "      <th>50%</th>\n",
       "      <td>NaN</td>\n",
       "      <td>NaN</td>\n",
       "      <td>NaN</td>\n",
       "    </tr>\n",
       "    <tr>\n",
       "      <th>75%</th>\n",
       "      <td>NaN</td>\n",
       "      <td>NaN</td>\n",
       "      <td>NaN</td>\n",
       "    </tr>\n",
       "    <tr>\n",
       "      <th>max</th>\n",
       "      <td>NaN</td>\n",
       "      <td>NaN</td>\n",
       "      <td>NaN</td>\n",
       "    </tr>\n",
       "  </tbody>\n",
       "</table>\n",
       "</div>"
      ],
      "text/plain": [
       "       Unnamed: 34  Unnamed: 37  Unnamed: 47\n",
       "count          0.0          0.0          0.0\n",
       "mean           NaN          NaN          NaN\n",
       "std            NaN          NaN          NaN\n",
       "min            NaN          NaN          NaN\n",
       "25%            NaN          NaN          NaN\n",
       "50%            NaN          NaN          NaN\n",
       "75%            NaN          NaN          NaN\n",
       "max            NaN          NaN          NaN"
      ]
     },
     "execution_count": 6,
     "metadata": {},
     "output_type": "execute_result"
    }
   ],
   "source": [
    "# checking out the floats \n",
    "properties.describe()"
   ]
  },
  {
   "cell_type": "markdown",
   "metadata": {
    "colab": {},
    "colab_type": "code",
    "id": "Rxirxw_qoAJa"
   },
   "source": [
    ">These are all the NaNs! Explore more."
   ]
  },
  {
   "cell_type": "markdown",
   "metadata": {
    "colab_type": "text",
    "id": "tE9Sqt9-oAta"
   },
   "source": [
    "**2.2 Cleaning the data (Reformatting)**\n",
    "\n",
    "You might find you need to transpose your dataframe, check out what its row indexes are, and reset the index. You  also might find you need to assign the values of the first row to your column headings  . (Hint: recall the .columns feature of DataFrames, as well as the iloc[] method).\n",
    "\n",
    "Don't be afraid to use StackOverflow for help  with this."
   ]
  },
  {
   "cell_type": "code",
   "execution_count": 7,
   "metadata": {
    "ExecuteTime": {
     "end_time": "2020-09-07T01:45:38.482248Z",
     "start_time": "2020-09-07T01:45:38.451567Z"
    },
    "colab": {},
    "colab_type": "code",
    "id": "cdAu1A3YoH_r"
   },
   "outputs": [
    {
     "data": {
      "text/html": [
       "<div>\n",
       "<style scoped>\n",
       "    .dataframe tbody tr th:only-of-type {\n",
       "        vertical-align: middle;\n",
       "    }\n",
       "\n",
       "    .dataframe tbody tr th {\n",
       "        vertical-align: top;\n",
       "    }\n",
       "\n",
       "    .dataframe thead th {\n",
       "        text-align: right;\n",
       "    }\n",
       "</style>\n",
       "<table border=\"1\" class=\"dataframe\">\n",
       "  <thead>\n",
       "    <tr style=\"text-align: right;\">\n",
       "      <th></th>\n",
       "      <th>0</th>\n",
       "      <th>1</th>\n",
       "      <th>2</th>\n",
       "      <th>3</th>\n",
       "      <th>4</th>\n",
       "      <th>5</th>\n",
       "      <th>6</th>\n",
       "      <th>7</th>\n",
       "      <th>8</th>\n",
       "      <th>9</th>\n",
       "      <th>...</th>\n",
       "      <th>295</th>\n",
       "      <th>296</th>\n",
       "      <th>297</th>\n",
       "      <th>298</th>\n",
       "      <th>299</th>\n",
       "      <th>300</th>\n",
       "      <th>301</th>\n",
       "      <th>302</th>\n",
       "      <th>303</th>\n",
       "      <th>304</th>\n",
       "    </tr>\n",
       "  </thead>\n",
       "  <tbody>\n",
       "    <tr>\n",
       "      <th>Unnamed: 0</th>\n",
       "      <td>NaT</td>\n",
       "      <td>1995-01-01 00:00:00</td>\n",
       "      <td>1995-02-01 00:00:00</td>\n",
       "      <td>1995-03-01 00:00:00</td>\n",
       "      <td>1995-04-01 00:00:00</td>\n",
       "      <td>1995-05-01 00:00:00</td>\n",
       "      <td>1995-06-01 00:00:00</td>\n",
       "      <td>1995-07-01 00:00:00</td>\n",
       "      <td>1995-08-01 00:00:00</td>\n",
       "      <td>1995-09-01 00:00:00</td>\n",
       "      <td>...</td>\n",
       "      <td>2019-07-01 00:00:00</td>\n",
       "      <td>2019-08-01 00:00:00</td>\n",
       "      <td>2019-09-01 00:00:00</td>\n",
       "      <td>2019-10-01 00:00:00</td>\n",
       "      <td>2019-11-01 00:00:00</td>\n",
       "      <td>2019-12-01 00:00:00</td>\n",
       "      <td>2020-01-01 00:00:00</td>\n",
       "      <td>2020-02-01 00:00:00</td>\n",
       "      <td>2020-03-01 00:00:00</td>\n",
       "      <td>2020-04-01 00:00:00</td>\n",
       "    </tr>\n",
       "    <tr>\n",
       "      <th>City of London</th>\n",
       "      <td>E09000001</td>\n",
       "      <td>91449</td>\n",
       "      <td>82202.8</td>\n",
       "      <td>79120.7</td>\n",
       "      <td>77101.2</td>\n",
       "      <td>84409.1</td>\n",
       "      <td>94900.5</td>\n",
       "      <td>110128</td>\n",
       "      <td>112329</td>\n",
       "      <td>104473</td>\n",
       "      <td>...</td>\n",
       "      <td>756407</td>\n",
       "      <td>813770</td>\n",
       "      <td>810455</td>\n",
       "      <td>826227</td>\n",
       "      <td>776894</td>\n",
       "      <td>737275</td>\n",
       "      <td>747611</td>\n",
       "      <td>777640</td>\n",
       "      <td>844989</td>\n",
       "      <td>867841</td>\n",
       "    </tr>\n",
       "    <tr>\n",
       "      <th>Barking &amp; Dagenham</th>\n",
       "      <td>E09000002</td>\n",
       "      <td>50460.2</td>\n",
       "      <td>51085.8</td>\n",
       "      <td>51269</td>\n",
       "      <td>53133.5</td>\n",
       "      <td>53042.2</td>\n",
       "      <td>53700.3</td>\n",
       "      <td>52113.1</td>\n",
       "      <td>52232.2</td>\n",
       "      <td>51471.6</td>\n",
       "      <td>...</td>\n",
       "      <td>297426</td>\n",
       "      <td>299421</td>\n",
       "      <td>304778</td>\n",
       "      <td>304579</td>\n",
       "      <td>306390</td>\n",
       "      <td>301283</td>\n",
       "      <td>303653</td>\n",
       "      <td>304265</td>\n",
       "      <td>304099</td>\n",
       "      <td>283139</td>\n",
       "    </tr>\n",
       "    <tr>\n",
       "      <th>Barnet</th>\n",
       "      <td>E09000003</td>\n",
       "      <td>93284.5</td>\n",
       "      <td>93190.2</td>\n",
       "      <td>92247.5</td>\n",
       "      <td>90762.9</td>\n",
       "      <td>90258</td>\n",
       "      <td>90107.2</td>\n",
       "      <td>91441.2</td>\n",
       "      <td>92361.3</td>\n",
       "      <td>93273.1</td>\n",
       "      <td>...</td>\n",
       "      <td>514668</td>\n",
       "      <td>528577</td>\n",
       "      <td>526670</td>\n",
       "      <td>525678</td>\n",
       "      <td>522639</td>\n",
       "      <td>519306</td>\n",
       "      <td>518542</td>\n",
       "      <td>519121</td>\n",
       "      <td>527747</td>\n",
       "      <td>526553</td>\n",
       "    </tr>\n",
       "    <tr>\n",
       "      <th>Bexley</th>\n",
       "      <td>E09000004</td>\n",
       "      <td>64958.1</td>\n",
       "      <td>64787.9</td>\n",
       "      <td>64367.5</td>\n",
       "      <td>64277.7</td>\n",
       "      <td>63997.1</td>\n",
       "      <td>64252.3</td>\n",
       "      <td>63722.7</td>\n",
       "      <td>64432.6</td>\n",
       "      <td>64509.5</td>\n",
       "      <td>...</td>\n",
       "      <td>338346</td>\n",
       "      <td>337523</td>\n",
       "      <td>333340</td>\n",
       "      <td>332920</td>\n",
       "      <td>333657</td>\n",
       "      <td>336302</td>\n",
       "      <td>334765</td>\n",
       "      <td>337760</td>\n",
       "      <td>339215</td>\n",
       "      <td>346840</td>\n",
       "    </tr>\n",
       "    <tr>\n",
       "      <th>...</th>\n",
       "      <td>...</td>\n",
       "      <td>...</td>\n",
       "      <td>...</td>\n",
       "      <td>...</td>\n",
       "      <td>...</td>\n",
       "      <td>...</td>\n",
       "      <td>...</td>\n",
       "      <td>...</td>\n",
       "      <td>...</td>\n",
       "      <td>...</td>\n",
       "      <td>...</td>\n",
       "      <td>...</td>\n",
       "      <td>...</td>\n",
       "      <td>...</td>\n",
       "      <td>...</td>\n",
       "      <td>...</td>\n",
       "      <td>...</td>\n",
       "      <td>...</td>\n",
       "      <td>...</td>\n",
       "      <td>...</td>\n",
       "      <td>...</td>\n",
       "    </tr>\n",
       "    <tr>\n",
       "      <th>LONDON</th>\n",
       "      <td>E12000007</td>\n",
       "      <td>74435.8</td>\n",
       "      <td>72777.9</td>\n",
       "      <td>73896.8</td>\n",
       "      <td>74455.3</td>\n",
       "      <td>75432</td>\n",
       "      <td>75606.2</td>\n",
       "      <td>75984.2</td>\n",
       "      <td>75529.3</td>\n",
       "      <td>74940.8</td>\n",
       "      <td>...</td>\n",
       "      <td>478858</td>\n",
       "      <td>472872</td>\n",
       "      <td>477779</td>\n",
       "      <td>474156</td>\n",
       "      <td>468983</td>\n",
       "      <td>478576</td>\n",
       "      <td>478489</td>\n",
       "      <td>479628</td>\n",
       "      <td>488185</td>\n",
       "      <td>480425</td>\n",
       "    </tr>\n",
       "    <tr>\n",
       "      <th>SOUTH EAST</th>\n",
       "      <td>E12000008</td>\n",
       "      <td>64018.9</td>\n",
       "      <td>63715</td>\n",
       "      <td>64113.6</td>\n",
       "      <td>64623.2</td>\n",
       "      <td>64530.4</td>\n",
       "      <td>65511</td>\n",
       "      <td>65224.9</td>\n",
       "      <td>64851.6</td>\n",
       "      <td>64352.5</td>\n",
       "      <td>...</td>\n",
       "      <td>322863</td>\n",
       "      <td>323122</td>\n",
       "      <td>324357</td>\n",
       "      <td>323278</td>\n",
       "      <td>322512</td>\n",
       "      <td>321972</td>\n",
       "      <td>323422</td>\n",
       "      <td>319827</td>\n",
       "      <td>326701</td>\n",
       "      <td>327413</td>\n",
       "    </tr>\n",
       "    <tr>\n",
       "      <th>SOUTH WEST</th>\n",
       "      <td>E12000009</td>\n",
       "      <td>54705.2</td>\n",
       "      <td>54356.1</td>\n",
       "      <td>53583.1</td>\n",
       "      <td>54786</td>\n",
       "      <td>54698.8</td>\n",
       "      <td>54420.2</td>\n",
       "      <td>54265.9</td>\n",
       "      <td>54365.7</td>\n",
       "      <td>54244</td>\n",
       "      <td>...</td>\n",
       "      <td>258449</td>\n",
       "      <td>258241</td>\n",
       "      <td>258751</td>\n",
       "      <td>258880</td>\n",
       "      <td>256875</td>\n",
       "      <td>256577</td>\n",
       "      <td>257822</td>\n",
       "      <td>257101</td>\n",
       "      <td>262444</td>\n",
       "      <td>255891</td>\n",
       "    </tr>\n",
       "    <tr>\n",
       "      <th>Unnamed: 47</th>\n",
       "      <td>NaN</td>\n",
       "      <td>NaN</td>\n",
       "      <td>NaN</td>\n",
       "      <td>NaN</td>\n",
       "      <td>NaN</td>\n",
       "      <td>NaN</td>\n",
       "      <td>NaN</td>\n",
       "      <td>NaN</td>\n",
       "      <td>NaN</td>\n",
       "      <td>NaN</td>\n",
       "      <td>...</td>\n",
       "      <td>NaN</td>\n",
       "      <td>NaN</td>\n",
       "      <td>NaN</td>\n",
       "      <td>NaN</td>\n",
       "      <td>NaN</td>\n",
       "      <td>NaN</td>\n",
       "      <td>NaN</td>\n",
       "      <td>NaN</td>\n",
       "      <td>NaN</td>\n",
       "      <td>NaN</td>\n",
       "    </tr>\n",
       "    <tr>\n",
       "      <th>England</th>\n",
       "      <td>E92000001</td>\n",
       "      <td>53202.8</td>\n",
       "      <td>53096.2</td>\n",
       "      <td>53201.3</td>\n",
       "      <td>53590.9</td>\n",
       "      <td>53678.2</td>\n",
       "      <td>53735.2</td>\n",
       "      <td>53900.6</td>\n",
       "      <td>53600.3</td>\n",
       "      <td>53309.2</td>\n",
       "      <td>...</td>\n",
       "      <td>248652</td>\n",
       "      <td>249294</td>\n",
       "      <td>249771</td>\n",
       "      <td>249152</td>\n",
       "      <td>247951</td>\n",
       "      <td>248250</td>\n",
       "      <td>248950</td>\n",
       "      <td>248232</td>\n",
       "      <td>251539</td>\n",
       "      <td>250874</td>\n",
       "    </tr>\n",
       "  </tbody>\n",
       "</table>\n",
       "<p>49 rows × 305 columns</p>\n",
       "</div>"
      ],
      "text/plain": [
       "                          0                    1                    2                    3                    4                    5                    6                    7                    8    \\\n",
       "Unnamed: 0                NaT  1995-01-01 00:00:00  1995-02-01 00:00:00  1995-03-01 00:00:00  1995-04-01 00:00:00  1995-05-01 00:00:00  1995-06-01 00:00:00  1995-07-01 00:00:00  1995-08-01 00:00:00   \n",
       "City of London      E09000001                91449              82202.8              79120.7              77101.2              84409.1              94900.5               110128               112329   \n",
       "Barking & Dagenham  E09000002              50460.2              51085.8                51269              53133.5              53042.2              53700.3              52113.1              52232.2   \n",
       "Barnet              E09000003              93284.5              93190.2              92247.5              90762.9                90258              90107.2              91441.2              92361.3   \n",
       "Bexley              E09000004              64958.1              64787.9              64367.5              64277.7              63997.1              64252.3              63722.7              64432.6   \n",
       "...                       ...                  ...                  ...                  ...                  ...                  ...                  ...                  ...                  ...   \n",
       "LONDON              E12000007              74435.8              72777.9              73896.8              74455.3                75432              75606.2              75984.2              75529.3   \n",
       "SOUTH EAST          E12000008              64018.9                63715              64113.6              64623.2              64530.4                65511              65224.9              64851.6   \n",
       "SOUTH WEST          E12000009              54705.2              54356.1              53583.1                54786              54698.8              54420.2              54265.9              54365.7   \n",
       "Unnamed: 47               NaN                  NaN                  NaN                  NaN                  NaN                  NaN                  NaN                  NaN                  NaN   \n",
       "England             E92000001              53202.8              53096.2              53201.3              53590.9              53678.2              53735.2              53900.6              53600.3   \n",
       "\n",
       "                                    9    ...                  295                  296                  297                  298                  299                  300                  301  \\\n",
       "Unnamed: 0          1995-09-01 00:00:00  ...  2019-07-01 00:00:00  2019-08-01 00:00:00  2019-09-01 00:00:00  2019-10-01 00:00:00  2019-11-01 00:00:00  2019-12-01 00:00:00  2020-01-01 00:00:00   \n",
       "City of London                   104473  ...               756407               813770               810455               826227               776894               737275               747611   \n",
       "Barking & Dagenham              51471.6  ...               297426               299421               304778               304579               306390               301283               303653   \n",
       "Barnet                          93273.1  ...               514668               528577               526670               525678               522639               519306               518542   \n",
       "Bexley                          64509.5  ...               338346               337523               333340               332920               333657               336302               334765   \n",
       "...                                 ...  ...                  ...                  ...                  ...                  ...                  ...                  ...                  ...   \n",
       "LONDON                          74940.8  ...               478858               472872               477779               474156               468983               478576               478489   \n",
       "SOUTH EAST                      64352.5  ...               322863               323122               324357               323278               322512               321972               323422   \n",
       "SOUTH WEST                        54244  ...               258449               258241               258751               258880               256875               256577               257822   \n",
       "Unnamed: 47                         NaN  ...                  NaN                  NaN                  NaN                  NaN                  NaN                  NaN                  NaN   \n",
       "England                         53309.2  ...               248652               249294               249771               249152               247951               248250               248950   \n",
       "\n",
       "                                    302                  303                  304  \n",
       "Unnamed: 0          2020-02-01 00:00:00  2020-03-01 00:00:00  2020-04-01 00:00:00  \n",
       "City of London                   777640               844989               867841  \n",
       "Barking & Dagenham               304265               304099               283139  \n",
       "Barnet                           519121               527747               526553  \n",
       "Bexley                           337760               339215               346840  \n",
       "...                                 ...                  ...                  ...  \n",
       "LONDON                           479628               488185               480425  \n",
       "SOUTH EAST                       319827               326701               327413  \n",
       "SOUTH WEST                       257101               262444               255891  \n",
       "Unnamed: 47                         NaN                  NaN                  NaN  \n",
       "England                          248232               251539               250874  \n",
       "\n",
       "[49 rows x 305 columns]"
      ]
     },
     "execution_count": 7,
     "metadata": {},
     "output_type": "execute_result"
    }
   ],
   "source": [
    "# transpose\n",
    "properties = properties.T\n",
    "properties"
   ]
  },
  {
   "cell_type": "markdown",
   "metadata": {},
   "source": [
    "> (1) `NaT` represents missing values but for datetime! It's different from `NaN`. Check what's the differences between all the null types! (2) **Unique ID:** looks like values `E09000001` could be unique for each borough.\n",
    "\n"
   ]
  },
  {
   "cell_type": "code",
   "execution_count": 8,
   "metadata": {
    "ExecuteTime": {
     "end_time": "2020-09-07T01:45:38.504862Z",
     "start_time": "2020-09-07T01:45:38.484962Z"
    }
   },
   "outputs": [
    {
     "data": {
      "text/html": [
       "<div>\n",
       "<style scoped>\n",
       "    .dataframe tbody tr th:only-of-type {\n",
       "        vertical-align: middle;\n",
       "    }\n",
       "\n",
       "    .dataframe tbody tr th {\n",
       "        vertical-align: top;\n",
       "    }\n",
       "\n",
       "    .dataframe thead th {\n",
       "        text-align: right;\n",
       "    }\n",
       "</style>\n",
       "<table border=\"1\" class=\"dataframe\">\n",
       "  <thead>\n",
       "    <tr style=\"text-align: right;\">\n",
       "      <th></th>\n",
       "      <th>index</th>\n",
       "      <th>0</th>\n",
       "      <th>1</th>\n",
       "      <th>2</th>\n",
       "      <th>3</th>\n",
       "      <th>4</th>\n",
       "      <th>5</th>\n",
       "      <th>6</th>\n",
       "      <th>7</th>\n",
       "      <th>8</th>\n",
       "      <th>...</th>\n",
       "      <th>295</th>\n",
       "      <th>296</th>\n",
       "      <th>297</th>\n",
       "      <th>298</th>\n",
       "      <th>299</th>\n",
       "      <th>300</th>\n",
       "      <th>301</th>\n",
       "      <th>302</th>\n",
       "      <th>303</th>\n",
       "      <th>304</th>\n",
       "    </tr>\n",
       "  </thead>\n",
       "  <tbody>\n",
       "    <tr>\n",
       "      <th>0</th>\n",
       "      <td>Unnamed: 0</td>\n",
       "      <td>NaT</td>\n",
       "      <td>1995-01-01 00:00:00</td>\n",
       "      <td>1995-02-01 00:00:00</td>\n",
       "      <td>1995-03-01 00:00:00</td>\n",
       "      <td>1995-04-01 00:00:00</td>\n",
       "      <td>1995-05-01 00:00:00</td>\n",
       "      <td>1995-06-01 00:00:00</td>\n",
       "      <td>1995-07-01 00:00:00</td>\n",
       "      <td>1995-08-01 00:00:00</td>\n",
       "      <td>...</td>\n",
       "      <td>2019-07-01 00:00:00</td>\n",
       "      <td>2019-08-01 00:00:00</td>\n",
       "      <td>2019-09-01 00:00:00</td>\n",
       "      <td>2019-10-01 00:00:00</td>\n",
       "      <td>2019-11-01 00:00:00</td>\n",
       "      <td>2019-12-01 00:00:00</td>\n",
       "      <td>2020-01-01 00:00:00</td>\n",
       "      <td>2020-02-01 00:00:00</td>\n",
       "      <td>2020-03-01 00:00:00</td>\n",
       "      <td>2020-04-01 00:00:00</td>\n",
       "    </tr>\n",
       "    <tr>\n",
       "      <th>1</th>\n",
       "      <td>City of London</td>\n",
       "      <td>E09000001</td>\n",
       "      <td>91449</td>\n",
       "      <td>82202.8</td>\n",
       "      <td>79120.7</td>\n",
       "      <td>77101.2</td>\n",
       "      <td>84409.1</td>\n",
       "      <td>94900.5</td>\n",
       "      <td>110128</td>\n",
       "      <td>112329</td>\n",
       "      <td>...</td>\n",
       "      <td>756407</td>\n",
       "      <td>813770</td>\n",
       "      <td>810455</td>\n",
       "      <td>826227</td>\n",
       "      <td>776894</td>\n",
       "      <td>737275</td>\n",
       "      <td>747611</td>\n",
       "      <td>777640</td>\n",
       "      <td>844989</td>\n",
       "      <td>867841</td>\n",
       "    </tr>\n",
       "    <tr>\n",
       "      <th>2</th>\n",
       "      <td>Barking &amp; Dagenham</td>\n",
       "      <td>E09000002</td>\n",
       "      <td>50460.2</td>\n",
       "      <td>51085.8</td>\n",
       "      <td>51269</td>\n",
       "      <td>53133.5</td>\n",
       "      <td>53042.2</td>\n",
       "      <td>53700.3</td>\n",
       "      <td>52113.1</td>\n",
       "      <td>52232.2</td>\n",
       "      <td>...</td>\n",
       "      <td>297426</td>\n",
       "      <td>299421</td>\n",
       "      <td>304778</td>\n",
       "      <td>304579</td>\n",
       "      <td>306390</td>\n",
       "      <td>301283</td>\n",
       "      <td>303653</td>\n",
       "      <td>304265</td>\n",
       "      <td>304099</td>\n",
       "      <td>283139</td>\n",
       "    </tr>\n",
       "    <tr>\n",
       "      <th>3</th>\n",
       "      <td>Barnet</td>\n",
       "      <td>E09000003</td>\n",
       "      <td>93284.5</td>\n",
       "      <td>93190.2</td>\n",
       "      <td>92247.5</td>\n",
       "      <td>90762.9</td>\n",
       "      <td>90258</td>\n",
       "      <td>90107.2</td>\n",
       "      <td>91441.2</td>\n",
       "      <td>92361.3</td>\n",
       "      <td>...</td>\n",
       "      <td>514668</td>\n",
       "      <td>528577</td>\n",
       "      <td>526670</td>\n",
       "      <td>525678</td>\n",
       "      <td>522639</td>\n",
       "      <td>519306</td>\n",
       "      <td>518542</td>\n",
       "      <td>519121</td>\n",
       "      <td>527747</td>\n",
       "      <td>526553</td>\n",
       "    </tr>\n",
       "    <tr>\n",
       "      <th>4</th>\n",
       "      <td>Bexley</td>\n",
       "      <td>E09000004</td>\n",
       "      <td>64958.1</td>\n",
       "      <td>64787.9</td>\n",
       "      <td>64367.5</td>\n",
       "      <td>64277.7</td>\n",
       "      <td>63997.1</td>\n",
       "      <td>64252.3</td>\n",
       "      <td>63722.7</td>\n",
       "      <td>64432.6</td>\n",
       "      <td>...</td>\n",
       "      <td>338346</td>\n",
       "      <td>337523</td>\n",
       "      <td>333340</td>\n",
       "      <td>332920</td>\n",
       "      <td>333657</td>\n",
       "      <td>336302</td>\n",
       "      <td>334765</td>\n",
       "      <td>337760</td>\n",
       "      <td>339215</td>\n",
       "      <td>346840</td>\n",
       "    </tr>\n",
       "    <tr>\n",
       "      <th>...</th>\n",
       "      <td>...</td>\n",
       "      <td>...</td>\n",
       "      <td>...</td>\n",
       "      <td>...</td>\n",
       "      <td>...</td>\n",
       "      <td>...</td>\n",
       "      <td>...</td>\n",
       "      <td>...</td>\n",
       "      <td>...</td>\n",
       "      <td>...</td>\n",
       "      <td>...</td>\n",
       "      <td>...</td>\n",
       "      <td>...</td>\n",
       "      <td>...</td>\n",
       "      <td>...</td>\n",
       "      <td>...</td>\n",
       "      <td>...</td>\n",
       "      <td>...</td>\n",
       "      <td>...</td>\n",
       "      <td>...</td>\n",
       "      <td>...</td>\n",
       "    </tr>\n",
       "    <tr>\n",
       "      <th>44</th>\n",
       "      <td>LONDON</td>\n",
       "      <td>E12000007</td>\n",
       "      <td>74435.8</td>\n",
       "      <td>72777.9</td>\n",
       "      <td>73896.8</td>\n",
       "      <td>74455.3</td>\n",
       "      <td>75432</td>\n",
       "      <td>75606.2</td>\n",
       "      <td>75984.2</td>\n",
       "      <td>75529.3</td>\n",
       "      <td>...</td>\n",
       "      <td>478858</td>\n",
       "      <td>472872</td>\n",
       "      <td>477779</td>\n",
       "      <td>474156</td>\n",
       "      <td>468983</td>\n",
       "      <td>478576</td>\n",
       "      <td>478489</td>\n",
       "      <td>479628</td>\n",
       "      <td>488185</td>\n",
       "      <td>480425</td>\n",
       "    </tr>\n",
       "    <tr>\n",
       "      <th>45</th>\n",
       "      <td>SOUTH EAST</td>\n",
       "      <td>E12000008</td>\n",
       "      <td>64018.9</td>\n",
       "      <td>63715</td>\n",
       "      <td>64113.6</td>\n",
       "      <td>64623.2</td>\n",
       "      <td>64530.4</td>\n",
       "      <td>65511</td>\n",
       "      <td>65224.9</td>\n",
       "      <td>64851.6</td>\n",
       "      <td>...</td>\n",
       "      <td>322863</td>\n",
       "      <td>323122</td>\n",
       "      <td>324357</td>\n",
       "      <td>323278</td>\n",
       "      <td>322512</td>\n",
       "      <td>321972</td>\n",
       "      <td>323422</td>\n",
       "      <td>319827</td>\n",
       "      <td>326701</td>\n",
       "      <td>327413</td>\n",
       "    </tr>\n",
       "    <tr>\n",
       "      <th>46</th>\n",
       "      <td>SOUTH WEST</td>\n",
       "      <td>E12000009</td>\n",
       "      <td>54705.2</td>\n",
       "      <td>54356.1</td>\n",
       "      <td>53583.1</td>\n",
       "      <td>54786</td>\n",
       "      <td>54698.8</td>\n",
       "      <td>54420.2</td>\n",
       "      <td>54265.9</td>\n",
       "      <td>54365.7</td>\n",
       "      <td>...</td>\n",
       "      <td>258449</td>\n",
       "      <td>258241</td>\n",
       "      <td>258751</td>\n",
       "      <td>258880</td>\n",
       "      <td>256875</td>\n",
       "      <td>256577</td>\n",
       "      <td>257822</td>\n",
       "      <td>257101</td>\n",
       "      <td>262444</td>\n",
       "      <td>255891</td>\n",
       "    </tr>\n",
       "    <tr>\n",
       "      <th>47</th>\n",
       "      <td>Unnamed: 47</td>\n",
       "      <td>NaN</td>\n",
       "      <td>NaN</td>\n",
       "      <td>NaN</td>\n",
       "      <td>NaN</td>\n",
       "      <td>NaN</td>\n",
       "      <td>NaN</td>\n",
       "      <td>NaN</td>\n",
       "      <td>NaN</td>\n",
       "      <td>NaN</td>\n",
       "      <td>...</td>\n",
       "      <td>NaN</td>\n",
       "      <td>NaN</td>\n",
       "      <td>NaN</td>\n",
       "      <td>NaN</td>\n",
       "      <td>NaN</td>\n",
       "      <td>NaN</td>\n",
       "      <td>NaN</td>\n",
       "      <td>NaN</td>\n",
       "      <td>NaN</td>\n",
       "      <td>NaN</td>\n",
       "    </tr>\n",
       "    <tr>\n",
       "      <th>48</th>\n",
       "      <td>England</td>\n",
       "      <td>E92000001</td>\n",
       "      <td>53202.8</td>\n",
       "      <td>53096.2</td>\n",
       "      <td>53201.3</td>\n",
       "      <td>53590.9</td>\n",
       "      <td>53678.2</td>\n",
       "      <td>53735.2</td>\n",
       "      <td>53900.6</td>\n",
       "      <td>53600.3</td>\n",
       "      <td>...</td>\n",
       "      <td>248652</td>\n",
       "      <td>249294</td>\n",
       "      <td>249771</td>\n",
       "      <td>249152</td>\n",
       "      <td>247951</td>\n",
       "      <td>248250</td>\n",
       "      <td>248950</td>\n",
       "      <td>248232</td>\n",
       "      <td>251539</td>\n",
       "      <td>250874</td>\n",
       "    </tr>\n",
       "  </tbody>\n",
       "</table>\n",
       "<p>49 rows × 306 columns</p>\n",
       "</div>"
      ],
      "text/plain": [
       "                 index          0                    1                    2                    3                    4                    5                    6                    7  \\\n",
       "0           Unnamed: 0        NaT  1995-01-01 00:00:00  1995-02-01 00:00:00  1995-03-01 00:00:00  1995-04-01 00:00:00  1995-05-01 00:00:00  1995-06-01 00:00:00  1995-07-01 00:00:00   \n",
       "1       City of London  E09000001                91449              82202.8              79120.7              77101.2              84409.1              94900.5               110128   \n",
       "2   Barking & Dagenham  E09000002              50460.2              51085.8                51269              53133.5              53042.2              53700.3              52113.1   \n",
       "3               Barnet  E09000003              93284.5              93190.2              92247.5              90762.9                90258              90107.2              91441.2   \n",
       "4               Bexley  E09000004              64958.1              64787.9              64367.5              64277.7              63997.1              64252.3              63722.7   \n",
       "..                 ...        ...                  ...                  ...                  ...                  ...                  ...                  ...                  ...   \n",
       "44              LONDON  E12000007              74435.8              72777.9              73896.8              74455.3                75432              75606.2              75984.2   \n",
       "45          SOUTH EAST  E12000008              64018.9                63715              64113.6              64623.2              64530.4                65511              65224.9   \n",
       "46          SOUTH WEST  E12000009              54705.2              54356.1              53583.1                54786              54698.8              54420.2              54265.9   \n",
       "47         Unnamed: 47        NaN                  NaN                  NaN                  NaN                  NaN                  NaN                  NaN                  NaN   \n",
       "48             England  E92000001              53202.8              53096.2              53201.3              53590.9              53678.2              53735.2              53900.6   \n",
       "\n",
       "                      8  ...                  295                  296                  297                  298                  299                  300                  301                  302  \\\n",
       "0   1995-08-01 00:00:00  ...  2019-07-01 00:00:00  2019-08-01 00:00:00  2019-09-01 00:00:00  2019-10-01 00:00:00  2019-11-01 00:00:00  2019-12-01 00:00:00  2020-01-01 00:00:00  2020-02-01 00:00:00   \n",
       "1                112329  ...               756407               813770               810455               826227               776894               737275               747611               777640   \n",
       "2               52232.2  ...               297426               299421               304778               304579               306390               301283               303653               304265   \n",
       "3               92361.3  ...               514668               528577               526670               525678               522639               519306               518542               519121   \n",
       "4               64432.6  ...               338346               337523               333340               332920               333657               336302               334765               337760   \n",
       "..                  ...  ...                  ...                  ...                  ...                  ...                  ...                  ...                  ...                  ...   \n",
       "44              75529.3  ...               478858               472872               477779               474156               468983               478576               478489               479628   \n",
       "45              64851.6  ...               322863               323122               324357               323278               322512               321972               323422               319827   \n",
       "46              54365.7  ...               258449               258241               258751               258880               256875               256577               257822               257101   \n",
       "47                  NaN  ...                  NaN                  NaN                  NaN                  NaN                  NaN                  NaN                  NaN                  NaN   \n",
       "48              53600.3  ...               248652               249294               249771               249152               247951               248250               248950               248232   \n",
       "\n",
       "                    303                  304  \n",
       "0   2020-03-01 00:00:00  2020-04-01 00:00:00  \n",
       "1                844989               867841  \n",
       "2                304099               283139  \n",
       "3                527747               526553  \n",
       "4                339215               346840  \n",
       "..                  ...                  ...  \n",
       "44               488185               480425  \n",
       "45               326701               327413  \n",
       "46               262444               255891  \n",
       "47                  NaN                  NaN  \n",
       "48               251539               250874  \n",
       "\n",
       "[49 rows x 306 columns]"
      ]
     },
     "execution_count": 8,
     "metadata": {},
     "output_type": "execute_result"
    }
   ],
   "source": [
    "# reset index \n",
    "properties.reset_index(inplace=True)\n",
    "properties"
   ]
  },
  {
   "cell_type": "code",
   "execution_count": 9,
   "metadata": {
    "ExecuteTime": {
     "end_time": "2020-09-07T01:45:38.523217Z",
     "start_time": "2020-09-07T01:45:38.507027Z"
    }
   },
   "outputs": [
    {
     "data": {
      "text/html": [
       "<div>\n",
       "<style scoped>\n",
       "    .dataframe tbody tr th:only-of-type {\n",
       "        vertical-align: middle;\n",
       "    }\n",
       "\n",
       "    .dataframe tbody tr th {\n",
       "        vertical-align: top;\n",
       "    }\n",
       "\n",
       "    .dataframe thead th {\n",
       "        text-align: right;\n",
       "    }\n",
       "</style>\n",
       "<table border=\"1\" class=\"dataframe\">\n",
       "  <thead>\n",
       "    <tr style=\"text-align: right;\">\n",
       "      <th></th>\n",
       "      <th>Unnamed: 0</th>\n",
       "      <th>NaN</th>\n",
       "      <th>1995-01-01 00:00:00</th>\n",
       "      <th>1995-02-01 00:00:00</th>\n",
       "      <th>1995-03-01 00:00:00</th>\n",
       "      <th>1995-04-01 00:00:00</th>\n",
       "      <th>1995-05-01 00:00:00</th>\n",
       "      <th>1995-06-01 00:00:00</th>\n",
       "      <th>1995-07-01 00:00:00</th>\n",
       "      <th>1995-08-01 00:00:00</th>\n",
       "      <th>...</th>\n",
       "      <th>2019-07-01 00:00:00</th>\n",
       "      <th>2019-08-01 00:00:00</th>\n",
       "      <th>2019-09-01 00:00:00</th>\n",
       "      <th>2019-10-01 00:00:00</th>\n",
       "      <th>2019-11-01 00:00:00</th>\n",
       "      <th>2019-12-01 00:00:00</th>\n",
       "      <th>2020-01-01 00:00:00</th>\n",
       "      <th>2020-02-01 00:00:00</th>\n",
       "      <th>2020-03-01 00:00:00</th>\n",
       "      <th>2020-04-01 00:00:00</th>\n",
       "    </tr>\n",
       "  </thead>\n",
       "  <tbody>\n",
       "    <tr>\n",
       "      <th>0</th>\n",
       "      <td>Unnamed: 0</td>\n",
       "      <td>NaT</td>\n",
       "      <td>1995-01-01 00:00:00</td>\n",
       "      <td>1995-02-01 00:00:00</td>\n",
       "      <td>1995-03-01 00:00:00</td>\n",
       "      <td>1995-04-01 00:00:00</td>\n",
       "      <td>1995-05-01 00:00:00</td>\n",
       "      <td>1995-06-01 00:00:00</td>\n",
       "      <td>1995-07-01 00:00:00</td>\n",
       "      <td>1995-08-01 00:00:00</td>\n",
       "      <td>...</td>\n",
       "      <td>2019-07-01 00:00:00</td>\n",
       "      <td>2019-08-01 00:00:00</td>\n",
       "      <td>2019-09-01 00:00:00</td>\n",
       "      <td>2019-10-01 00:00:00</td>\n",
       "      <td>2019-11-01 00:00:00</td>\n",
       "      <td>2019-12-01 00:00:00</td>\n",
       "      <td>2020-01-01 00:00:00</td>\n",
       "      <td>2020-02-01 00:00:00</td>\n",
       "      <td>2020-03-01 00:00:00</td>\n",
       "      <td>2020-04-01 00:00:00</td>\n",
       "    </tr>\n",
       "    <tr>\n",
       "      <th>1</th>\n",
       "      <td>City of London</td>\n",
       "      <td>E09000001</td>\n",
       "      <td>91449</td>\n",
       "      <td>82202.8</td>\n",
       "      <td>79120.7</td>\n",
       "      <td>77101.2</td>\n",
       "      <td>84409.1</td>\n",
       "      <td>94900.5</td>\n",
       "      <td>110128</td>\n",
       "      <td>112329</td>\n",
       "      <td>...</td>\n",
       "      <td>756407</td>\n",
       "      <td>813770</td>\n",
       "      <td>810455</td>\n",
       "      <td>826227</td>\n",
       "      <td>776894</td>\n",
       "      <td>737275</td>\n",
       "      <td>747611</td>\n",
       "      <td>777640</td>\n",
       "      <td>844989</td>\n",
       "      <td>867841</td>\n",
       "    </tr>\n",
       "    <tr>\n",
       "      <th>2</th>\n",
       "      <td>Barking &amp; Dagenham</td>\n",
       "      <td>E09000002</td>\n",
       "      <td>50460.2</td>\n",
       "      <td>51085.8</td>\n",
       "      <td>51269</td>\n",
       "      <td>53133.5</td>\n",
       "      <td>53042.2</td>\n",
       "      <td>53700.3</td>\n",
       "      <td>52113.1</td>\n",
       "      <td>52232.2</td>\n",
       "      <td>...</td>\n",
       "      <td>297426</td>\n",
       "      <td>299421</td>\n",
       "      <td>304778</td>\n",
       "      <td>304579</td>\n",
       "      <td>306390</td>\n",
       "      <td>301283</td>\n",
       "      <td>303653</td>\n",
       "      <td>304265</td>\n",
       "      <td>304099</td>\n",
       "      <td>283139</td>\n",
       "    </tr>\n",
       "    <tr>\n",
       "      <th>3</th>\n",
       "      <td>Barnet</td>\n",
       "      <td>E09000003</td>\n",
       "      <td>93284.5</td>\n",
       "      <td>93190.2</td>\n",
       "      <td>92247.5</td>\n",
       "      <td>90762.9</td>\n",
       "      <td>90258</td>\n",
       "      <td>90107.2</td>\n",
       "      <td>91441.2</td>\n",
       "      <td>92361.3</td>\n",
       "      <td>...</td>\n",
       "      <td>514668</td>\n",
       "      <td>528577</td>\n",
       "      <td>526670</td>\n",
       "      <td>525678</td>\n",
       "      <td>522639</td>\n",
       "      <td>519306</td>\n",
       "      <td>518542</td>\n",
       "      <td>519121</td>\n",
       "      <td>527747</td>\n",
       "      <td>526553</td>\n",
       "    </tr>\n",
       "    <tr>\n",
       "      <th>4</th>\n",
       "      <td>Bexley</td>\n",
       "      <td>E09000004</td>\n",
       "      <td>64958.1</td>\n",
       "      <td>64787.9</td>\n",
       "      <td>64367.5</td>\n",
       "      <td>64277.7</td>\n",
       "      <td>63997.1</td>\n",
       "      <td>64252.3</td>\n",
       "      <td>63722.7</td>\n",
       "      <td>64432.6</td>\n",
       "      <td>...</td>\n",
       "      <td>338346</td>\n",
       "      <td>337523</td>\n",
       "      <td>333340</td>\n",
       "      <td>332920</td>\n",
       "      <td>333657</td>\n",
       "      <td>336302</td>\n",
       "      <td>334765</td>\n",
       "      <td>337760</td>\n",
       "      <td>339215</td>\n",
       "      <td>346840</td>\n",
       "    </tr>\n",
       "  </tbody>\n",
       "</table>\n",
       "<p>5 rows × 306 columns</p>\n",
       "</div>"
      ],
      "text/plain": [
       "0          Unnamed: 0        NaN  1995-01-01 00:00:00  1995-02-01 00:00:00  1995-03-01 00:00:00  1995-04-01 00:00:00  1995-05-01 00:00:00  1995-06-01 00:00:00  1995-07-01 00:00:00  \\\n",
       "0          Unnamed: 0        NaT  1995-01-01 00:00:00  1995-02-01 00:00:00  1995-03-01 00:00:00  1995-04-01 00:00:00  1995-05-01 00:00:00  1995-06-01 00:00:00  1995-07-01 00:00:00   \n",
       "1      City of London  E09000001                91449              82202.8              79120.7              77101.2              84409.1              94900.5               110128   \n",
       "2  Barking & Dagenham  E09000002              50460.2              51085.8                51269              53133.5              53042.2              53700.3              52113.1   \n",
       "3              Barnet  E09000003              93284.5              93190.2              92247.5              90762.9                90258              90107.2              91441.2   \n",
       "4              Bexley  E09000004              64958.1              64787.9              64367.5              64277.7              63997.1              64252.3              63722.7   \n",
       "\n",
       "0  1995-08-01 00:00:00  ...  2019-07-01 00:00:00  2019-08-01 00:00:00  2019-09-01 00:00:00  2019-10-01 00:00:00  2019-11-01 00:00:00  2019-12-01 00:00:00  2020-01-01 00:00:00  2020-02-01 00:00:00  \\\n",
       "0  1995-08-01 00:00:00  ...  2019-07-01 00:00:00  2019-08-01 00:00:00  2019-09-01 00:00:00  2019-10-01 00:00:00  2019-11-01 00:00:00  2019-12-01 00:00:00  2020-01-01 00:00:00  2020-02-01 00:00:00   \n",
       "1               112329  ...               756407               813770               810455               826227               776894               737275               747611               777640   \n",
       "2              52232.2  ...               297426               299421               304778               304579               306390               301283               303653               304265   \n",
       "3              92361.3  ...               514668               528577               526670               525678               522639               519306               518542               519121   \n",
       "4              64432.6  ...               338346               337523               333340               332920               333657               336302               334765               337760   \n",
       "\n",
       "0  2020-03-01 00:00:00  2020-04-01 00:00:00  \n",
       "0  2020-03-01 00:00:00  2020-04-01 00:00:00  \n",
       "1               844989               867841  \n",
       "2               304099               283139  \n",
       "3               527747               526553  \n",
       "4               339215               346840  \n",
       "\n",
       "[5 rows x 306 columns]"
      ]
     },
     "execution_count": 9,
     "metadata": {},
     "output_type": "execute_result"
    }
   ],
   "source": [
    "# make values of first row the column headings\n",
    "properties.columns = properties.iloc[0]\n",
    "properties.head()"
   ]
  },
  {
   "cell_type": "code",
   "execution_count": 10,
   "metadata": {
    "ExecuteTime": {
     "end_time": "2020-09-07T01:45:38.540215Z",
     "start_time": "2020-09-07T01:45:38.524591Z"
    }
   },
   "outputs": [
    {
     "data": {
      "text/html": [
       "<div>\n",
       "<style scoped>\n",
       "    .dataframe tbody tr th:only-of-type {\n",
       "        vertical-align: middle;\n",
       "    }\n",
       "\n",
       "    .dataframe tbody tr th {\n",
       "        vertical-align: top;\n",
       "    }\n",
       "\n",
       "    .dataframe thead th {\n",
       "        text-align: right;\n",
       "    }\n",
       "</style>\n",
       "<table border=\"1\" class=\"dataframe\">\n",
       "  <thead>\n",
       "    <tr style=\"text-align: right;\">\n",
       "      <th></th>\n",
       "      <th>Unnamed: 0</th>\n",
       "      <th>NaN</th>\n",
       "      <th>1995-01-01 00:00:00</th>\n",
       "      <th>1995-02-01 00:00:00</th>\n",
       "      <th>1995-03-01 00:00:00</th>\n",
       "      <th>1995-04-01 00:00:00</th>\n",
       "      <th>1995-05-01 00:00:00</th>\n",
       "      <th>1995-06-01 00:00:00</th>\n",
       "      <th>1995-07-01 00:00:00</th>\n",
       "      <th>1995-08-01 00:00:00</th>\n",
       "      <th>...</th>\n",
       "      <th>2019-07-01 00:00:00</th>\n",
       "      <th>2019-08-01 00:00:00</th>\n",
       "      <th>2019-09-01 00:00:00</th>\n",
       "      <th>2019-10-01 00:00:00</th>\n",
       "      <th>2019-11-01 00:00:00</th>\n",
       "      <th>2019-12-01 00:00:00</th>\n",
       "      <th>2020-01-01 00:00:00</th>\n",
       "      <th>2020-02-01 00:00:00</th>\n",
       "      <th>2020-03-01 00:00:00</th>\n",
       "      <th>2020-04-01 00:00:00</th>\n",
       "    </tr>\n",
       "  </thead>\n",
       "  <tbody>\n",
       "    <tr>\n",
       "      <th>1</th>\n",
       "      <td>City of London</td>\n",
       "      <td>E09000001</td>\n",
       "      <td>91449</td>\n",
       "      <td>82202.8</td>\n",
       "      <td>79120.7</td>\n",
       "      <td>77101.2</td>\n",
       "      <td>84409.1</td>\n",
       "      <td>94900.5</td>\n",
       "      <td>110128</td>\n",
       "      <td>112329</td>\n",
       "      <td>...</td>\n",
       "      <td>756407</td>\n",
       "      <td>813770</td>\n",
       "      <td>810455</td>\n",
       "      <td>826227</td>\n",
       "      <td>776894</td>\n",
       "      <td>737275</td>\n",
       "      <td>747611</td>\n",
       "      <td>777640</td>\n",
       "      <td>844989</td>\n",
       "      <td>867841</td>\n",
       "    </tr>\n",
       "    <tr>\n",
       "      <th>2</th>\n",
       "      <td>Barking &amp; Dagenham</td>\n",
       "      <td>E09000002</td>\n",
       "      <td>50460.2</td>\n",
       "      <td>51085.8</td>\n",
       "      <td>51269</td>\n",
       "      <td>53133.5</td>\n",
       "      <td>53042.2</td>\n",
       "      <td>53700.3</td>\n",
       "      <td>52113.1</td>\n",
       "      <td>52232.2</td>\n",
       "      <td>...</td>\n",
       "      <td>297426</td>\n",
       "      <td>299421</td>\n",
       "      <td>304778</td>\n",
       "      <td>304579</td>\n",
       "      <td>306390</td>\n",
       "      <td>301283</td>\n",
       "      <td>303653</td>\n",
       "      <td>304265</td>\n",
       "      <td>304099</td>\n",
       "      <td>283139</td>\n",
       "    </tr>\n",
       "    <tr>\n",
       "      <th>3</th>\n",
       "      <td>Barnet</td>\n",
       "      <td>E09000003</td>\n",
       "      <td>93284.5</td>\n",
       "      <td>93190.2</td>\n",
       "      <td>92247.5</td>\n",
       "      <td>90762.9</td>\n",
       "      <td>90258</td>\n",
       "      <td>90107.2</td>\n",
       "      <td>91441.2</td>\n",
       "      <td>92361.3</td>\n",
       "      <td>...</td>\n",
       "      <td>514668</td>\n",
       "      <td>528577</td>\n",
       "      <td>526670</td>\n",
       "      <td>525678</td>\n",
       "      <td>522639</td>\n",
       "      <td>519306</td>\n",
       "      <td>518542</td>\n",
       "      <td>519121</td>\n",
       "      <td>527747</td>\n",
       "      <td>526553</td>\n",
       "    </tr>\n",
       "    <tr>\n",
       "      <th>4</th>\n",
       "      <td>Bexley</td>\n",
       "      <td>E09000004</td>\n",
       "      <td>64958.1</td>\n",
       "      <td>64787.9</td>\n",
       "      <td>64367.5</td>\n",
       "      <td>64277.7</td>\n",
       "      <td>63997.1</td>\n",
       "      <td>64252.3</td>\n",
       "      <td>63722.7</td>\n",
       "      <td>64432.6</td>\n",
       "      <td>...</td>\n",
       "      <td>338346</td>\n",
       "      <td>337523</td>\n",
       "      <td>333340</td>\n",
       "      <td>332920</td>\n",
       "      <td>333657</td>\n",
       "      <td>336302</td>\n",
       "      <td>334765</td>\n",
       "      <td>337760</td>\n",
       "      <td>339215</td>\n",
       "      <td>346840</td>\n",
       "    </tr>\n",
       "    <tr>\n",
       "      <th>5</th>\n",
       "      <td>Brent</td>\n",
       "      <td>E09000005</td>\n",
       "      <td>71306.6</td>\n",
       "      <td>72022.3</td>\n",
       "      <td>72015.8</td>\n",
       "      <td>72965.6</td>\n",
       "      <td>73704</td>\n",
       "      <td>74310.5</td>\n",
       "      <td>74127</td>\n",
       "      <td>73547</td>\n",
       "      <td>...</td>\n",
       "      <td>473849</td>\n",
       "      <td>488784</td>\n",
       "      <td>501533</td>\n",
       "      <td>494770</td>\n",
       "      <td>432188</td>\n",
       "      <td>427126</td>\n",
       "      <td>423161</td>\n",
       "      <td>467145</td>\n",
       "      <td>461398</td>\n",
       "      <td>494455</td>\n",
       "    </tr>\n",
       "  </tbody>\n",
       "</table>\n",
       "<p>5 rows × 306 columns</p>\n",
       "</div>"
      ],
      "text/plain": [
       "0          Unnamed: 0        NaN 1995-01-01 00:00:00 1995-02-01 00:00:00 1995-03-01 00:00:00 1995-04-01 00:00:00 1995-05-01 00:00:00 1995-06-01 00:00:00 1995-07-01 00:00:00 1995-08-01 00:00:00  ...  \\\n",
       "1      City of London  E09000001               91449             82202.8             79120.7             77101.2             84409.1             94900.5              110128              112329  ...   \n",
       "2  Barking & Dagenham  E09000002             50460.2             51085.8               51269             53133.5             53042.2             53700.3             52113.1             52232.2  ...   \n",
       "3              Barnet  E09000003             93284.5             93190.2             92247.5             90762.9               90258             90107.2             91441.2             92361.3  ...   \n",
       "4              Bexley  E09000004             64958.1             64787.9             64367.5             64277.7             63997.1             64252.3             63722.7             64432.6  ...   \n",
       "5               Brent  E09000005             71306.6             72022.3             72015.8             72965.6               73704             74310.5               74127               73547  ...   \n",
       "\n",
       "0 2019-07-01 00:00:00 2019-08-01 00:00:00 2019-09-01 00:00:00 2019-10-01 00:00:00 2019-11-01 00:00:00 2019-12-01 00:00:00 2020-01-01 00:00:00 2020-02-01 00:00:00 2020-03-01 00:00:00  \\\n",
       "1              756407              813770              810455              826227              776894              737275              747611              777640              844989   \n",
       "2              297426              299421              304778              304579              306390              301283              303653              304265              304099   \n",
       "3              514668              528577              526670              525678              522639              519306              518542              519121              527747   \n",
       "4              338346              337523              333340              332920              333657              336302              334765              337760              339215   \n",
       "5              473849              488784              501533              494770              432188              427126              423161              467145              461398   \n",
       "\n",
       "0 2020-04-01 00:00:00  \n",
       "1              867841  \n",
       "2              283139  \n",
       "3              526553  \n",
       "4              346840  \n",
       "5              494455  \n",
       "\n",
       "[5 rows x 306 columns]"
      ]
     },
     "execution_count": 10,
     "metadata": {},
     "output_type": "execute_result"
    }
   ],
   "source": [
    "#drop row1\n",
    "properties.drop(index=0,inplace=True)\n",
    "properties.head()"
   ]
  },
  {
   "cell_type": "markdown",
   "metadata": {},
   "source": [
    "> Sweet."
   ]
  },
  {
   "cell_type": "markdown",
   "metadata": {
    "colab_type": "text",
    "id": "o1uLbJAsoIjK"
   },
   "source": [
    "**2.3. Cleaning the data (part 2)**\n",
    "\n",
    "You might we have to **rename** a couple columns. How do you do this? The clue's pretty bold..."
   ]
  },
  {
   "cell_type": "code",
   "execution_count": 11,
   "metadata": {
    "ExecuteTime": {
     "end_time": "2020-09-07T01:45:38.557252Z",
     "start_time": "2020-09-07T01:45:38.541387Z"
    },
    "colab": {},
    "colab_type": "code",
    "id": "GKkmn1AnoVZS"
   },
   "outputs": [
    {
     "data": {
      "text/html": [
       "<div>\n",
       "<style scoped>\n",
       "    .dataframe tbody tr th:only-of-type {\n",
       "        vertical-align: middle;\n",
       "    }\n",
       "\n",
       "    .dataframe tbody tr th {\n",
       "        vertical-align: top;\n",
       "    }\n",
       "\n",
       "    .dataframe thead th {\n",
       "        text-align: right;\n",
       "    }\n",
       "</style>\n",
       "<table border=\"1\" class=\"dataframe\">\n",
       "  <thead>\n",
       "    <tr style=\"text-align: right;\">\n",
       "      <th></th>\n",
       "      <th>London_Boroughs</th>\n",
       "      <th>Unique_id</th>\n",
       "      <th>1995-01-01 00:00:00</th>\n",
       "      <th>1995-02-01 00:00:00</th>\n",
       "      <th>1995-03-01 00:00:00</th>\n",
       "      <th>1995-04-01 00:00:00</th>\n",
       "      <th>1995-05-01 00:00:00</th>\n",
       "      <th>1995-06-01 00:00:00</th>\n",
       "      <th>1995-07-01 00:00:00</th>\n",
       "      <th>1995-08-01 00:00:00</th>\n",
       "      <th>...</th>\n",
       "      <th>2019-07-01 00:00:00</th>\n",
       "      <th>2019-08-01 00:00:00</th>\n",
       "      <th>2019-09-01 00:00:00</th>\n",
       "      <th>2019-10-01 00:00:00</th>\n",
       "      <th>2019-11-01 00:00:00</th>\n",
       "      <th>2019-12-01 00:00:00</th>\n",
       "      <th>2020-01-01 00:00:00</th>\n",
       "      <th>2020-02-01 00:00:00</th>\n",
       "      <th>2020-03-01 00:00:00</th>\n",
       "      <th>2020-04-01 00:00:00</th>\n",
       "    </tr>\n",
       "  </thead>\n",
       "  <tbody>\n",
       "    <tr>\n",
       "      <th>1</th>\n",
       "      <td>City of London</td>\n",
       "      <td>E09000001</td>\n",
       "      <td>91449</td>\n",
       "      <td>82202.8</td>\n",
       "      <td>79120.7</td>\n",
       "      <td>77101.2</td>\n",
       "      <td>84409.1</td>\n",
       "      <td>94900.5</td>\n",
       "      <td>110128</td>\n",
       "      <td>112329</td>\n",
       "      <td>...</td>\n",
       "      <td>756407</td>\n",
       "      <td>813770</td>\n",
       "      <td>810455</td>\n",
       "      <td>826227</td>\n",
       "      <td>776894</td>\n",
       "      <td>737275</td>\n",
       "      <td>747611</td>\n",
       "      <td>777640</td>\n",
       "      <td>844989</td>\n",
       "      <td>867841</td>\n",
       "    </tr>\n",
       "    <tr>\n",
       "      <th>2</th>\n",
       "      <td>Barking &amp; Dagenham</td>\n",
       "      <td>E09000002</td>\n",
       "      <td>50460.2</td>\n",
       "      <td>51085.8</td>\n",
       "      <td>51269</td>\n",
       "      <td>53133.5</td>\n",
       "      <td>53042.2</td>\n",
       "      <td>53700.3</td>\n",
       "      <td>52113.1</td>\n",
       "      <td>52232.2</td>\n",
       "      <td>...</td>\n",
       "      <td>297426</td>\n",
       "      <td>299421</td>\n",
       "      <td>304778</td>\n",
       "      <td>304579</td>\n",
       "      <td>306390</td>\n",
       "      <td>301283</td>\n",
       "      <td>303653</td>\n",
       "      <td>304265</td>\n",
       "      <td>304099</td>\n",
       "      <td>283139</td>\n",
       "    </tr>\n",
       "    <tr>\n",
       "      <th>3</th>\n",
       "      <td>Barnet</td>\n",
       "      <td>E09000003</td>\n",
       "      <td>93284.5</td>\n",
       "      <td>93190.2</td>\n",
       "      <td>92247.5</td>\n",
       "      <td>90762.9</td>\n",
       "      <td>90258</td>\n",
       "      <td>90107.2</td>\n",
       "      <td>91441.2</td>\n",
       "      <td>92361.3</td>\n",
       "      <td>...</td>\n",
       "      <td>514668</td>\n",
       "      <td>528577</td>\n",
       "      <td>526670</td>\n",
       "      <td>525678</td>\n",
       "      <td>522639</td>\n",
       "      <td>519306</td>\n",
       "      <td>518542</td>\n",
       "      <td>519121</td>\n",
       "      <td>527747</td>\n",
       "      <td>526553</td>\n",
       "    </tr>\n",
       "    <tr>\n",
       "      <th>4</th>\n",
       "      <td>Bexley</td>\n",
       "      <td>E09000004</td>\n",
       "      <td>64958.1</td>\n",
       "      <td>64787.9</td>\n",
       "      <td>64367.5</td>\n",
       "      <td>64277.7</td>\n",
       "      <td>63997.1</td>\n",
       "      <td>64252.3</td>\n",
       "      <td>63722.7</td>\n",
       "      <td>64432.6</td>\n",
       "      <td>...</td>\n",
       "      <td>338346</td>\n",
       "      <td>337523</td>\n",
       "      <td>333340</td>\n",
       "      <td>332920</td>\n",
       "      <td>333657</td>\n",
       "      <td>336302</td>\n",
       "      <td>334765</td>\n",
       "      <td>337760</td>\n",
       "      <td>339215</td>\n",
       "      <td>346840</td>\n",
       "    </tr>\n",
       "    <tr>\n",
       "      <th>5</th>\n",
       "      <td>Brent</td>\n",
       "      <td>E09000005</td>\n",
       "      <td>71306.6</td>\n",
       "      <td>72022.3</td>\n",
       "      <td>72015.8</td>\n",
       "      <td>72965.6</td>\n",
       "      <td>73704</td>\n",
       "      <td>74310.5</td>\n",
       "      <td>74127</td>\n",
       "      <td>73547</td>\n",
       "      <td>...</td>\n",
       "      <td>473849</td>\n",
       "      <td>488784</td>\n",
       "      <td>501533</td>\n",
       "      <td>494770</td>\n",
       "      <td>432188</td>\n",
       "      <td>427126</td>\n",
       "      <td>423161</td>\n",
       "      <td>467145</td>\n",
       "      <td>461398</td>\n",
       "      <td>494455</td>\n",
       "    </tr>\n",
       "  </tbody>\n",
       "</table>\n",
       "<p>5 rows × 306 columns</p>\n",
       "</div>"
      ],
      "text/plain": [
       "0     London_Boroughs  Unique_id 1995-01-01 00:00:00 1995-02-01 00:00:00 1995-03-01 00:00:00 1995-04-01 00:00:00 1995-05-01 00:00:00 1995-06-01 00:00:00 1995-07-01 00:00:00 1995-08-01 00:00:00  ...  \\\n",
       "1      City of London  E09000001               91449             82202.8             79120.7             77101.2             84409.1             94900.5              110128              112329  ...   \n",
       "2  Barking & Dagenham  E09000002             50460.2             51085.8               51269             53133.5             53042.2             53700.3             52113.1             52232.2  ...   \n",
       "3              Barnet  E09000003             93284.5             93190.2             92247.5             90762.9               90258             90107.2             91441.2             92361.3  ...   \n",
       "4              Bexley  E09000004             64958.1             64787.9             64367.5             64277.7             63997.1             64252.3             63722.7             64432.6  ...   \n",
       "5               Brent  E09000005             71306.6             72022.3             72015.8             72965.6               73704             74310.5               74127               73547  ...   \n",
       "\n",
       "0 2019-07-01 00:00:00 2019-08-01 00:00:00 2019-09-01 00:00:00 2019-10-01 00:00:00 2019-11-01 00:00:00 2019-12-01 00:00:00 2020-01-01 00:00:00 2020-02-01 00:00:00 2020-03-01 00:00:00  \\\n",
       "1              756407              813770              810455              826227              776894              737275              747611              777640              844989   \n",
       "2              297426              299421              304778              304579              306390              301283              303653              304265              304099   \n",
       "3              514668              528577              526670              525678              522639              519306              518542              519121              527747   \n",
       "4              338346              337523              333340              332920              333657              336302              334765              337760              339215   \n",
       "5              473849              488784              501533              494770              432188              427126              423161              467145              461398   \n",
       "\n",
       "0 2020-04-01 00:00:00  \n",
       "1              867841  \n",
       "2              283139  \n",
       "3              526553  \n",
       "4              346840  \n",
       "5              494455  \n",
       "\n",
       "[5 rows x 306 columns]"
      ]
     },
     "execution_count": 11,
     "metadata": {},
     "output_type": "execute_result"
    }
   ],
   "source": [
    "# rename cols\n",
    "properties.rename(columns = {'Unnamed: 0': 'London_Boroughs',\n",
    "                            pd.NaT: 'Unique_id'}, inplace=True)\n",
    "properties.head()"
   ]
  },
  {
   "cell_type": "markdown",
   "metadata": {},
   "source": [
    "> Values need to be reformatted as well as the year/time in the heading. Check datatypes."
   ]
  },
  {
   "cell_type": "code",
   "execution_count": 12,
   "metadata": {
    "ExecuteTime": {
     "end_time": "2020-09-07T01:45:38.572173Z",
     "start_time": "2020-09-07T01:45:38.558647Z"
    }
   },
   "outputs": [
    {
     "name": "stdout",
     "output_type": "stream",
     "text": [
      "<class 'pandas.core.frame.DataFrame'>\n",
      "Int64Index: 48 entries, 1 to 48\n",
      "Columns: 306 entries, London_Boroughs to 2020-04-01 00:00:00\n",
      "dtypes: object(306)\n",
      "memory usage: 115.1+ KB\n"
     ]
    }
   ],
   "source": [
    "properties.info()"
   ]
  },
  {
   "cell_type": "markdown",
   "metadata": {
    "colab_type": "text",
    "id": "jy8BzXHmoWEw"
   },
   "source": [
    "**2.4.Transforming the data**\n",
    "\n",
    "Remember what Wes McKinney said about tidy data? You might need to **melt** your DataFrame here. "
   ]
  },
  {
   "cell_type": "code",
   "execution_count": 13,
   "metadata": {
    "ExecuteTime": {
     "end_time": "2020-09-07T01:45:38.577153Z",
     "start_time": "2020-09-07T01:45:38.573862Z"
    }
   },
   "outputs": [
    {
     "data": {
      "text/plain": [
       "Index([  'London_Boroughs',         'Unique_id', 1995-01-01 00:00:00, 1995-02-01 00:00:00, 1995-03-01 00:00:00, 1995-04-01 00:00:00, 1995-05-01 00:00:00, 1995-06-01 00:00:00, 1995-07-01 00:00:00,\n",
       "       1995-08-01 00:00:00,\n",
       "       ...\n",
       "       2019-07-01 00:00:00, 2019-08-01 00:00:00, 2019-09-01 00:00:00, 2019-10-01 00:00:00, 2019-11-01 00:00:00, 2019-12-01 00:00:00, 2020-01-01 00:00:00, 2020-02-01 00:00:00, 2020-03-01 00:00:00,\n",
       "       2020-04-01 00:00:00],\n",
       "      dtype='object', name=0, length=306)"
      ]
     },
     "execution_count": 13,
     "metadata": {},
     "output_type": "execute_result"
    }
   ],
   "source": [
    "properties.columns"
   ]
  },
  {
   "cell_type": "code",
   "execution_count": 14,
   "metadata": {
    "ExecuteTime": {
     "end_time": "2020-09-07T01:45:38.591673Z",
     "start_time": "2020-09-07T01:45:38.578638Z"
    },
    "colab": {},
    "colab_type": "code",
    "id": "S2wM0qLuo2Zt"
   },
   "outputs": [
    {
     "data": {
      "text/html": [
       "<div>\n",
       "<style scoped>\n",
       "    .dataframe tbody tr th:only-of-type {\n",
       "        vertical-align: middle;\n",
       "    }\n",
       "\n",
       "    .dataframe tbody tr th {\n",
       "        vertical-align: top;\n",
       "    }\n",
       "\n",
       "    .dataframe thead th {\n",
       "        text-align: right;\n",
       "    }\n",
       "</style>\n",
       "<table border=\"1\" class=\"dataframe\">\n",
       "  <thead>\n",
       "    <tr style=\"text-align: right;\">\n",
       "      <th></th>\n",
       "      <th>London_Boroughs</th>\n",
       "      <th>Unique_id</th>\n",
       "      <th>0</th>\n",
       "      <th>value</th>\n",
       "    </tr>\n",
       "  </thead>\n",
       "  <tbody>\n",
       "    <tr>\n",
       "      <th>0</th>\n",
       "      <td>City of London</td>\n",
       "      <td>E09000001</td>\n",
       "      <td>1995-01-01</td>\n",
       "      <td>91449</td>\n",
       "    </tr>\n",
       "    <tr>\n",
       "      <th>1</th>\n",
       "      <td>Barking &amp; Dagenham</td>\n",
       "      <td>E09000002</td>\n",
       "      <td>1995-01-01</td>\n",
       "      <td>50460.2</td>\n",
       "    </tr>\n",
       "    <tr>\n",
       "      <th>2</th>\n",
       "      <td>Barnet</td>\n",
       "      <td>E09000003</td>\n",
       "      <td>1995-01-01</td>\n",
       "      <td>93284.5</td>\n",
       "    </tr>\n",
       "    <tr>\n",
       "      <th>3</th>\n",
       "      <td>Bexley</td>\n",
       "      <td>E09000004</td>\n",
       "      <td>1995-01-01</td>\n",
       "      <td>64958.1</td>\n",
       "    </tr>\n",
       "    <tr>\n",
       "      <th>4</th>\n",
       "      <td>Brent</td>\n",
       "      <td>E09000005</td>\n",
       "      <td>1995-01-01</td>\n",
       "      <td>71306.6</td>\n",
       "    </tr>\n",
       "  </tbody>\n",
       "</table>\n",
       "</div>"
      ],
      "text/plain": [
       "      London_Boroughs  Unique_id          0    value\n",
       "0      City of London  E09000001 1995-01-01    91449\n",
       "1  Barking & Dagenham  E09000002 1995-01-01  50460.2\n",
       "2              Barnet  E09000003 1995-01-01  93284.5\n",
       "3              Bexley  E09000004 1995-01-01  64958.1\n",
       "4               Brent  E09000005 1995-01-01  71306.6"
      ]
     },
     "execution_count": 14,
     "metadata": {},
     "output_type": "execute_result"
    }
   ],
   "source": [
    "# gather all the cols into rows (dates); specify to keep the london boroughs\n",
    "# and the ID to be in place\n",
    "properties = pd.melt(properties, id_vars = ['London_Boroughs','Unique_id'])\n",
    "properties.head()"
   ]
  },
  {
   "cell_type": "markdown",
   "metadata": {},
   "source": [
    "> Nice!"
   ]
  },
  {
   "cell_type": "markdown",
   "metadata": {
    "colab_type": "text",
    "id": "7kIsgAo7o3mf"
   },
   "source": [
    "Remember to make sure your column data types are all correct. Average prices, for example, should be floating point numbers... "
   ]
  },
  {
   "cell_type": "code",
   "execution_count": 15,
   "metadata": {
    "ExecuteTime": {
     "end_time": "2020-09-07T01:45:38.596790Z",
     "start_time": "2020-09-07T01:45:38.593223Z"
    },
    "colab": {},
    "colab_type": "code",
    "id": "ZcR4IHbcpOaq"
   },
   "outputs": [
    {
     "data": {
      "text/plain": [
       "London_Boroughs            object\n",
       "Unique_id                  object\n",
       "0                  datetime64[ns]\n",
       "value                      object\n",
       "dtype: object"
      ]
     },
     "execution_count": 15,
     "metadata": {},
     "output_type": "execute_result"
    }
   ],
   "source": [
    "properties.dtypes"
   ]
  },
  {
   "cell_type": "markdown",
   "metadata": {},
   "source": [
    "> Datetime still needs to be fixed. \"Value\" which are the average prices should be floats."
   ]
  },
  {
   "cell_type": "code",
   "execution_count": 16,
   "metadata": {
    "ExecuteTime": {
     "end_time": "2020-09-07T01:45:38.604948Z",
     "start_time": "2020-09-07T01:45:38.597997Z"
    }
   },
   "outputs": [
    {
     "data": {
      "text/html": [
       "<div>\n",
       "<style scoped>\n",
       "    .dataframe tbody tr th:only-of-type {\n",
       "        vertical-align: middle;\n",
       "    }\n",
       "\n",
       "    .dataframe tbody tr th {\n",
       "        vertical-align: top;\n",
       "    }\n",
       "\n",
       "    .dataframe thead th {\n",
       "        text-align: right;\n",
       "    }\n",
       "</style>\n",
       "<table border=\"1\" class=\"dataframe\">\n",
       "  <thead>\n",
       "    <tr style=\"text-align: right;\">\n",
       "      <th></th>\n",
       "      <th>London_Boroughs</th>\n",
       "      <th>Unique_ID</th>\n",
       "      <th>Date</th>\n",
       "      <th>Average_Price</th>\n",
       "    </tr>\n",
       "  </thead>\n",
       "  <tbody>\n",
       "    <tr>\n",
       "      <th>0</th>\n",
       "      <td>City of London</td>\n",
       "      <td>E09000001</td>\n",
       "      <td>1995-01-01</td>\n",
       "      <td>91449</td>\n",
       "    </tr>\n",
       "    <tr>\n",
       "      <th>1</th>\n",
       "      <td>Barking &amp; Dagenham</td>\n",
       "      <td>E09000002</td>\n",
       "      <td>1995-01-01</td>\n",
       "      <td>50460.2</td>\n",
       "    </tr>\n",
       "    <tr>\n",
       "      <th>2</th>\n",
       "      <td>Barnet</td>\n",
       "      <td>E09000003</td>\n",
       "      <td>1995-01-01</td>\n",
       "      <td>93284.5</td>\n",
       "    </tr>\n",
       "    <tr>\n",
       "      <th>3</th>\n",
       "      <td>Bexley</td>\n",
       "      <td>E09000004</td>\n",
       "      <td>1995-01-01</td>\n",
       "      <td>64958.1</td>\n",
       "    </tr>\n",
       "    <tr>\n",
       "      <th>4</th>\n",
       "      <td>Brent</td>\n",
       "      <td>E09000005</td>\n",
       "      <td>1995-01-01</td>\n",
       "      <td>71306.6</td>\n",
       "    </tr>\n",
       "  </tbody>\n",
       "</table>\n",
       "</div>"
      ],
      "text/plain": [
       "      London_Boroughs  Unique_ID       Date Average_Price\n",
       "0      City of London  E09000001 1995-01-01         91449\n",
       "1  Barking & Dagenham  E09000002 1995-01-01       50460.2\n",
       "2              Barnet  E09000003 1995-01-01       93284.5\n",
       "3              Bexley  E09000004 1995-01-01       64958.1\n",
       "4               Brent  E09000005 1995-01-01       71306.6"
      ]
     },
     "execution_count": 16,
     "metadata": {},
     "output_type": "execute_result"
    }
   ],
   "source": [
    "# rename columns of 0 and value\n",
    "properties.rename(columns={'Unique_id':'Unique_ID',0:'Date',\n",
    "                          'value':'Average_Price'}, inplace =True)\n",
    "properties.head()"
   ]
  },
  {
   "cell_type": "code",
   "execution_count": 17,
   "metadata": {
    "ExecuteTime": {
     "end_time": "2020-09-07T01:45:38.611222Z",
     "start_time": "2020-09-07T01:45:38.606362Z"
    }
   },
   "outputs": [
    {
     "data": {
      "text/plain": [
       "London_Boroughs            object\n",
       "Unique_ID                  object\n",
       "Date               datetime64[ns]\n",
       "Average_Price             float64\n",
       "dtype: object"
      ]
     },
     "execution_count": 17,
     "metadata": {},
     "output_type": "execute_result"
    }
   ],
   "source": [
    "# change value to be float\n",
    "properties['Average_Price'] = pd.to_numeric(properties['Average_Price'])\n",
    "properties.dtypes"
   ]
  },
  {
   "cell_type": "code",
   "execution_count": 18,
   "metadata": {
    "ExecuteTime": {
     "end_time": "2020-09-07T01:45:38.618628Z",
     "start_time": "2020-09-07T01:45:38.612418Z"
    }
   },
   "outputs": [
    {
     "data": {
      "text/html": [
       "<div>\n",
       "<style scoped>\n",
       "    .dataframe tbody tr th:only-of-type {\n",
       "        vertical-align: middle;\n",
       "    }\n",
       "\n",
       "    .dataframe tbody tr th {\n",
       "        vertical-align: top;\n",
       "    }\n",
       "\n",
       "    .dataframe thead th {\n",
       "        text-align: right;\n",
       "    }\n",
       "</style>\n",
       "<table border=\"1\" class=\"dataframe\">\n",
       "  <thead>\n",
       "    <tr style=\"text-align: right;\">\n",
       "      <th></th>\n",
       "      <th>Average_Price</th>\n",
       "    </tr>\n",
       "  </thead>\n",
       "  <tbody>\n",
       "    <tr>\n",
       "      <th>0</th>\n",
       "      <td>91448.98487</td>\n",
       "    </tr>\n",
       "    <tr>\n",
       "      <th>1</th>\n",
       "      <td>50460.22660</td>\n",
       "    </tr>\n",
       "    <tr>\n",
       "      <th>2</th>\n",
       "      <td>93284.51832</td>\n",
       "    </tr>\n",
       "    <tr>\n",
       "      <th>3</th>\n",
       "      <td>64958.09036</td>\n",
       "    </tr>\n",
       "    <tr>\n",
       "      <th>4</th>\n",
       "      <td>71306.56698</td>\n",
       "    </tr>\n",
       "    <tr>\n",
       "      <th>...</th>\n",
       "      <td>...</td>\n",
       "    </tr>\n",
       "    <tr>\n",
       "      <th>14587</th>\n",
       "      <td>480425.38750</td>\n",
       "    </tr>\n",
       "    <tr>\n",
       "      <th>14588</th>\n",
       "      <td>327412.72220</td>\n",
       "    </tr>\n",
       "    <tr>\n",
       "      <th>14589</th>\n",
       "      <td>255891.14190</td>\n",
       "    </tr>\n",
       "    <tr>\n",
       "      <th>14590</th>\n",
       "      <td>NaN</td>\n",
       "    </tr>\n",
       "    <tr>\n",
       "      <th>14591</th>\n",
       "      <td>250873.97870</td>\n",
       "    </tr>\n",
       "  </tbody>\n",
       "</table>\n",
       "<p>14592 rows × 1 columns</p>\n",
       "</div>"
      ],
      "text/plain": [
       "       Average_Price\n",
       "0        91448.98487\n",
       "1        50460.22660\n",
       "2        93284.51832\n",
       "3        64958.09036\n",
       "4        71306.56698\n",
       "...              ...\n",
       "14587   480425.38750\n",
       "14588   327412.72220\n",
       "14589   255891.14190\n",
       "14590            NaN\n",
       "14591   250873.97870\n",
       "\n",
       "[14592 rows x 1 columns]"
      ]
     },
     "execution_count": 18,
     "metadata": {},
     "output_type": "execute_result"
    }
   ],
   "source": [
    "properties[['Average_Price']]"
   ]
  },
  {
   "cell_type": "markdown",
   "metadata": {},
   "source": [
    "> Any nulls? Also note, maybe outliers if they exist."
   ]
  },
  {
   "cell_type": "markdown",
   "metadata": {
    "colab_type": "text",
    "id": "knLUXHLypOtw"
   },
   "source": [
    "**2.5. Cleaning the data (part 3)**\n",
    "\n",
    "Do we have an equal number of observations in the ID, Average Price, Month, and London Borough columns? Remember that there are only 32 London Boroughs. How many entries do you have in that column? \n",
    "\n",
    "Check out the contents of the London Borough column, and if you find null values, get rid of them however you see fit. "
   ]
  },
  {
   "cell_type": "code",
   "execution_count": 19,
   "metadata": {
    "ExecuteTime": {
     "end_time": "2020-09-07T01:45:38.625482Z",
     "start_time": "2020-09-07T01:45:38.619996Z"
    },
    "colab": {},
    "colab_type": "code",
    "id": "BnvTW5a3p0fC"
   },
   "outputs": [
    {
     "data": {
      "text/plain": [
       "London_Boroughs    14592\n",
       "Unique_ID          13680\n",
       "Date               14592\n",
       "Average_Price      13680\n",
       "dtype: int64"
      ]
     },
     "execution_count": 19,
     "metadata": {},
     "output_type": "execute_result"
    }
   ],
   "source": [
    "# check if we have equal number of observations\n",
    "# remember we want our data to be tidy! \n",
    "properties.count()"
   ]
  },
  {
   "cell_type": "markdown",
   "metadata": {},
   "source": [
    "> The missing values are likely from the 'Unnamed' columns. Handle them here."
   ]
  },
  {
   "cell_type": "code",
   "execution_count": 20,
   "metadata": {
    "ExecuteTime": {
     "end_time": "2020-09-07T01:45:38.634293Z",
     "start_time": "2020-09-07T01:45:38.626769Z"
    }
   },
   "outputs": [
    {
     "data": {
      "text/html": [
       "<div>\n",
       "<style scoped>\n",
       "    .dataframe tbody tr th:only-of-type {\n",
       "        vertical-align: middle;\n",
       "    }\n",
       "\n",
       "    .dataframe tbody tr th {\n",
       "        vertical-align: top;\n",
       "    }\n",
       "\n",
       "    .dataframe thead th {\n",
       "        text-align: right;\n",
       "    }\n",
       "</style>\n",
       "<table border=\"1\" class=\"dataframe\">\n",
       "  <thead>\n",
       "    <tr style=\"text-align: right;\">\n",
       "      <th></th>\n",
       "      <th>London_Boroughs</th>\n",
       "      <th>Unique_ID</th>\n",
       "      <th>Date</th>\n",
       "      <th>Average_Price</th>\n",
       "    </tr>\n",
       "  </thead>\n",
       "  <tbody>\n",
       "    <tr>\n",
       "      <th>33</th>\n",
       "      <td>Unnamed: 34</td>\n",
       "      <td>NaN</td>\n",
       "      <td>1995-01-01</td>\n",
       "      <td>NaN</td>\n",
       "    </tr>\n",
       "    <tr>\n",
       "      <th>36</th>\n",
       "      <td>Unnamed: 37</td>\n",
       "      <td>NaN</td>\n",
       "      <td>1995-01-01</td>\n",
       "      <td>NaN</td>\n",
       "    </tr>\n",
       "    <tr>\n",
       "      <th>46</th>\n",
       "      <td>Unnamed: 47</td>\n",
       "      <td>NaN</td>\n",
       "      <td>1995-01-01</td>\n",
       "      <td>NaN</td>\n",
       "    </tr>\n",
       "    <tr>\n",
       "      <th>81</th>\n",
       "      <td>Unnamed: 34</td>\n",
       "      <td>NaN</td>\n",
       "      <td>1995-02-01</td>\n",
       "      <td>NaN</td>\n",
       "    </tr>\n",
       "    <tr>\n",
       "      <th>84</th>\n",
       "      <td>Unnamed: 37</td>\n",
       "      <td>NaN</td>\n",
       "      <td>1995-02-01</td>\n",
       "      <td>NaN</td>\n",
       "    </tr>\n",
       "  </tbody>\n",
       "</table>\n",
       "</div>"
      ],
      "text/plain": [
       "   London_Boroughs Unique_ID       Date  Average_Price\n",
       "33     Unnamed: 34       NaN 1995-01-01            NaN\n",
       "36     Unnamed: 37       NaN 1995-01-01            NaN\n",
       "46     Unnamed: 47       NaN 1995-01-01            NaN\n",
       "81     Unnamed: 34       NaN 1995-02-01            NaN\n",
       "84     Unnamed: 37       NaN 1995-02-01            NaN"
      ]
     },
     "execution_count": 20,
     "metadata": {},
     "output_type": "execute_result"
    }
   ],
   "source": [
    "# where are the nulls?\n",
    "properties.loc[properties['Unique_ID'].isnull(),:].head()"
   ]
  },
  {
   "cell_type": "markdown",
   "metadata": {},
   "source": [
    "> These can be dropped."
   ]
  },
  {
   "cell_type": "code",
   "execution_count": 21,
   "metadata": {
    "ExecuteTime": {
     "end_time": "2020-09-07T01:45:38.649962Z",
     "start_time": "2020-09-07T01:45:38.635674Z"
    }
   },
   "outputs": [
    {
     "data": {
      "text/html": [
       "<div>\n",
       "<style scoped>\n",
       "    .dataframe tbody tr th:only-of-type {\n",
       "        vertical-align: middle;\n",
       "    }\n",
       "\n",
       "    .dataframe tbody tr th {\n",
       "        vertical-align: top;\n",
       "    }\n",
       "\n",
       "    .dataframe thead th {\n",
       "        text-align: right;\n",
       "    }\n",
       "</style>\n",
       "<table border=\"1\" class=\"dataframe\">\n",
       "  <thead>\n",
       "    <tr style=\"text-align: right;\">\n",
       "      <th></th>\n",
       "      <th>London_Boroughs</th>\n",
       "      <th>Unique_ID</th>\n",
       "      <th>Date</th>\n",
       "      <th>Average_Price</th>\n",
       "    </tr>\n",
       "  </thead>\n",
       "  <tbody>\n",
       "    <tr>\n",
       "      <th>0</th>\n",
       "      <td>City of London</td>\n",
       "      <td>E09000001</td>\n",
       "      <td>1995-01-01</td>\n",
       "      <td>91448.98487</td>\n",
       "    </tr>\n",
       "    <tr>\n",
       "      <th>1</th>\n",
       "      <td>Barking &amp; Dagenham</td>\n",
       "      <td>E09000002</td>\n",
       "      <td>1995-01-01</td>\n",
       "      <td>50460.22660</td>\n",
       "    </tr>\n",
       "    <tr>\n",
       "      <th>2</th>\n",
       "      <td>Barnet</td>\n",
       "      <td>E09000003</td>\n",
       "      <td>1995-01-01</td>\n",
       "      <td>93284.51832</td>\n",
       "    </tr>\n",
       "    <tr>\n",
       "      <th>3</th>\n",
       "      <td>Bexley</td>\n",
       "      <td>E09000004</td>\n",
       "      <td>1995-01-01</td>\n",
       "      <td>64958.09036</td>\n",
       "    </tr>\n",
       "    <tr>\n",
       "      <th>4</th>\n",
       "      <td>Brent</td>\n",
       "      <td>E09000005</td>\n",
       "      <td>1995-01-01</td>\n",
       "      <td>71306.56698</td>\n",
       "    </tr>\n",
       "  </tbody>\n",
       "</table>\n",
       "</div>"
      ],
      "text/plain": [
       "      London_Boroughs  Unique_ID       Date  Average_Price\n",
       "0      City of London  E09000001 1995-01-01    91448.98487\n",
       "1  Barking & Dagenham  E09000002 1995-01-01    50460.22660\n",
       "2              Barnet  E09000003 1995-01-01    93284.51832\n",
       "3              Bexley  E09000004 1995-01-01    64958.09036\n",
       "4               Brent  E09000005 1995-01-01    71306.56698"
      ]
     },
     "execution_count": 21,
     "metadata": {},
     "output_type": "execute_result"
    }
   ],
   "source": [
    "# drop the nulls\n",
    "properties.dropna(inplace=True)\n",
    "properties.head()"
   ]
  },
  {
   "cell_type": "code",
   "execution_count": 22,
   "metadata": {
    "ExecuteTime": {
     "end_time": "2020-09-07T01:45:38.656665Z",
     "start_time": "2020-09-07T01:45:38.651285Z"
    }
   },
   "outputs": [
    {
     "data": {
      "text/plain": [
       "London_Boroughs    False\n",
       "Unique_ID          False\n",
       "Date               False\n",
       "Average_Price      False\n",
       "dtype: bool"
      ]
     },
     "execution_count": 22,
     "metadata": {},
     "output_type": "execute_result"
    }
   ],
   "source": [
    "# check and count if there's still nulls\n",
    "properties.count().isnull()"
   ]
  },
  {
   "cell_type": "markdown",
   "metadata": {},
   "source": [
    "> Cool."
   ]
  },
  {
   "cell_type": "code",
   "execution_count": 23,
   "metadata": {
    "ExecuteTime": {
     "end_time": "2020-09-07T01:45:38.666866Z",
     "start_time": "2020-09-07T01:45:38.661707Z"
    }
   },
   "outputs": [
    {
     "data": {
      "text/plain": [
       "London_Boroughs    13680\n",
       "Unique_ID          13680\n",
       "Date               13680\n",
       "Average_Price      13680\n",
       "dtype: int64"
      ]
     },
     "execution_count": 23,
     "metadata": {},
     "output_type": "execute_result"
    }
   ],
   "source": [
    "properties.count()"
   ]
  },
  {
   "cell_type": "code",
   "execution_count": 24,
   "metadata": {
    "ExecuteTime": {
     "end_time": "2020-09-07T01:45:38.673531Z",
     "start_time": "2020-09-07T01:45:38.670150Z"
    }
   },
   "outputs": [
    {
     "data": {
      "text/plain": [
       "array(['City of London', 'Barking & Dagenham', 'Barnet', 'Bexley',\n",
       "       'Brent', 'Bromley', 'Camden', 'Croydon', 'Ealing', 'Enfield',\n",
       "       'Greenwich', 'Hackney', 'Hammersmith & Fulham', 'Haringey',\n",
       "       'Harrow', 'Havering', 'Hillingdon', 'Hounslow', 'Islington',\n",
       "       'Kensington & Chelsea', 'Kingston upon Thames', 'Lambeth',\n",
       "       'Lewisham', 'Merton', 'Newham', 'Redbridge',\n",
       "       'Richmond upon Thames', 'Southwark', 'Sutton', 'Tower Hamlets',\n",
       "       'Waltham Forest', 'Wandsworth', 'Westminster', 'Inner London',\n",
       "       'Outer London', 'NORTH EAST', 'NORTH WEST', 'YORKS & THE HUMBER',\n",
       "       'EAST MIDLANDS', 'WEST MIDLANDS', 'EAST OF ENGLAND', 'LONDON',\n",
       "       'SOUTH EAST', 'SOUTH WEST', 'England'], dtype=object)"
      ]
     },
     "execution_count": 24,
     "metadata": {},
     "output_type": "execute_result"
    }
   ],
   "source": [
    "# what are the unique values for the borough names?\n",
    "properties['London_Boroughs'].unique()"
   ]
  },
  {
   "cell_type": "code",
   "execution_count": 25,
   "metadata": {
    "ExecuteTime": {
     "end_time": "2020-09-07T01:45:38.677980Z",
     "start_time": "2020-09-07T01:45:38.674616Z"
    }
   },
   "outputs": [
    {
     "data": {
      "text/plain": [
       "45"
      ]
     },
     "execution_count": 25,
     "metadata": {},
     "output_type": "execute_result"
    }
   ],
   "source": [
    "# how many boroughs do we have? there's only suppose to be 32\n",
    "len(properties['London_Boroughs'].unique())"
   ]
  },
  {
   "cell_type": "code",
   "execution_count": 26,
   "metadata": {
    "ExecuteTime": {
     "end_time": "2020-09-07T01:45:38.690961Z",
     "start_time": "2020-09-07T01:45:38.679159Z"
    }
   },
   "outputs": [
    {
     "data": {
      "text/html": [
       "<div>\n",
       "<style scoped>\n",
       "    .dataframe tbody tr th:only-of-type {\n",
       "        vertical-align: middle;\n",
       "    }\n",
       "\n",
       "    .dataframe tbody tr th {\n",
       "        vertical-align: top;\n",
       "    }\n",
       "\n",
       "    .dataframe thead th {\n",
       "        text-align: right;\n",
       "    }\n",
       "</style>\n",
       "<table border=\"1\" class=\"dataframe\">\n",
       "  <thead>\n",
       "    <tr style=\"text-align: right;\">\n",
       "      <th></th>\n",
       "      <th>London_Boroughs</th>\n",
       "      <th>Unique_ID</th>\n",
       "      <th>Date</th>\n",
       "      <th>Average_Price</th>\n",
       "    </tr>\n",
       "  </thead>\n",
       "  <tbody>\n",
       "    <tr>\n",
       "      <th>0</th>\n",
       "      <td>City Of London</td>\n",
       "      <td>E09000001</td>\n",
       "      <td>1995-01-01</td>\n",
       "      <td>91448.98487</td>\n",
       "    </tr>\n",
       "    <tr>\n",
       "      <th>1</th>\n",
       "      <td>Barking &amp; Dagenham</td>\n",
       "      <td>E09000002</td>\n",
       "      <td>1995-01-01</td>\n",
       "      <td>50460.22660</td>\n",
       "    </tr>\n",
       "    <tr>\n",
       "      <th>2</th>\n",
       "      <td>Barnet</td>\n",
       "      <td>E09000003</td>\n",
       "      <td>1995-01-01</td>\n",
       "      <td>93284.51832</td>\n",
       "    </tr>\n",
       "    <tr>\n",
       "      <th>3</th>\n",
       "      <td>Bexley</td>\n",
       "      <td>E09000004</td>\n",
       "      <td>1995-01-01</td>\n",
       "      <td>64958.09036</td>\n",
       "    </tr>\n",
       "    <tr>\n",
       "      <th>4</th>\n",
       "      <td>Brent</td>\n",
       "      <td>E09000005</td>\n",
       "      <td>1995-01-01</td>\n",
       "      <td>71306.56698</td>\n",
       "    </tr>\n",
       "  </tbody>\n",
       "</table>\n",
       "</div>"
      ],
      "text/plain": [
       "      London_Boroughs  Unique_ID       Date  Average_Price\n",
       "0      City Of London  E09000001 1995-01-01    91448.98487\n",
       "1  Barking & Dagenham  E09000002 1995-01-01    50460.22660\n",
       "2              Barnet  E09000003 1995-01-01    93284.51832\n",
       "3              Bexley  E09000004 1995-01-01    64958.09036\n",
       "4               Brent  E09000005 1995-01-01    71306.56698"
      ]
     },
     "execution_count": 26,
     "metadata": {},
     "output_type": "execute_result"
    }
   ],
   "source": [
    "# lowercase borough names for consistency\n",
    "properties['London_Boroughs'] = properties['London_Boroughs'].str.title()\n",
    "properties.head()"
   ]
  },
  {
   "cell_type": "code",
   "execution_count": 27,
   "metadata": {
    "ExecuteTime": {
     "end_time": "2020-09-07T01:45:38.700645Z",
     "start_time": "2020-09-07T01:45:38.692317Z"
    }
   },
   "outputs": [
    {
     "data": {
      "text/html": [
       "<div>\n",
       "<style scoped>\n",
       "    .dataframe tbody tr th:only-of-type {\n",
       "        vertical-align: middle;\n",
       "    }\n",
       "\n",
       "    .dataframe tbody tr th {\n",
       "        vertical-align: top;\n",
       "    }\n",
       "\n",
       "    .dataframe thead th {\n",
       "        text-align: right;\n",
       "    }\n",
       "</style>\n",
       "<table border=\"1\" class=\"dataframe\">\n",
       "  <thead>\n",
       "    <tr style=\"text-align: right;\">\n",
       "      <th></th>\n",
       "      <th>London_Boroughs</th>\n",
       "      <th>Unique_ID</th>\n",
       "      <th>Date</th>\n",
       "      <th>Average_Price</th>\n",
       "    </tr>\n",
       "  </thead>\n",
       "  <tbody>\n",
       "    <tr>\n",
       "      <th>0</th>\n",
       "      <td>City of London</td>\n",
       "      <td>E09000001</td>\n",
       "      <td>1995-01-01</td>\n",
       "      <td>91448.98487</td>\n",
       "    </tr>\n",
       "    <tr>\n",
       "      <th>1</th>\n",
       "      <td>Barking &amp; Dagenham</td>\n",
       "      <td>E09000002</td>\n",
       "      <td>1995-01-01</td>\n",
       "      <td>50460.22660</td>\n",
       "    </tr>\n",
       "    <tr>\n",
       "      <th>2</th>\n",
       "      <td>Barnet</td>\n",
       "      <td>E09000003</td>\n",
       "      <td>1995-01-01</td>\n",
       "      <td>93284.51832</td>\n",
       "    </tr>\n",
       "    <tr>\n",
       "      <th>3</th>\n",
       "      <td>Bexley</td>\n",
       "      <td>E09000004</td>\n",
       "      <td>1995-01-01</td>\n",
       "      <td>64958.09036</td>\n",
       "    </tr>\n",
       "    <tr>\n",
       "      <th>4</th>\n",
       "      <td>Brent</td>\n",
       "      <td>E09000005</td>\n",
       "      <td>1995-01-01</td>\n",
       "      <td>71306.56698</td>\n",
       "    </tr>\n",
       "  </tbody>\n",
       "</table>\n",
       "</div>"
      ],
      "text/plain": [
       "      London_Boroughs  Unique_ID       Date  Average_Price\n",
       "0      City of London  E09000001 1995-01-01    91448.98487\n",
       "1  Barking & Dagenham  E09000002 1995-01-01    50460.22660\n",
       "2              Barnet  E09000003 1995-01-01    93284.51832\n",
       "3              Bexley  E09000004 1995-01-01    64958.09036\n",
       "4               Brent  E09000005 1995-01-01    71306.56698"
      ]
     },
     "execution_count": 27,
     "metadata": {},
     "output_type": "execute_result"
    }
   ],
   "source": [
    "# fix 'City Of London'\n",
    "properties.loc[properties['London_Boroughs']=='City Of London','London_Boroughs'] = 'City of London'\n",
    "properties.head()"
   ]
  },
  {
   "cell_type": "code",
   "execution_count": 28,
   "metadata": {
    "ExecuteTime": {
     "end_time": "2020-09-07T01:45:38.704520Z",
     "start_time": "2020-09-07T01:45:38.702020Z"
    }
   },
   "outputs": [
    {
     "data": {
      "text/plain": [
       "13680"
      ]
     },
     "execution_count": 28,
     "metadata": {},
     "output_type": "execute_result"
    }
   ],
   "source": [
    "len(properties)"
   ]
  },
  {
   "cell_type": "markdown",
   "metadata": {
    "ExecuteTime": {
     "end_time": "2020-09-06T18:58:46.540240Z",
     "start_time": "2020-09-06T18:58:46.536082Z"
    }
   },
   "source": [
    "> This big number is due to the date column and how the original dataset reported value prices monthly! Either resample and pull out date or make a new column with the 'year'."
   ]
  },
  {
   "cell_type": "code",
   "execution_count": 29,
   "metadata": {
    "ExecuteTime": {
     "end_time": "2020-09-07T01:45:38.749857Z",
     "start_time": "2020-09-07T01:45:38.705827Z"
    }
   },
   "outputs": [
    {
     "data": {
      "text/html": [
       "<div>\n",
       "<style scoped>\n",
       "    .dataframe tbody tr th:only-of-type {\n",
       "        vertical-align: middle;\n",
       "    }\n",
       "\n",
       "    .dataframe tbody tr th {\n",
       "        vertical-align: top;\n",
       "    }\n",
       "\n",
       "    .dataframe thead th {\n",
       "        text-align: right;\n",
       "    }\n",
       "</style>\n",
       "<table border=\"1\" class=\"dataframe\">\n",
       "  <thead>\n",
       "    <tr style=\"text-align: right;\">\n",
       "      <th></th>\n",
       "      <th>London_Boroughs</th>\n",
       "      <th>Unique_ID</th>\n",
       "      <th>Date</th>\n",
       "      <th>Average_Price</th>\n",
       "      <th>Year</th>\n",
       "    </tr>\n",
       "  </thead>\n",
       "  <tbody>\n",
       "    <tr>\n",
       "      <th>0</th>\n",
       "      <td>City of London</td>\n",
       "      <td>E09000001</td>\n",
       "      <td>1995-01-01</td>\n",
       "      <td>91448.98487</td>\n",
       "      <td>1995</td>\n",
       "    </tr>\n",
       "    <tr>\n",
       "      <th>1</th>\n",
       "      <td>Barking &amp; Dagenham</td>\n",
       "      <td>E09000002</td>\n",
       "      <td>1995-01-01</td>\n",
       "      <td>50460.22660</td>\n",
       "      <td>1995</td>\n",
       "    </tr>\n",
       "    <tr>\n",
       "      <th>2</th>\n",
       "      <td>Barnet</td>\n",
       "      <td>E09000003</td>\n",
       "      <td>1995-01-01</td>\n",
       "      <td>93284.51832</td>\n",
       "      <td>1995</td>\n",
       "    </tr>\n",
       "    <tr>\n",
       "      <th>3</th>\n",
       "      <td>Bexley</td>\n",
       "      <td>E09000004</td>\n",
       "      <td>1995-01-01</td>\n",
       "      <td>64958.09036</td>\n",
       "      <td>1995</td>\n",
       "    </tr>\n",
       "    <tr>\n",
       "      <th>4</th>\n",
       "      <td>Brent</td>\n",
       "      <td>E09000005</td>\n",
       "      <td>1995-01-01</td>\n",
       "      <td>71306.56698</td>\n",
       "      <td>1995</td>\n",
       "    </tr>\n",
       "  </tbody>\n",
       "</table>\n",
       "</div>"
      ],
      "text/plain": [
       "      London_Boroughs  Unique_ID       Date  Average_Price  Year\n",
       "0      City of London  E09000001 1995-01-01    91448.98487  1995\n",
       "1  Barking & Dagenham  E09000002 1995-01-01    50460.22660  1995\n",
       "2              Barnet  E09000003 1995-01-01    93284.51832  1995\n",
       "3              Bexley  E09000004 1995-01-01    64958.09036  1995\n",
       "4               Brent  E09000005 1995-01-01    71306.56698  1995"
      ]
     },
     "execution_count": 29,
     "metadata": {},
     "output_type": "execute_result"
    }
   ],
   "source": [
    "## create new column with year \n",
    "## code from tier 1\n",
    "properties['Year'] = properties['Date'].apply(lambda x: x.year)\n",
    "properties.head()"
   ]
  },
  {
   "cell_type": "code",
   "execution_count": 30,
   "metadata": {
    "ExecuteTime": {
     "end_time": "2020-09-07T01:45:38.758157Z",
     "start_time": "2020-09-07T01:45:38.751187Z"
    }
   },
   "outputs": [
    {
     "data": {
      "text/html": [
       "<div>\n",
       "<style scoped>\n",
       "    .dataframe tbody tr th:only-of-type {\n",
       "        vertical-align: middle;\n",
       "    }\n",
       "\n",
       "    .dataframe tbody tr th {\n",
       "        vertical-align: top;\n",
       "    }\n",
       "\n",
       "    .dataframe thead th {\n",
       "        text-align: right;\n",
       "    }\n",
       "</style>\n",
       "<table border=\"1\" class=\"dataframe\">\n",
       "  <thead>\n",
       "    <tr style=\"text-align: right;\">\n",
       "      <th></th>\n",
       "      <th>London_Boroughs</th>\n",
       "      <th>Unique_ID</th>\n",
       "      <th>Date</th>\n",
       "      <th>Average_Price</th>\n",
       "      <th>Year</th>\n",
       "    </tr>\n",
       "  </thead>\n",
       "  <tbody>\n",
       "    <tr>\n",
       "      <th>14586</th>\n",
       "      <td>East Of England</td>\n",
       "      <td>E12000006</td>\n",
       "      <td>2020-04-01</td>\n",
       "      <td>295639.9297</td>\n",
       "      <td>2020</td>\n",
       "    </tr>\n",
       "    <tr>\n",
       "      <th>14587</th>\n",
       "      <td>London</td>\n",
       "      <td>E12000007</td>\n",
       "      <td>2020-04-01</td>\n",
       "      <td>480425.3875</td>\n",
       "      <td>2020</td>\n",
       "    </tr>\n",
       "    <tr>\n",
       "      <th>14588</th>\n",
       "      <td>South East</td>\n",
       "      <td>E12000008</td>\n",
       "      <td>2020-04-01</td>\n",
       "      <td>327412.7222</td>\n",
       "      <td>2020</td>\n",
       "    </tr>\n",
       "    <tr>\n",
       "      <th>14589</th>\n",
       "      <td>South West</td>\n",
       "      <td>E12000009</td>\n",
       "      <td>2020-04-01</td>\n",
       "      <td>255891.1419</td>\n",
       "      <td>2020</td>\n",
       "    </tr>\n",
       "    <tr>\n",
       "      <th>14591</th>\n",
       "      <td>England</td>\n",
       "      <td>E92000001</td>\n",
       "      <td>2020-04-01</td>\n",
       "      <td>250873.9787</td>\n",
       "      <td>2020</td>\n",
       "    </tr>\n",
       "  </tbody>\n",
       "</table>\n",
       "</div>"
      ],
      "text/plain": [
       "       London_Boroughs  Unique_ID       Date  Average_Price  Year\n",
       "14586  East Of England  E12000006 2020-04-01    295639.9297  2020\n",
       "14587           London  E12000007 2020-04-01    480425.3875  2020\n",
       "14588       South East  E12000008 2020-04-01    327412.7222  2020\n",
       "14589       South West  E12000009 2020-04-01    255891.1419  2020\n",
       "14591          England  E92000001 2020-04-01    250873.9787  2020"
      ]
     },
     "execution_count": 30,
     "metadata": {},
     "output_type": "execute_result"
    }
   ],
   "source": [
    "properties.tail()"
   ]
  },
  {
   "cell_type": "markdown",
   "metadata": {},
   "source": [
    "> The 'Of' in East Of England is capitalized. Want to fix but not necessary because they will be filtred out as it's not a borough."
   ]
  },
  {
   "cell_type": "code",
   "execution_count": 31,
   "metadata": {
    "ExecuteTime": {
     "end_time": "2020-09-07T01:45:38.763209Z",
     "start_time": "2020-09-07T01:45:38.759630Z"
    }
   },
   "outputs": [
    {
     "data": {
      "text/plain": [
       "array(['City of London', 'Barking & Dagenham', 'Barnet', 'Bexley',\n",
       "       'Brent', 'Bromley', 'Camden', 'Croydon', 'Ealing', 'Enfield',\n",
       "       'Greenwich', 'Hackney', 'Hammersmith & Fulham', 'Haringey',\n",
       "       'Harrow', 'Havering', 'Hillingdon', 'Hounslow', 'Islington',\n",
       "       'Kensington & Chelsea', 'Kingston Upon Thames', 'Lambeth',\n",
       "       'Lewisham', 'Merton', 'Newham', 'Redbridge',\n",
       "       'Richmond Upon Thames', 'Southwark', 'Sutton', 'Tower Hamlets',\n",
       "       'Waltham Forest', 'Wandsworth', 'Westminster', 'Inner London',\n",
       "       'Outer London', 'North East', 'North West', 'Yorks & The Humber',\n",
       "       'East Midlands', 'West Midlands', 'East Of England', 'London',\n",
       "       'South East', 'South West', 'England'], dtype=object)"
      ]
     },
     "execution_count": 31,
     "metadata": {},
     "output_type": "execute_result"
    }
   ],
   "source": [
    "properties['London_Boroughs'].unique()"
   ]
  },
  {
   "cell_type": "code",
   "execution_count": 32,
   "metadata": {
    "ExecuteTime": {
     "end_time": "2020-09-07T01:45:38.767383Z",
     "start_time": "2020-09-07T01:45:38.764472Z"
    }
   },
   "outputs": [
    {
     "data": {
      "text/plain": [
       "['Inner London',\n",
       " 'Outer London',\n",
       " 'North East',\n",
       " 'North West',\n",
       " 'Yorks & The Humber',\n",
       " 'East Midlands',\n",
       " 'West Midlands',\n",
       " 'East Of England',\n",
       " 'London',\n",
       " 'South East',\n",
       " 'South West',\n",
       " 'England']"
      ]
     },
     "execution_count": 32,
     "metadata": {},
     "output_type": "execute_result"
    }
   ],
   "source": [
    "non_boroughs = ['Inner London', 'Outer London', \n",
    "               'North East', 'North West', \n",
    "                'Yorks & The Humber','East Midlands', \n",
    "                'West Midlands', 'East Of England', 'London',\n",
    "                'South East', 'South West', 'England']\n",
    "non_boroughs"
   ]
  },
  {
   "cell_type": "code",
   "execution_count": 33,
   "metadata": {
    "ExecuteTime": {
     "end_time": "2020-09-07T01:45:38.777694Z",
     "start_time": "2020-09-07T01:45:38.768717Z"
    },
    "code_folding": []
   },
   "outputs": [
    {
     "data": {
      "text/html": [
       "<div>\n",
       "<style scoped>\n",
       "    .dataframe tbody tr th:only-of-type {\n",
       "        vertical-align: middle;\n",
       "    }\n",
       "\n",
       "    .dataframe tbody tr th {\n",
       "        vertical-align: top;\n",
       "    }\n",
       "\n",
       "    .dataframe thead th {\n",
       "        text-align: right;\n",
       "    }\n",
       "</style>\n",
       "<table border=\"1\" class=\"dataframe\">\n",
       "  <thead>\n",
       "    <tr style=\"text-align: right;\">\n",
       "      <th></th>\n",
       "      <th>London_Boroughs</th>\n",
       "      <th>Unique_ID</th>\n",
       "      <th>Date</th>\n",
       "      <th>Average_Price</th>\n",
       "      <th>Year</th>\n",
       "    </tr>\n",
       "  </thead>\n",
       "  <tbody>\n",
       "    <tr>\n",
       "      <th>0</th>\n",
       "      <td>City of London</td>\n",
       "      <td>E09000001</td>\n",
       "      <td>1995-01-01</td>\n",
       "      <td>91448.98487</td>\n",
       "      <td>1995</td>\n",
       "    </tr>\n",
       "    <tr>\n",
       "      <th>1</th>\n",
       "      <td>Barking &amp; Dagenham</td>\n",
       "      <td>E09000002</td>\n",
       "      <td>1995-01-01</td>\n",
       "      <td>50460.22660</td>\n",
       "      <td>1995</td>\n",
       "    </tr>\n",
       "    <tr>\n",
       "      <th>2</th>\n",
       "      <td>Barnet</td>\n",
       "      <td>E09000003</td>\n",
       "      <td>1995-01-01</td>\n",
       "      <td>93284.51832</td>\n",
       "      <td>1995</td>\n",
       "    </tr>\n",
       "    <tr>\n",
       "      <th>3</th>\n",
       "      <td>Bexley</td>\n",
       "      <td>E09000004</td>\n",
       "      <td>1995-01-01</td>\n",
       "      <td>64958.09036</td>\n",
       "      <td>1995</td>\n",
       "    </tr>\n",
       "    <tr>\n",
       "      <th>4</th>\n",
       "      <td>Brent</td>\n",
       "      <td>E09000005</td>\n",
       "      <td>1995-01-01</td>\n",
       "      <td>71306.56698</td>\n",
       "      <td>1995</td>\n",
       "    </tr>\n",
       "  </tbody>\n",
       "</table>\n",
       "</div>"
      ],
      "text/plain": [
       "      London_Boroughs  Unique_ID       Date  Average_Price  Year\n",
       "0      City of London  E09000001 1995-01-01    91448.98487  1995\n",
       "1  Barking & Dagenham  E09000002 1995-01-01    50460.22660  1995\n",
       "2              Barnet  E09000003 1995-01-01    93284.51832  1995\n",
       "3              Bexley  E09000004 1995-01-01    64958.09036  1995\n",
       "4               Brent  E09000005 1995-01-01    71306.56698  1995"
      ]
     },
     "execution_count": 33,
     "metadata": {},
     "output_type": "execute_result"
    }
   ],
   "source": [
    "# check if a borough is in this list, if it is don't include it in the final\n",
    "# df; via reassignment\n",
    "properties = properties[~properties['London_Boroughs'].isin(non_boroughs)]\n",
    "properties.head()"
   ]
  },
  {
   "cell_type": "code",
   "execution_count": 34,
   "metadata": {
    "ExecuteTime": {
     "end_time": "2020-09-07T01:45:38.782615Z",
     "start_time": "2020-09-07T01:45:38.778939Z"
    }
   },
   "outputs": [
    {
     "data": {
      "text/plain": [
       "array(['City of London', 'Barking & Dagenham', 'Barnet', 'Bexley',\n",
       "       'Brent', 'Bromley', 'Camden', 'Croydon', 'Ealing', 'Enfield',\n",
       "       'Greenwich', 'Hackney', 'Hammersmith & Fulham', 'Haringey',\n",
       "       'Harrow', 'Havering', 'Hillingdon', 'Hounslow', 'Islington',\n",
       "       'Kensington & Chelsea', 'Kingston Upon Thames', 'Lambeth',\n",
       "       'Lewisham', 'Merton', 'Newham', 'Redbridge',\n",
       "       'Richmond Upon Thames', 'Southwark', 'Sutton', 'Tower Hamlets',\n",
       "       'Waltham Forest', 'Wandsworth', 'Westminster'], dtype=object)"
      ]
     },
     "execution_count": 34,
     "metadata": {},
     "output_type": "execute_result"
    }
   ],
   "source": [
    "properties['London_Boroughs'].unique()"
   ]
  },
  {
   "cell_type": "code",
   "execution_count": 35,
   "metadata": {
    "ExecuteTime": {
     "end_time": "2020-09-07T01:45:38.788999Z",
     "start_time": "2020-09-07T01:45:38.783823Z"
    }
   },
   "outputs": [
    {
     "data": {
      "text/plain": [
       "London_Boroughs    10032\n",
       "Unique_ID          10032\n",
       "Date               10032\n",
       "Average_Price      10032\n",
       "Year               10032\n",
       "dtype: int64"
      ]
     },
     "execution_count": 35,
     "metadata": {},
     "output_type": "execute_result"
    }
   ],
   "source": [
    "properties.count()"
   ]
  },
  {
   "cell_type": "code",
   "execution_count": 36,
   "metadata": {
    "ExecuteTime": {
     "end_time": "2020-09-07T01:45:38.793381Z",
     "start_time": "2020-09-07T01:45:38.790219Z"
    }
   },
   "outputs": [
    {
     "data": {
      "text/plain": [
       "array([1995, 1996, 1997, 1998, 1999, 2000, 2001, 2002, 2003, 2004, 2005,\n",
       "       2006, 2007, 2008, 2009, 2010, 2011, 2012, 2013, 2014, 2015, 2016,\n",
       "       2017, 2018, 2019, 2020])"
      ]
     },
     "execution_count": 36,
     "metadata": {},
     "output_type": "execute_result"
    }
   ],
   "source": [
    "properties['Year'].unique()"
   ]
  },
  {
   "cell_type": "code",
   "execution_count": 37,
   "metadata": {
    "ExecuteTime": {
     "end_time": "2020-09-07T01:45:38.797315Z",
     "start_time": "2020-09-07T01:45:38.794587Z"
    }
   },
   "outputs": [
    {
     "data": {
      "text/plain": [
       "26"
      ]
     },
     "execution_count": 37,
     "metadata": {},
     "output_type": "execute_result"
    }
   ],
   "source": [
    "len(properties['Year'].unique())"
   ]
  },
  {
   "cell_type": "markdown",
   "metadata": {},
   "source": [
    "> We now have the correct boroughs, got rid of the nulls, correct dtypes, renamed columns, and added years. Cleaned (afaik) and ready to visualize and do calcs. "
   ]
  },
  {
   "cell_type": "markdown",
   "metadata": {
    "colab_type": "text",
    "id": "PGEx6mJsp6dG"
   },
   "source": [
    "**2.6. Visualizing the data**\n",
    "\n",
    "To visualize the data, why not subset on a particular London Borough? Maybe do a line plot of Month against Average Price?"
   ]
  },
  {
   "cell_type": "code",
   "execution_count": 38,
   "metadata": {
    "ExecuteTime": {
     "end_time": "2020-09-07T01:45:38.986983Z",
     "start_time": "2020-09-07T01:45:38.798511Z"
    }
   },
   "outputs": [
    {
     "data": {
      "image/png": "[encoded data removed]",
      "text/plain": [
       "<Figure size 864x720 with 1 Axes>"
      ]
     },
     "metadata": {
      "needs_background": "light"
     },
     "output_type": "display_data"
    }
   ],
   "source": [
    "# code from Tier 1\n",
    "westminster = properties[properties['London_Boroughs'] == 'Westminster']\n",
    "ax = westminster.plot(kind ='line', x = 'Date', y='Average_Price',\n",
    "                      color ='red', figsize=(12,10))\n",
    "ax.set_xlabel('Date')\n",
    "ax.set_ylabel('Price')\n",
    "\n",
    "# to prevent y values being changes to scientific notation\n",
    "ax.get_yaxis().get_major_formatter().set_scientific(False)\n"
   ]
  },
  {
   "cell_type": "code",
   "execution_count": 39,
   "metadata": {
    "ExecuteTime": {
     "end_time": "2020-09-07T01:45:38.994933Z",
     "start_time": "2020-09-07T01:45:38.988308Z"
    }
   },
   "outputs": [
    {
     "data": {
      "text/html": [
       "<div>\n",
       "<style scoped>\n",
       "    .dataframe tbody tr th:only-of-type {\n",
       "        vertical-align: middle;\n",
       "    }\n",
       "\n",
       "    .dataframe tbody tr th {\n",
       "        vertical-align: top;\n",
       "    }\n",
       "\n",
       "    .dataframe thead th {\n",
       "        text-align: right;\n",
       "    }\n",
       "</style>\n",
       "<table border=\"1\" class=\"dataframe\">\n",
       "  <thead>\n",
       "    <tr style=\"text-align: right;\">\n",
       "      <th></th>\n",
       "      <th>London_Boroughs</th>\n",
       "      <th>Unique_ID</th>\n",
       "      <th>Date</th>\n",
       "      <th>Average_Price</th>\n",
       "      <th>Year</th>\n",
       "    </tr>\n",
       "  </thead>\n",
       "  <tbody>\n",
       "    <tr>\n",
       "      <th>0</th>\n",
       "      <td>City of London</td>\n",
       "      <td>E09000001</td>\n",
       "      <td>1995-01-01</td>\n",
       "      <td>91448.98487</td>\n",
       "      <td>1995</td>\n",
       "    </tr>\n",
       "    <tr>\n",
       "      <th>1</th>\n",
       "      <td>Barking &amp; Dagenham</td>\n",
       "      <td>E09000002</td>\n",
       "      <td>1995-01-01</td>\n",
       "      <td>50460.22660</td>\n",
       "      <td>1995</td>\n",
       "    </tr>\n",
       "    <tr>\n",
       "      <th>2</th>\n",
       "      <td>Barnet</td>\n",
       "      <td>E09000003</td>\n",
       "      <td>1995-01-01</td>\n",
       "      <td>93284.51832</td>\n",
       "      <td>1995</td>\n",
       "    </tr>\n",
       "    <tr>\n",
       "      <th>3</th>\n",
       "      <td>Bexley</td>\n",
       "      <td>E09000004</td>\n",
       "      <td>1995-01-01</td>\n",
       "      <td>64958.09036</td>\n",
       "      <td>1995</td>\n",
       "    </tr>\n",
       "    <tr>\n",
       "      <th>4</th>\n",
       "      <td>Brent</td>\n",
       "      <td>E09000005</td>\n",
       "      <td>1995-01-01</td>\n",
       "      <td>71306.56698</td>\n",
       "      <td>1995</td>\n",
       "    </tr>\n",
       "  </tbody>\n",
       "</table>\n",
       "</div>"
      ],
      "text/plain": [
       "      London_Boroughs  Unique_ID       Date  Average_Price  Year\n",
       "0      City of London  E09000001 1995-01-01    91448.98487  1995\n",
       "1  Barking & Dagenham  E09000002 1995-01-01    50460.22660  1995\n",
       "2              Barnet  E09000003 1995-01-01    93284.51832  1995\n",
       "3              Bexley  E09000004 1995-01-01    64958.09036  1995\n",
       "4               Brent  E09000005 1995-01-01    71306.56698  1995"
      ]
     },
     "execution_count": 39,
     "metadata": {},
     "output_type": "execute_result"
    }
   ],
   "source": [
    "properties.head()"
   ]
  },
  {
   "cell_type": "code",
   "execution_count": 40,
   "metadata": {
    "ExecuteTime": {
     "end_time": "2020-09-07T01:45:39.002642Z",
     "start_time": "2020-09-07T01:45:38.996160Z"
    }
   },
   "outputs": [
    {
     "data": {
      "text/html": [
       "<div>\n",
       "<style scoped>\n",
       "    .dataframe tbody tr th:only-of-type {\n",
       "        vertical-align: middle;\n",
       "    }\n",
       "\n",
       "    .dataframe tbody tr th {\n",
       "        vertical-align: top;\n",
       "    }\n",
       "\n",
       "    .dataframe thead th {\n",
       "        text-align: right;\n",
       "    }\n",
       "</style>\n",
       "<table border=\"1\" class=\"dataframe\">\n",
       "  <thead>\n",
       "    <tr style=\"text-align: right;\">\n",
       "      <th></th>\n",
       "      <th>Average_Price</th>\n",
       "    </tr>\n",
       "  </thead>\n",
       "  <tbody>\n",
       "    <tr>\n",
       "      <th>0</th>\n",
       "      <td>9.144898e+04</td>\n",
       "    </tr>\n",
       "    <tr>\n",
       "      <th>1</th>\n",
       "      <td>5.046023e+04</td>\n",
       "    </tr>\n",
       "    <tr>\n",
       "      <th>2</th>\n",
       "      <td>9.328452e+04</td>\n",
       "    </tr>\n",
       "    <tr>\n",
       "      <th>3</th>\n",
       "      <td>6.495809e+04</td>\n",
       "    </tr>\n",
       "    <tr>\n",
       "      <th>4</th>\n",
       "      <td>7.130657e+04</td>\n",
       "    </tr>\n",
       "    <tr>\n",
       "      <th>...</th>\n",
       "      <td>...</td>\n",
       "    </tr>\n",
       "    <tr>\n",
       "      <th>14572</th>\n",
       "      <td>3.768080e+05</td>\n",
       "    </tr>\n",
       "    <tr>\n",
       "      <th>14573</th>\n",
       "      <td>4.809838e+05</td>\n",
       "    </tr>\n",
       "    <tr>\n",
       "      <th>14574</th>\n",
       "      <td>4.403541e+05</td>\n",
       "    </tr>\n",
       "    <tr>\n",
       "      <th>14575</th>\n",
       "      <td>6.072275e+05</td>\n",
       "    </tr>\n",
       "    <tr>\n",
       "      <th>14576</th>\n",
       "      <td>1.034488e+06</td>\n",
       "    </tr>\n",
       "  </tbody>\n",
       "</table>\n",
       "<p>10032 rows × 1 columns</p>\n",
       "</div>"
      ],
      "text/plain": [
       "       Average_Price\n",
       "0       9.144898e+04\n",
       "1       5.046023e+04\n",
       "2       9.328452e+04\n",
       "3       6.495809e+04\n",
       "4       7.130657e+04\n",
       "...              ...\n",
       "14572   3.768080e+05\n",
       "14573   4.809838e+05\n",
       "14574   4.403541e+05\n",
       "14575   6.072275e+05\n",
       "14576   1.034488e+06\n",
       "\n",
       "[10032 rows x 1 columns]"
      ]
     },
     "execution_count": 40,
     "metadata": {},
     "output_type": "execute_result"
    }
   ],
   "source": [
    "# why does it return scientific notiation? \n",
    "properties[['Average_Price']]"
   ]
  },
  {
   "cell_type": "code",
   "execution_count": 41,
   "metadata": {
    "ExecuteTime": {
     "end_time": "2020-09-07T01:45:39.009568Z",
     "start_time": "2020-09-07T01:45:39.004018Z"
    }
   },
   "outputs": [
    {
     "data": {
      "text/html": [
       "<div>\n",
       "<style scoped>\n",
       "    .dataframe tbody tr th:only-of-type {\n",
       "        vertical-align: middle;\n",
       "    }\n",
       "\n",
       "    .dataframe tbody tr th {\n",
       "        vertical-align: top;\n",
       "    }\n",
       "\n",
       "    .dataframe thead th {\n",
       "        text-align: right;\n",
       "    }\n",
       "</style>\n",
       "<table border=\"1\" class=\"dataframe\">\n",
       "  <thead>\n",
       "    <tr style=\"text-align: right;\">\n",
       "      <th></th>\n",
       "      <th>Average_Price</th>\n",
       "    </tr>\n",
       "  </thead>\n",
       "  <tbody>\n",
       "    <tr>\n",
       "      <th>0</th>\n",
       "      <td>91448.98487</td>\n",
       "    </tr>\n",
       "    <tr>\n",
       "      <th>1</th>\n",
       "      <td>50460.22660</td>\n",
       "    </tr>\n",
       "    <tr>\n",
       "      <th>2</th>\n",
       "      <td>93284.51832</td>\n",
       "    </tr>\n",
       "    <tr>\n",
       "      <th>3</th>\n",
       "      <td>64958.09036</td>\n",
       "    </tr>\n",
       "    <tr>\n",
       "      <th>4</th>\n",
       "      <td>71306.56698</td>\n",
       "    </tr>\n",
       "  </tbody>\n",
       "</table>\n",
       "</div>"
      ],
      "text/plain": [
       "   Average_Price\n",
       "0    91448.98487\n",
       "1    50460.22660\n",
       "2    93284.51832\n",
       "3    64958.09036\n",
       "4    71306.56698"
      ]
     },
     "execution_count": 41,
     "metadata": {},
     "output_type": "execute_result"
    }
   ],
   "source": [
    "# but if you use head it's normal\n",
    "properties[['Average_Price']].head()"
   ]
  },
  {
   "cell_type": "markdown",
   "metadata": {},
   "source": [
    "> Check this out later. Need to move forward."
   ]
  },
  {
   "cell_type": "markdown",
   "metadata": {
    "colab_type": "text",
    "id": "aWTPqSJeqHnC"
   },
   "source": [
    "---\n",
    "To limit the number of data points you have, you might want to extract the year from every month value your *Month* column. \n",
    "\n",
    "To this end, you *could* apply a ***lambda function***. Your logic could work as follows:\n",
    "1. look through the `Month` column\n",
    "2. extract the year from each individual value in that column \n",
    "3. store that corresponding year as separate column. \n",
    "\n",
    "Whether you go ahead with this is up to you. Just so long as you answer our initial brief: which boroughs of London have seen the greatest house price increase, on average, over the past two decades? "
   ]
  },
  {
   "cell_type": "code",
   "execution_count": 42,
   "metadata": {
    "ExecuteTime": {
     "end_time": "2020-09-07T01:45:39.015042Z",
     "start_time": "2020-09-07T01:45:39.011218Z"
    },
    "colab": {},
    "colab_type": "code",
    "id": "e0DF92cyqnu8"
   },
   "outputs": [
    {
     "data": {
      "text/plain": [
       "Index(['London_Boroughs', 'Unique_ID', 'Date', 'Average_Price', 'Year'], dtype='object')"
      ]
     },
     "execution_count": 42,
     "metadata": {},
     "output_type": "execute_result"
    }
   ],
   "source": [
    "properties.columns"
   ]
  },
  {
   "cell_type": "markdown",
   "metadata": {},
   "source": [
    "> Already completed from earlier."
   ]
  },
  {
   "cell_type": "code",
   "execution_count": 43,
   "metadata": {
    "ExecuteTime": {
     "end_time": "2020-09-07T01:45:39.022936Z",
     "start_time": "2020-09-07T01:45:39.016213Z"
    }
   },
   "outputs": [
    {
     "data": {
      "text/html": [
       "<div>\n",
       "<style scoped>\n",
       "    .dataframe tbody tr th:only-of-type {\n",
       "        vertical-align: middle;\n",
       "    }\n",
       "\n",
       "    .dataframe tbody tr th {\n",
       "        vertical-align: top;\n",
       "    }\n",
       "\n",
       "    .dataframe thead th {\n",
       "        text-align: right;\n",
       "    }\n",
       "</style>\n",
       "<table border=\"1\" class=\"dataframe\">\n",
       "  <thead>\n",
       "    <tr style=\"text-align: right;\">\n",
       "      <th></th>\n",
       "      <th>London_Boroughs</th>\n",
       "      <th>Unique_ID</th>\n",
       "      <th>Date</th>\n",
       "      <th>Average_Price</th>\n",
       "      <th>Year</th>\n",
       "    </tr>\n",
       "  </thead>\n",
       "  <tbody>\n",
       "    <tr>\n",
       "      <th>0</th>\n",
       "      <td>City of London</td>\n",
       "      <td>E09000001</td>\n",
       "      <td>1995-01-01</td>\n",
       "      <td>91448.98487</td>\n",
       "      <td>1995</td>\n",
       "    </tr>\n",
       "    <tr>\n",
       "      <th>1</th>\n",
       "      <td>Barking &amp; Dagenham</td>\n",
       "      <td>E09000002</td>\n",
       "      <td>1995-01-01</td>\n",
       "      <td>50460.22660</td>\n",
       "      <td>1995</td>\n",
       "    </tr>\n",
       "    <tr>\n",
       "      <th>2</th>\n",
       "      <td>Barnet</td>\n",
       "      <td>E09000003</td>\n",
       "      <td>1995-01-01</td>\n",
       "      <td>93284.51832</td>\n",
       "      <td>1995</td>\n",
       "    </tr>\n",
       "    <tr>\n",
       "      <th>3</th>\n",
       "      <td>Bexley</td>\n",
       "      <td>E09000004</td>\n",
       "      <td>1995-01-01</td>\n",
       "      <td>64958.09036</td>\n",
       "      <td>1995</td>\n",
       "    </tr>\n",
       "    <tr>\n",
       "      <th>4</th>\n",
       "      <td>Brent</td>\n",
       "      <td>E09000005</td>\n",
       "      <td>1995-01-01</td>\n",
       "      <td>71306.56698</td>\n",
       "      <td>1995</td>\n",
       "    </tr>\n",
       "  </tbody>\n",
       "</table>\n",
       "</div>"
      ],
      "text/plain": [
       "      London_Boroughs  Unique_ID       Date  Average_Price  Year\n",
       "0      City of London  E09000001 1995-01-01    91448.98487  1995\n",
       "1  Barking & Dagenham  E09000002 1995-01-01    50460.22660  1995\n",
       "2              Barnet  E09000003 1995-01-01    93284.51832  1995\n",
       "3              Bexley  E09000004 1995-01-01    64958.09036  1995\n",
       "4               Brent  E09000005 1995-01-01    71306.56698  1995"
      ]
     },
     "execution_count": 43,
     "metadata": {},
     "output_type": "execute_result"
    }
   ],
   "source": [
    "properties.head()"
   ]
  },
  {
   "cell_type": "markdown",
   "metadata": {},
   "source": [
    "> Regard this as the cleaned boroughs df with all the months and individual value points. Because we're interested in the average price for the past two decades in all the boroughs to find the **highest increase**, we are interested only in the following variables: `London_Boroughs`, `Average_Price`,`Year`. "
   ]
  },
  {
   "cell_type": "code",
   "execution_count": 44,
   "metadata": {
    "ExecuteTime": {
     "end_time": "2020-09-07T01:45:39.033509Z",
     "start_time": "2020-09-07T01:45:39.024243Z"
    }
   },
   "outputs": [
    {
     "data": {
      "text/html": [
       "<div>\n",
       "<style scoped>\n",
       "    .dataframe tbody tr th:only-of-type {\n",
       "        vertical-align: middle;\n",
       "    }\n",
       "\n",
       "    .dataframe tbody tr th {\n",
       "        vertical-align: top;\n",
       "    }\n",
       "\n",
       "    .dataframe thead th {\n",
       "        text-align: right;\n",
       "    }\n",
       "</style>\n",
       "<table border=\"1\" class=\"dataframe\">\n",
       "  <thead>\n",
       "    <tr style=\"text-align: right;\">\n",
       "      <th></th>\n",
       "      <th></th>\n",
       "      <th>Average_Price</th>\n",
       "    </tr>\n",
       "    <tr>\n",
       "      <th>London_Boroughs</th>\n",
       "      <th>Year</th>\n",
       "      <th></th>\n",
       "    </tr>\n",
       "  </thead>\n",
       "  <tbody>\n",
       "    <tr>\n",
       "      <th rowspan=\"5\" valign=\"top\">Barking &amp; Dagenham</th>\n",
       "      <th>1995</th>\n",
       "      <td>51817.969390</td>\n",
       "    </tr>\n",
       "    <tr>\n",
       "      <th>1996</th>\n",
       "      <td>51718.192690</td>\n",
       "    </tr>\n",
       "    <tr>\n",
       "      <th>1997</th>\n",
       "      <td>55974.262309</td>\n",
       "    </tr>\n",
       "    <tr>\n",
       "      <th>1998</th>\n",
       "      <td>60285.821083</td>\n",
       "    </tr>\n",
       "    <tr>\n",
       "      <th>1999</th>\n",
       "      <td>65320.934441</td>\n",
       "    </tr>\n",
       "  </tbody>\n",
       "</table>\n",
       "</div>"
      ],
      "text/plain": [
       "                         Average_Price\n",
       "London_Boroughs    Year               \n",
       "Barking & Dagenham 1995   51817.969390\n",
       "                   1996   51718.192690\n",
       "                   1997   55974.262309\n",
       "                   1998   60285.821083\n",
       "                   1999   65320.934441"
      ]
     },
     "execution_count": 44,
     "metadata": {},
     "output_type": "execute_result"
    }
   ],
   "source": [
    "#group by according to the variables of our interest and calc the mean of\n",
    "# the prices\n",
    "df = properties.groupby(by=['London_Boroughs','Year']).mean()\n",
    "df.head()"
   ]
  },
  {
   "cell_type": "code",
   "execution_count": 45,
   "metadata": {
    "ExecuteTime": {
     "end_time": "2020-09-07T01:45:39.040365Z",
     "start_time": "2020-09-07T01:45:39.034862Z"
    }
   },
   "outputs": [
    {
     "name": "stdout",
     "output_type": "stream",
     "text": [
      "<class 'pandas.core.frame.DataFrame'>\n",
      "MultiIndex: 858 entries, ('Barking & Dagenham', 1995) to ('Westminster', 2020)\n",
      "Data columns (total 1 columns):\n",
      " #   Column         Non-Null Count  Dtype  \n",
      "---  ------         --------------  -----  \n",
      " 0   Average_Price  858 non-null    float64\n",
      "dtypes: float64(1)\n",
      "memory usage: 9.0+ KB\n"
     ]
    }
   ],
   "source": [
    "df.info()"
   ]
  },
  {
   "cell_type": "markdown",
   "metadata": {},
   "source": [
    "> We now have a multi-index. Need to reset because we the boroughs (thing we want to predict) **should never** be the index."
   ]
  },
  {
   "cell_type": "code",
   "execution_count": 46,
   "metadata": {
    "ExecuteTime": {
     "end_time": "2020-09-07T01:45:39.048683Z",
     "start_time": "2020-09-07T01:45:39.041830Z"
    }
   },
   "outputs": [
    {
     "data": {
      "text/html": [
       "<div>\n",
       "<style scoped>\n",
       "    .dataframe tbody tr th:only-of-type {\n",
       "        vertical-align: middle;\n",
       "    }\n",
       "\n",
       "    .dataframe tbody tr th {\n",
       "        vertical-align: top;\n",
       "    }\n",
       "\n",
       "    .dataframe thead th {\n",
       "        text-align: right;\n",
       "    }\n",
       "</style>\n",
       "<table border=\"1\" class=\"dataframe\">\n",
       "  <thead>\n",
       "    <tr style=\"text-align: right;\">\n",
       "      <th></th>\n",
       "      <th>London_Boroughs</th>\n",
       "      <th>Year</th>\n",
       "      <th>Average_Price</th>\n",
       "    </tr>\n",
       "  </thead>\n",
       "  <tbody>\n",
       "    <tr>\n",
       "      <th>0</th>\n",
       "      <td>Barking &amp; Dagenham</td>\n",
       "      <td>1995</td>\n",
       "      <td>51817.969390</td>\n",
       "    </tr>\n",
       "    <tr>\n",
       "      <th>1</th>\n",
       "      <td>Barking &amp; Dagenham</td>\n",
       "      <td>1996</td>\n",
       "      <td>51718.192690</td>\n",
       "    </tr>\n",
       "    <tr>\n",
       "      <th>2</th>\n",
       "      <td>Barking &amp; Dagenham</td>\n",
       "      <td>1997</td>\n",
       "      <td>55974.262309</td>\n",
       "    </tr>\n",
       "    <tr>\n",
       "      <th>3</th>\n",
       "      <td>Barking &amp; Dagenham</td>\n",
       "      <td>1998</td>\n",
       "      <td>60285.821083</td>\n",
       "    </tr>\n",
       "    <tr>\n",
       "      <th>4</th>\n",
       "      <td>Barking &amp; Dagenham</td>\n",
       "      <td>1999</td>\n",
       "      <td>65320.934441</td>\n",
       "    </tr>\n",
       "  </tbody>\n",
       "</table>\n",
       "</div>"
      ],
      "text/plain": [
       "      London_Boroughs  Year  Average_Price\n",
       "0  Barking & Dagenham  1995   51817.969390\n",
       "1  Barking & Dagenham  1996   51718.192690\n",
       "2  Barking & Dagenham  1997   55974.262309\n",
       "3  Barking & Dagenham  1998   60285.821083\n",
       "4  Barking & Dagenham  1999   65320.934441"
      ]
     },
     "execution_count": 46,
     "metadata": {},
     "output_type": "execute_result"
    }
   ],
   "source": [
    "# by not setting inplace = True, you're not changing the df. You're reassigning\n",
    "# it to dfg\n",
    "dfg = df.reset_index()\n",
    "dfg.head()"
   ]
  },
  {
   "cell_type": "code",
   "execution_count": 47,
   "metadata": {
    "ExecuteTime": {
     "end_time": "2020-09-07T01:45:39.055824Z",
     "start_time": "2020-09-07T01:45:39.049998Z"
    }
   },
   "outputs": [
    {
     "name": "stdout",
     "output_type": "stream",
     "text": [
      "<class 'pandas.core.frame.DataFrame'>\n",
      "RangeIndex: 858 entries, 0 to 857\n",
      "Data columns (total 3 columns):\n",
      " #   Column           Non-Null Count  Dtype  \n",
      "---  ------           --------------  -----  \n",
      " 0   London_Boroughs  858 non-null    object \n",
      " 1   Year             858 non-null    int64  \n",
      " 2   Average_Price    858 non-null    float64\n",
      "dtypes: float64(1), int64(1), object(1)\n",
      "memory usage: 20.2+ KB\n"
     ]
    }
   ],
   "source": [
    "dfg.info()"
   ]
  },
  {
   "cell_type": "markdown",
   "metadata": {},
   "source": [
    "---"
   ]
  },
  {
   "cell_type": "markdown",
   "metadata": {
    "colab_type": "text",
    "id": "2knuTxAEqoJ4"
   },
   "source": [
    "**3. Modeling**\n",
    "\n",
    "Consider creating a function that will calculate a ratio of house prices, comparing the price of a house in 2018 to the price in 1998.\n",
    "\n",
    "Consider calling this function create_price_ratio.\n",
    "\n",
    "You'd want this function to:\n",
    "1. Take a filter of dfg, specifically where this filter constrains the London_Borough, as an argument. For example, one admissible argument should be: dfg[dfg['London_Borough']=='Camden'].\n",
    "2. Get the Average Price for that Borough, for the years 1998 and 2018.\n",
    "4. Calculate the ratio of the Average Price for 1998 divided by the Average Price for 2018.\n",
    "5. Return that ratio.\n",
    "\n",
    "Once you've written this function, you ultimately want to use it to iterate through all the unique London_Boroughs and work out the ratio capturing the difference of house prices between 1998 and 2018.\n",
    "\n",
    "Bear in mind: you don't have to write a function like this if you don't want to. If you can solve the brief otherwise, then great! \n",
    "\n",
    "***Hint***: This section should test the skills you acquired in:\n",
    "- Python Data Science Toolbox - Part One, all modules"
   ]
  },
  {
   "cell_type": "code",
   "execution_count": 48,
   "metadata": {
    "ExecuteTime": {
     "end_time": "2020-09-07T01:45:39.059432Z",
     "start_time": "2020-09-07T01:45:39.057120Z"
    },
    "colab": {},
    "colab_type": "code",
    "id": "cKTyr437UgDa"
   },
   "outputs": [],
   "source": [
    "# custom function with \n",
    "def create_price_ratio(dfg):\n",
    "    year_1998 = float(dfg['Average_Price'][dfg['Year']==1998])\n",
    "    year_2018 = float(dfg['Average_Price'][dfg['Year']==2018])\n",
    "    price_ratio = [year_1998 / year_2018]\n",
    "    return price_ratio                                       "
   ]
  },
  {
   "cell_type": "markdown",
   "metadata": {},
   "source": [
    "> We want our year range (1998,2018) because that's two decades. "
   ]
  },
  {
   "cell_type": "code",
   "execution_count": 49,
   "metadata": {
    "ExecuteTime": {
     "end_time": "2020-09-07T01:45:39.064347Z",
     "start_time": "2020-09-07T01:45:39.060767Z"
    }
   },
   "outputs": [
    {
     "data": {
      "text/plain": [
       "[0.18679140473024677]"
      ]
     },
     "execution_count": 49,
     "metadata": {},
     "output_type": "execute_result"
    }
   ],
   "source": [
    "# try it out!\n",
    "create_price_ratio(dfg[dfg['London_Boroughs']=='Westminster'])"
   ]
  },
  {
   "cell_type": "code",
   "execution_count": 50,
   "metadata": {
    "ExecuteTime": {
     "end_time": "2020-09-07T01:45:39.070720Z",
     "start_time": "2020-09-07T01:45:39.065465Z"
    }
   },
   "outputs": [
    {
     "data": {
      "text/html": [
       "<div>\n",
       "<style scoped>\n",
       "    .dataframe tbody tr th:only-of-type {\n",
       "        vertical-align: middle;\n",
       "    }\n",
       "\n",
       "    .dataframe tbody tr th {\n",
       "        vertical-align: top;\n",
       "    }\n",
       "\n",
       "    .dataframe thead th {\n",
       "        text-align: right;\n",
       "    }\n",
       "</style>\n",
       "<table border=\"1\" class=\"dataframe\">\n",
       "  <thead>\n",
       "    <tr style=\"text-align: right;\">\n",
       "      <th></th>\n",
       "      <th>London_Boroughs</th>\n",
       "      <th>Year</th>\n",
       "      <th>Average_Price</th>\n",
       "    </tr>\n",
       "  </thead>\n",
       "  <tbody>\n",
       "    <tr>\n",
       "      <th>0</th>\n",
       "      <td>Barking &amp; Dagenham</td>\n",
       "      <td>1995</td>\n",
       "      <td>51817.969390</td>\n",
       "    </tr>\n",
       "    <tr>\n",
       "      <th>1</th>\n",
       "      <td>Barking &amp; Dagenham</td>\n",
       "      <td>1996</td>\n",
       "      <td>51718.192690</td>\n",
       "    </tr>\n",
       "    <tr>\n",
       "      <th>2</th>\n",
       "      <td>Barking &amp; Dagenham</td>\n",
       "      <td>1997</td>\n",
       "      <td>55974.262309</td>\n",
       "    </tr>\n",
       "    <tr>\n",
       "      <th>3</th>\n",
       "      <td>Barking &amp; Dagenham</td>\n",
       "      <td>1998</td>\n",
       "      <td>60285.821083</td>\n",
       "    </tr>\n",
       "    <tr>\n",
       "      <th>4</th>\n",
       "      <td>Barking &amp; Dagenham</td>\n",
       "      <td>1999</td>\n",
       "      <td>65320.934441</td>\n",
       "    </tr>\n",
       "  </tbody>\n",
       "</table>\n",
       "</div>"
      ],
      "text/plain": [
       "      London_Boroughs  Year  Average_Price\n",
       "0  Barking & Dagenham  1995   51817.969390\n",
       "1  Barking & Dagenham  1996   51718.192690\n",
       "2  Barking & Dagenham  1997   55974.262309\n",
       "3  Barking & Dagenham  1998   60285.821083\n",
       "4  Barking & Dagenham  1999   65320.934441"
      ]
     },
     "execution_count": 50,
     "metadata": {},
     "output_type": "execute_result"
    }
   ],
   "source": [
    "dfg.head()"
   ]
  },
  {
   "cell_type": "markdown",
   "metadata": {},
   "source": [
    "> Need to apply this function to all the rows. So create a dict that'll hold the average prices as value and the borough as the key. Apply the new function via iteration then convert to a new dataframe. Reset and rename columns. This new and final dataframe will be what to use for modeling and answering your ds problem!"
   ]
  },
  {
   "cell_type": "code",
   "execution_count": 51,
   "metadata": {
    "ExecuteTime": {
     "end_time": "2020-09-07T01:45:39.102671Z",
     "start_time": "2020-09-07T01:45:39.072007Z"
    }
   },
   "outputs": [
    {
     "name": "stdout",
     "output_type": "stream",
     "text": [
      "{'Barking & Dagenham': [0.20422256235393685], 'Barnet': [0.22945274120785797], 'Bexley': [0.2353507654063011], 'Brent': [0.2043086864360114], 'Bromley': [0.24421308489837312], 'Camden': [0.20261973503252542], 'City of London': [0.18862157770244367], 'Croydon': [0.23803288028014047], 'Ealing': [0.23194048191708755], 'Enfield': [0.23455064269011863], 'Greenwich': [0.20995010893854218], 'Hackney': [0.16133493530705734], 'Hammersmith & Fulham': [0.24167443054605853], 'Haringey': [0.19475619095546956], 'Harrow': [0.24635417785626296], 'Havering': [0.23120155787014757], 'Hillingdon': [0.23807975835429931], 'Hounslow': [0.25148317824115635], 'Islington': [0.20643891170300285], 'Kensington & Chelsea': [0.19675491852791563], 'Kingston Upon Thames': [0.23416190234282552], 'Lambeth': [0.20170435486140822], 'Lewisham': [0.1835124676472171], 'Merton': [0.21091380604361798], 'Newham': [0.18848754146121072], 'Redbridge': [0.2236545053715767], 'Richmond Upon Thames': [0.24967779731157863], 'Southwark': [0.18127484171283462], 'Sutton': [0.24280551426824518], 'Tower Hamlets': [0.2161367227623553], 'Waltham Forest': [0.1713867782439487], 'Wandsworth': [0.2101851809159322], 'Westminster': [0.18679140473024677]}\n"
     ]
    }
   ],
   "source": [
    "# from Tier 1\n",
    "final = {}\n",
    "for b in dfg['London_Boroughs'].unique():\n",
    "    borough = dfg[dfg['London_Boroughs'] == b]\n",
    "    final[b] = create_price_ratio(borough)\n",
    "    \n",
    "print(final)"
   ]
  },
  {
   "cell_type": "code",
   "execution_count": 52,
   "metadata": {
    "ExecuteTime": {
     "end_time": "2020-09-07T01:45:39.106587Z",
     "start_time": "2020-09-07T01:45:39.104045Z"
    }
   },
   "outputs": [
    {
     "data": {
      "text/plain": [
       "33"
      ]
     },
     "execution_count": 52,
     "metadata": {},
     "output_type": "execute_result"
    }
   ],
   "source": [
    "# check number of borough\n",
    "len(final)"
   ]
  },
  {
   "cell_type": "markdown",
   "metadata": {},
   "source": [
    "> Make dict a new and final df for plotting, wrangling, and answering our ds question!"
   ]
  },
  {
   "cell_type": "code",
   "execution_count": 53,
   "metadata": {
    "ExecuteTime": {
     "end_time": "2020-09-07T01:45:39.122031Z",
     "start_time": "2020-09-07T01:45:39.107803Z"
    }
   },
   "outputs": [
    {
     "data": {
      "text/html": [
       "<div>\n",
       "<style scoped>\n",
       "    .dataframe tbody tr th:only-of-type {\n",
       "        vertical-align: middle;\n",
       "    }\n",
       "\n",
       "    .dataframe tbody tr th {\n",
       "        vertical-align: top;\n",
       "    }\n",
       "\n",
       "    .dataframe thead th {\n",
       "        text-align: right;\n",
       "    }\n",
       "</style>\n",
       "<table border=\"1\" class=\"dataframe\">\n",
       "  <thead>\n",
       "    <tr style=\"text-align: right;\">\n",
       "      <th></th>\n",
       "      <th>Barking &amp; Dagenham</th>\n",
       "      <th>Barnet</th>\n",
       "      <th>Bexley</th>\n",
       "      <th>Brent</th>\n",
       "      <th>Bromley</th>\n",
       "      <th>Camden</th>\n",
       "      <th>City of London</th>\n",
       "      <th>Croydon</th>\n",
       "      <th>Ealing</th>\n",
       "      <th>Enfield</th>\n",
       "      <th>...</th>\n",
       "      <th>Merton</th>\n",
       "      <th>Newham</th>\n",
       "      <th>Redbridge</th>\n",
       "      <th>Richmond Upon Thames</th>\n",
       "      <th>Southwark</th>\n",
       "      <th>Sutton</th>\n",
       "      <th>Tower Hamlets</th>\n",
       "      <th>Waltham Forest</th>\n",
       "      <th>Wandsworth</th>\n",
       "      <th>Westminster</th>\n",
       "    </tr>\n",
       "  </thead>\n",
       "  <tbody>\n",
       "    <tr>\n",
       "      <th>0</th>\n",
       "      <td>0.204223</td>\n",
       "      <td>0.229453</td>\n",
       "      <td>0.235351</td>\n",
       "      <td>0.204309</td>\n",
       "      <td>0.244213</td>\n",
       "      <td>0.20262</td>\n",
       "      <td>0.188622</td>\n",
       "      <td>0.238033</td>\n",
       "      <td>0.23194</td>\n",
       "      <td>0.234551</td>\n",
       "      <td>...</td>\n",
       "      <td>0.210914</td>\n",
       "      <td>0.188488</td>\n",
       "      <td>0.223655</td>\n",
       "      <td>0.249678</td>\n",
       "      <td>0.181275</td>\n",
       "      <td>0.242806</td>\n",
       "      <td>0.216137</td>\n",
       "      <td>0.171387</td>\n",
       "      <td>0.210185</td>\n",
       "      <td>0.186791</td>\n",
       "    </tr>\n",
       "  </tbody>\n",
       "</table>\n",
       "<p>1 rows × 33 columns</p>\n",
       "</div>"
      ],
      "text/plain": [
       "   Barking & Dagenham    Barnet    Bexley     Brent   Bromley   Camden  City of London   Croydon   Ealing   Enfield  ...    Merton    Newham  Redbridge  Richmond Upon Thames  Southwark    Sutton  \\\n",
       "0            0.204223  0.229453  0.235351  0.204309  0.244213  0.20262        0.188622  0.238033  0.23194  0.234551  ...  0.210914  0.188488   0.223655              0.249678   0.181275  0.242806   \n",
       "\n",
       "   Tower Hamlets  Waltham Forest  Wandsworth  Westminster  \n",
       "0       0.216137        0.171387    0.210185     0.186791  \n",
       "\n",
       "[1 rows x 33 columns]"
      ]
     },
     "execution_count": 53,
     "metadata": {},
     "output_type": "execute_result"
    }
   ],
   "source": [
    "london_prices = pd.DataFrame(final)\n",
    "london_prices.head()"
   ]
  },
  {
   "cell_type": "code",
   "execution_count": 54,
   "metadata": {
    "ExecuteTime": {
     "end_time": "2020-09-07T01:45:39.128132Z",
     "start_time": "2020-09-07T01:45:39.123249Z"
    }
   },
   "outputs": [
    {
     "data": {
      "text/html": [
       "<div>\n",
       "<style scoped>\n",
       "    .dataframe tbody tr th:only-of-type {\n",
       "        vertical-align: middle;\n",
       "    }\n",
       "\n",
       "    .dataframe tbody tr th {\n",
       "        vertical-align: top;\n",
       "    }\n",
       "\n",
       "    .dataframe thead th {\n",
       "        text-align: right;\n",
       "    }\n",
       "</style>\n",
       "<table border=\"1\" class=\"dataframe\">\n",
       "  <thead>\n",
       "    <tr style=\"text-align: right;\">\n",
       "      <th></th>\n",
       "      <th>0</th>\n",
       "    </tr>\n",
       "  </thead>\n",
       "  <tbody>\n",
       "    <tr>\n",
       "      <th>Barking &amp; Dagenham</th>\n",
       "      <td>0.204223</td>\n",
       "    </tr>\n",
       "    <tr>\n",
       "      <th>Barnet</th>\n",
       "      <td>0.229453</td>\n",
       "    </tr>\n",
       "    <tr>\n",
       "      <th>Bexley</th>\n",
       "      <td>0.235351</td>\n",
       "    </tr>\n",
       "    <tr>\n",
       "      <th>Brent</th>\n",
       "      <td>0.204309</td>\n",
       "    </tr>\n",
       "    <tr>\n",
       "      <th>Bromley</th>\n",
       "      <td>0.244213</td>\n",
       "    </tr>\n",
       "  </tbody>\n",
       "</table>\n",
       "</div>"
      ],
      "text/plain": [
       "                           0\n",
       "Barking & Dagenham  0.204223\n",
       "Barnet              0.229453\n",
       "Bexley              0.235351\n",
       "Brent               0.204309\n",
       "Bromley             0.244213"
      ]
     },
     "execution_count": 54,
     "metadata": {},
     "output_type": "execute_result"
    }
   ],
   "source": [
    "# transpose\n",
    "london_priceRatios = london_prices.T\n",
    "london_priceRatios.head()"
   ]
  },
  {
   "cell_type": "code",
   "execution_count": 55,
   "metadata": {
    "ExecuteTime": {
     "end_time": "2020-09-07T01:45:39.134737Z",
     "start_time": "2020-09-07T01:45:39.129239Z"
    }
   },
   "outputs": [
    {
     "data": {
      "text/html": [
       "<div>\n",
       "<style scoped>\n",
       "    .dataframe tbody tr th:only-of-type {\n",
       "        vertical-align: middle;\n",
       "    }\n",
       "\n",
       "    .dataframe tbody tr th {\n",
       "        vertical-align: top;\n",
       "    }\n",
       "\n",
       "    .dataframe thead th {\n",
       "        text-align: right;\n",
       "    }\n",
       "</style>\n",
       "<table border=\"1\" class=\"dataframe\">\n",
       "  <thead>\n",
       "    <tr style=\"text-align: right;\">\n",
       "      <th></th>\n",
       "      <th>index</th>\n",
       "      <th>0</th>\n",
       "    </tr>\n",
       "  </thead>\n",
       "  <tbody>\n",
       "    <tr>\n",
       "      <th>0</th>\n",
       "      <td>Barking &amp; Dagenham</td>\n",
       "      <td>0.204223</td>\n",
       "    </tr>\n",
       "    <tr>\n",
       "      <th>1</th>\n",
       "      <td>Barnet</td>\n",
       "      <td>0.229453</td>\n",
       "    </tr>\n",
       "    <tr>\n",
       "      <th>2</th>\n",
       "      <td>Bexley</td>\n",
       "      <td>0.235351</td>\n",
       "    </tr>\n",
       "    <tr>\n",
       "      <th>3</th>\n",
       "      <td>Brent</td>\n",
       "      <td>0.204309</td>\n",
       "    </tr>\n",
       "    <tr>\n",
       "      <th>4</th>\n",
       "      <td>Bromley</td>\n",
       "      <td>0.244213</td>\n",
       "    </tr>\n",
       "  </tbody>\n",
       "</table>\n",
       "</div>"
      ],
      "text/plain": [
       "                index         0\n",
       "0  Barking & Dagenham  0.204223\n",
       "1              Barnet  0.229453\n",
       "2              Bexley  0.235351\n",
       "3               Brent  0.204309\n",
       "4             Bromley  0.244213"
      ]
     },
     "execution_count": 55,
     "metadata": {},
     "output_type": "execute_result"
    }
   ],
   "source": [
    "# reset index \n",
    "london_priceRatios.reset_index(inplace=True)\n",
    "london_priceRatios.head()"
   ]
  },
  {
   "cell_type": "code",
   "execution_count": 56,
   "metadata": {
    "ExecuteTime": {
     "end_time": "2020-09-07T01:45:39.141795Z",
     "start_time": "2020-09-07T01:45:39.136021Z"
    }
   },
   "outputs": [
    {
     "data": {
      "text/html": [
       "<div>\n",
       "<style scoped>\n",
       "    .dataframe tbody tr th:only-of-type {\n",
       "        vertical-align: middle;\n",
       "    }\n",
       "\n",
       "    .dataframe tbody tr th {\n",
       "        vertical-align: top;\n",
       "    }\n",
       "\n",
       "    .dataframe thead th {\n",
       "        text-align: right;\n",
       "    }\n",
       "</style>\n",
       "<table border=\"1\" class=\"dataframe\">\n",
       "  <thead>\n",
       "    <tr style=\"text-align: right;\">\n",
       "      <th></th>\n",
       "      <th>Boroughs</th>\n",
       "      <th>Values</th>\n",
       "    </tr>\n",
       "  </thead>\n",
       "  <tbody>\n",
       "    <tr>\n",
       "      <th>0</th>\n",
       "      <td>Barking &amp; Dagenham</td>\n",
       "      <td>0.204223</td>\n",
       "    </tr>\n",
       "    <tr>\n",
       "      <th>1</th>\n",
       "      <td>Barnet</td>\n",
       "      <td>0.229453</td>\n",
       "    </tr>\n",
       "    <tr>\n",
       "      <th>2</th>\n",
       "      <td>Bexley</td>\n",
       "      <td>0.235351</td>\n",
       "    </tr>\n",
       "    <tr>\n",
       "      <th>3</th>\n",
       "      <td>Brent</td>\n",
       "      <td>0.204309</td>\n",
       "    </tr>\n",
       "    <tr>\n",
       "      <th>4</th>\n",
       "      <td>Bromley</td>\n",
       "      <td>0.244213</td>\n",
       "    </tr>\n",
       "  </tbody>\n",
       "</table>\n",
       "</div>"
      ],
      "text/plain": [
       "             Boroughs    Values\n",
       "0  Barking & Dagenham  0.204223\n",
       "1              Barnet  0.229453\n",
       "2              Bexley  0.235351\n",
       "3               Brent  0.204309\n",
       "4             Bromley  0.244213"
      ]
     },
     "execution_count": 56,
     "metadata": {},
     "output_type": "execute_result"
    }
   ],
   "source": [
    "# rename cols\n",
    "london_priceRatios.rename(columns={'index':'Boroughs',0:'Values'},inplace=True)\n",
    "london_priceRatios.head()"
   ]
  },
  {
   "cell_type": "code",
   "execution_count": 57,
   "metadata": {
    "ExecuteTime": {
     "end_time": "2020-09-07T01:45:39.149530Z",
     "start_time": "2020-09-07T01:45:39.142947Z"
    }
   },
   "outputs": [
    {
     "data": {
      "text/html": [
       "<div>\n",
       "<style scoped>\n",
       "    .dataframe tbody tr th:only-of-type {\n",
       "        vertical-align: middle;\n",
       "    }\n",
       "\n",
       "    .dataframe tbody tr th {\n",
       "        vertical-align: top;\n",
       "    }\n",
       "\n",
       "    .dataframe thead th {\n",
       "        text-align: right;\n",
       "    }\n",
       "</style>\n",
       "<table border=\"1\" class=\"dataframe\">\n",
       "  <thead>\n",
       "    <tr style=\"text-align: right;\">\n",
       "      <th></th>\n",
       "      <th>Boroughs</th>\n",
       "      <th>Values</th>\n",
       "    </tr>\n",
       "  </thead>\n",
       "  <tbody>\n",
       "    <tr>\n",
       "      <th>0</th>\n",
       "      <td>Barking &amp; Dagenham</td>\n",
       "      <td>0.204223</td>\n",
       "    </tr>\n",
       "    <tr>\n",
       "      <th>1</th>\n",
       "      <td>Barnet</td>\n",
       "      <td>0.229453</td>\n",
       "    </tr>\n",
       "    <tr>\n",
       "      <th>2</th>\n",
       "      <td>Bexley</td>\n",
       "      <td>0.235351</td>\n",
       "    </tr>\n",
       "    <tr>\n",
       "      <th>3</th>\n",
       "      <td>Brent</td>\n",
       "      <td>0.204309</td>\n",
       "    </tr>\n",
       "    <tr>\n",
       "      <th>4</th>\n",
       "      <td>Bromley</td>\n",
       "      <td>0.244213</td>\n",
       "    </tr>\n",
       "    <tr>\n",
       "      <th>...</th>\n",
       "      <td>...</td>\n",
       "      <td>...</td>\n",
       "    </tr>\n",
       "    <tr>\n",
       "      <th>28</th>\n",
       "      <td>Sutton</td>\n",
       "      <td>0.242806</td>\n",
       "    </tr>\n",
       "    <tr>\n",
       "      <th>29</th>\n",
       "      <td>Tower Hamlets</td>\n",
       "      <td>0.216137</td>\n",
       "    </tr>\n",
       "    <tr>\n",
       "      <th>30</th>\n",
       "      <td>Waltham Forest</td>\n",
       "      <td>0.171387</td>\n",
       "    </tr>\n",
       "    <tr>\n",
       "      <th>31</th>\n",
       "      <td>Wandsworth</td>\n",
       "      <td>0.210185</td>\n",
       "    </tr>\n",
       "    <tr>\n",
       "      <th>32</th>\n",
       "      <td>Westminster</td>\n",
       "      <td>0.186791</td>\n",
       "    </tr>\n",
       "  </tbody>\n",
       "</table>\n",
       "<p>33 rows × 2 columns</p>\n",
       "</div>"
      ],
      "text/plain": [
       "              Boroughs    Values\n",
       "0   Barking & Dagenham  0.204223\n",
       "1               Barnet  0.229453\n",
       "2               Bexley  0.235351\n",
       "3                Brent  0.204309\n",
       "4              Bromley  0.244213\n",
       "..                 ...       ...\n",
       "28              Sutton  0.242806\n",
       "29       Tower Hamlets  0.216137\n",
       "30      Waltham Forest  0.171387\n",
       "31          Wandsworth  0.210185\n",
       "32         Westminster  0.186791\n",
       "\n",
       "[33 rows x 2 columns]"
      ]
     },
     "execution_count": 57,
     "metadata": {},
     "output_type": "execute_result"
    }
   ],
   "source": [
    "london_priceRatios"
   ]
  },
  {
   "cell_type": "markdown",
   "metadata": {},
   "source": [
    "> Time to answer our ds question!!!"
   ]
  },
  {
   "cell_type": "markdown",
   "metadata": {},
   "source": [
    "---"
   ]
  },
  {
   "cell_type": "markdown",
   "metadata": {},
   "source": [
    "> Which boroughs of London have seen the **greatest increase in housing prices**, on average, **over the last two decades**?"
   ]
  },
  {
   "cell_type": "code",
   "execution_count": 58,
   "metadata": {
    "ExecuteTime": {
     "end_time": "2020-09-07T01:45:39.155734Z",
     "start_time": "2020-09-07T01:45:39.150798Z"
    }
   },
   "outputs": [
    {
     "data": {
      "text/html": [
       "<div>\n",
       "<style scoped>\n",
       "    .dataframe tbody tr th:only-of-type {\n",
       "        vertical-align: middle;\n",
       "    }\n",
       "\n",
       "    .dataframe tbody tr th {\n",
       "        vertical-align: top;\n",
       "    }\n",
       "\n",
       "    .dataframe thead th {\n",
       "        text-align: right;\n",
       "    }\n",
       "</style>\n",
       "<table border=\"1\" class=\"dataframe\">\n",
       "  <thead>\n",
       "    <tr style=\"text-align: right;\">\n",
       "      <th></th>\n",
       "      <th>Boroughs</th>\n",
       "      <th>Values</th>\n",
       "    </tr>\n",
       "  </thead>\n",
       "  <tbody>\n",
       "    <tr>\n",
       "      <th>0</th>\n",
       "      <td>Barking &amp; Dagenham</td>\n",
       "      <td>0.204223</td>\n",
       "    </tr>\n",
       "    <tr>\n",
       "      <th>1</th>\n",
       "      <td>Barnet</td>\n",
       "      <td>0.229453</td>\n",
       "    </tr>\n",
       "    <tr>\n",
       "      <th>2</th>\n",
       "      <td>Bexley</td>\n",
       "      <td>0.235351</td>\n",
       "    </tr>\n",
       "    <tr>\n",
       "      <th>3</th>\n",
       "      <td>Brent</td>\n",
       "      <td>0.204309</td>\n",
       "    </tr>\n",
       "    <tr>\n",
       "      <th>4</th>\n",
       "      <td>Bromley</td>\n",
       "      <td>0.244213</td>\n",
       "    </tr>\n",
       "  </tbody>\n",
       "</table>\n",
       "</div>"
      ],
      "text/plain": [
       "             Boroughs    Values\n",
       "0  Barking & Dagenham  0.204223\n",
       "1              Barnet  0.229453\n",
       "2              Bexley  0.235351\n",
       "3               Brent  0.204309\n",
       "4             Bromley  0.244213"
      ]
     },
     "execution_count": 58,
     "metadata": {},
     "output_type": "execute_result"
    }
   ],
   "source": [
    "london_priceRatios.head()"
   ]
  },
  {
   "cell_type": "code",
   "execution_count": 59,
   "metadata": {
    "ExecuteTime": {
     "end_time": "2020-09-07T01:45:39.163791Z",
     "start_time": "2020-09-07T01:45:39.157197Z"
    }
   },
   "outputs": [
    {
     "data": {
      "text/html": [
       "<div>\n",
       "<style scoped>\n",
       "    .dataframe tbody tr th:only-of-type {\n",
       "        vertical-align: middle;\n",
       "    }\n",
       "\n",
       "    .dataframe tbody tr th {\n",
       "        vertical-align: top;\n",
       "    }\n",
       "\n",
       "    .dataframe thead th {\n",
       "        text-align: right;\n",
       "    }\n",
       "</style>\n",
       "<table border=\"1\" class=\"dataframe\">\n",
       "  <thead>\n",
       "    <tr style=\"text-align: right;\">\n",
       "      <th></th>\n",
       "      <th>Boroughs</th>\n",
       "      <th>Values</th>\n",
       "    </tr>\n",
       "  </thead>\n",
       "  <tbody>\n",
       "    <tr>\n",
       "      <th>9</th>\n",
       "      <td>Enfield</td>\n",
       "      <td>0.234551</td>\n",
       "    </tr>\n",
       "    <tr>\n",
       "      <th>2</th>\n",
       "      <td>Bexley</td>\n",
       "      <td>0.235351</td>\n",
       "    </tr>\n",
       "    <tr>\n",
       "      <th>7</th>\n",
       "      <td>Croydon</td>\n",
       "      <td>0.238033</td>\n",
       "    </tr>\n",
       "    <tr>\n",
       "      <th>16</th>\n",
       "      <td>Hillingdon</td>\n",
       "      <td>0.238080</td>\n",
       "    </tr>\n",
       "    <tr>\n",
       "      <th>12</th>\n",
       "      <td>Hammersmith &amp; Fulham</td>\n",
       "      <td>0.241674</td>\n",
       "    </tr>\n",
       "    <tr>\n",
       "      <th>28</th>\n",
       "      <td>Sutton</td>\n",
       "      <td>0.242806</td>\n",
       "    </tr>\n",
       "    <tr>\n",
       "      <th>4</th>\n",
       "      <td>Bromley</td>\n",
       "      <td>0.244213</td>\n",
       "    </tr>\n",
       "    <tr>\n",
       "      <th>14</th>\n",
       "      <td>Harrow</td>\n",
       "      <td>0.246354</td>\n",
       "    </tr>\n",
       "    <tr>\n",
       "      <th>26</th>\n",
       "      <td>Richmond Upon Thames</td>\n",
       "      <td>0.249678</td>\n",
       "    </tr>\n",
       "    <tr>\n",
       "      <th>17</th>\n",
       "      <td>Hounslow</td>\n",
       "      <td>0.251483</td>\n",
       "    </tr>\n",
       "  </tbody>\n",
       "</table>\n",
       "</div>"
      ],
      "text/plain": [
       "                Boroughs    Values\n",
       "9                Enfield  0.234551\n",
       "2                 Bexley  0.235351\n",
       "7                Croydon  0.238033\n",
       "16            Hillingdon  0.238080\n",
       "12  Hammersmith & Fulham  0.241674\n",
       "28                Sutton  0.242806\n",
       "4                Bromley  0.244213\n",
       "14                Harrow  0.246354\n",
       "26  Richmond Upon Thames  0.249678\n",
       "17              Hounslow  0.251483"
      ]
     },
     "execution_count": 59,
     "metadata": {},
     "output_type": "execute_result"
    }
   ],
   "source": [
    "top10 = london_priceRatios.sort_values(by='Values',ascending=True).tail(10)\n",
    "top10"
   ]
  },
  {
   "cell_type": "code",
   "execution_count": 60,
   "metadata": {
    "ExecuteTime": {
     "end_time": "2020-09-07T01:45:39.168532Z",
     "start_time": "2020-09-07T01:45:39.165215Z"
    }
   },
   "outputs": [
    {
     "data": {
      "text/plain": [
       "Index(['London_Boroughs', 'Year', 'Average_Price'], dtype='object')"
      ]
     },
     "execution_count": 60,
     "metadata": {},
     "output_type": "execute_result"
    }
   ],
   "source": [
    "dfg.columns"
   ]
  },
  {
   "cell_type": "code",
   "execution_count": 61,
   "metadata": {
    "ExecuteTime": {
     "end_time": "2020-09-07T01:45:40.042064Z",
     "start_time": "2020-09-07T01:45:39.169946Z"
    }
   },
   "outputs": [
    {
     "data": {
      "text/plain": [
       "<AxesSubplot:xlabel='Year', ylabel='Average_Price'>"
      ]
     },
     "execution_count": 61,
     "metadata": {},
     "output_type": "execute_result"
    },
    {
     "data": {
      "image/png": "[encoded data removed]",
      "text/plain": [
       "<Figure size 1440x720 with 1 Axes>"
      ]
     },
     "metadata": {
      "needs_background": "light"
     },
     "output_type": "display_data"
    }
   ],
   "source": [
    "f, ax = plt.subplots(figsize=(20,10))\n",
    "by_year_graph = sns.lineplot(x=\"Year\",y='Average_Price',hue=\"London_Boroughs\",data=dfg)\n",
    "by_year_graph"
   ]
  },
  {
   "cell_type": "markdown",
   "metadata": {},
   "source": [
    "> While this shows clear increasing trend over time, 32 boroughs are too many and it's clustered, plus can't read and distinguish one from another. Not a good chart."
   ]
  },
  {
   "cell_type": "code",
   "execution_count": 62,
   "metadata": {
    "ExecuteTime": {
     "end_time": "2020-09-07T01:45:40.210098Z",
     "start_time": "2020-09-07T01:45:40.043408Z"
    }
   },
   "outputs": [
    {
     "data": {
      "image/png": "[encoded data removed]",
      "text/plain": [
       "<Figure size 1440x720 with 1 Axes>"
      ]
     },
     "metadata": {
      "needs_background": "light"
     },
     "output_type": "display_data"
    }
   ],
   "source": [
    "f, ax = plt.subplots(figsize=(20,10))\n",
    "\n",
    "ax= sns.barplot(x=\"Boroughs\",y='Values',\n",
    "                data=top10)\n",
    "ax.set_xlabel('London Boroughs', fontdict={'fontsize':20})\n",
    "ax.set_ylabel('Price Ratio', fontdict={'fontsize':20})\n",
    "\n",
    "plt.title(\"London Borough Housing Prices (1998-2018)\",\n",
    "         fontdict={'fontsize':30})\n",
    "\n",
    "plt.show();"
   ]
  },
  {
   "cell_type": "markdown",
   "metadata": {},
   "source": [
    "> Still not a great chart. Better than before in that clearly `Hounslow` has the highest ratio, but can't provide exact numbers."
   ]
  },
  {
   "cell_type": "markdown",
   "metadata": {},
   "source": [
    "---"
   ]
  },
  {
   "cell_type": "code",
   "execution_count": 63,
   "metadata": {
    "ExecuteTime": {
     "end_time": "2020-09-07T01:45:40.217256Z",
     "start_time": "2020-09-07T01:45:40.211482Z"
    }
   },
   "outputs": [
    {
     "data": {
      "text/html": [
       "<div>\n",
       "<style scoped>\n",
       "    .dataframe tbody tr th:only-of-type {\n",
       "        vertical-align: middle;\n",
       "    }\n",
       "\n",
       "    .dataframe tbody tr th {\n",
       "        vertical-align: top;\n",
       "    }\n",
       "\n",
       "    .dataframe thead th {\n",
       "        text-align: right;\n",
       "    }\n",
       "</style>\n",
       "<table border=\"1\" class=\"dataframe\">\n",
       "  <thead>\n",
       "    <tr style=\"text-align: right;\">\n",
       "      <th></th>\n",
       "      <th>Boroughs</th>\n",
       "      <th>Values</th>\n",
       "    </tr>\n",
       "  </thead>\n",
       "  <tbody>\n",
       "    <tr>\n",
       "      <th>9</th>\n",
       "      <td>Enfield</td>\n",
       "      <td>0.234551</td>\n",
       "    </tr>\n",
       "    <tr>\n",
       "      <th>2</th>\n",
       "      <td>Bexley</td>\n",
       "      <td>0.235351</td>\n",
       "    </tr>\n",
       "    <tr>\n",
       "      <th>7</th>\n",
       "      <td>Croydon</td>\n",
       "      <td>0.238033</td>\n",
       "    </tr>\n",
       "    <tr>\n",
       "      <th>16</th>\n",
       "      <td>Hillingdon</td>\n",
       "      <td>0.238080</td>\n",
       "    </tr>\n",
       "    <tr>\n",
       "      <th>12</th>\n",
       "      <td>Hammersmith &amp; Fulham</td>\n",
       "      <td>0.241674</td>\n",
       "    </tr>\n",
       "    <tr>\n",
       "      <th>28</th>\n",
       "      <td>Sutton</td>\n",
       "      <td>0.242806</td>\n",
       "    </tr>\n",
       "    <tr>\n",
       "      <th>4</th>\n",
       "      <td>Bromley</td>\n",
       "      <td>0.244213</td>\n",
       "    </tr>\n",
       "    <tr>\n",
       "      <th>14</th>\n",
       "      <td>Harrow</td>\n",
       "      <td>0.246354</td>\n",
       "    </tr>\n",
       "    <tr>\n",
       "      <th>26</th>\n",
       "      <td>Richmond Upon Thames</td>\n",
       "      <td>0.249678</td>\n",
       "    </tr>\n",
       "    <tr>\n",
       "      <th>17</th>\n",
       "      <td>Hounslow</td>\n",
       "      <td>0.251483</td>\n",
       "    </tr>\n",
       "  </tbody>\n",
       "</table>\n",
       "</div>"
      ],
      "text/plain": [
       "                Boroughs    Values\n",
       "9                Enfield  0.234551\n",
       "2                 Bexley  0.235351\n",
       "7                Croydon  0.238033\n",
       "16            Hillingdon  0.238080\n",
       "12  Hammersmith & Fulham  0.241674\n",
       "28                Sutton  0.242806\n",
       "4                Bromley  0.244213\n",
       "14                Harrow  0.246354\n",
       "26  Richmond Upon Thames  0.249678\n",
       "17              Hounslow  0.251483"
      ]
     },
     "execution_count": 63,
     "metadata": {},
     "output_type": "execute_result"
    }
   ],
   "source": [
    "top10"
   ]
  },
  {
   "cell_type": "markdown",
   "metadata": {},
   "source": [
    "> For this dataset and answering the question, looking at a table like this is good enough. But if presenting, a better visual should be used. "
   ]
  },
  {
   "cell_type": "code",
   "execution_count": 64,
   "metadata": {
    "ExecuteTime": {
     "end_time": "2020-09-07T01:45:40.225958Z",
     "start_time": "2020-09-07T01:45:40.218677Z"
    }
   },
   "outputs": [
    {
     "data": {
      "text/html": [
       "<div>\n",
       "<style scoped>\n",
       "    .dataframe tbody tr th:only-of-type {\n",
       "        vertical-align: middle;\n",
       "    }\n",
       "\n",
       "    .dataframe tbody tr th {\n",
       "        vertical-align: top;\n",
       "    }\n",
       "\n",
       "    .dataframe thead th {\n",
       "        text-align: right;\n",
       "    }\n",
       "</style>\n",
       "<table border=\"1\" class=\"dataframe\">\n",
       "  <thead>\n",
       "    <tr style=\"text-align: right;\">\n",
       "      <th></th>\n",
       "      <th>Boroughs</th>\n",
       "      <th>Values</th>\n",
       "    </tr>\n",
       "  </thead>\n",
       "  <tbody>\n",
       "    <tr>\n",
       "      <th>11</th>\n",
       "      <td>Hackney</td>\n",
       "      <td>0.161335</td>\n",
       "    </tr>\n",
       "    <tr>\n",
       "      <th>30</th>\n",
       "      <td>Waltham Forest</td>\n",
       "      <td>0.171387</td>\n",
       "    </tr>\n",
       "    <tr>\n",
       "      <th>27</th>\n",
       "      <td>Southwark</td>\n",
       "      <td>0.181275</td>\n",
       "    </tr>\n",
       "    <tr>\n",
       "      <th>22</th>\n",
       "      <td>Lewisham</td>\n",
       "      <td>0.183512</td>\n",
       "    </tr>\n",
       "    <tr>\n",
       "      <th>32</th>\n",
       "      <td>Westminster</td>\n",
       "      <td>0.186791</td>\n",
       "    </tr>\n",
       "    <tr>\n",
       "      <th>24</th>\n",
       "      <td>Newham</td>\n",
       "      <td>0.188488</td>\n",
       "    </tr>\n",
       "    <tr>\n",
       "      <th>6</th>\n",
       "      <td>City of London</td>\n",
       "      <td>0.188622</td>\n",
       "    </tr>\n",
       "    <tr>\n",
       "      <th>13</th>\n",
       "      <td>Haringey</td>\n",
       "      <td>0.194756</td>\n",
       "    </tr>\n",
       "    <tr>\n",
       "      <th>19</th>\n",
       "      <td>Kensington &amp; Chelsea</td>\n",
       "      <td>0.196755</td>\n",
       "    </tr>\n",
       "    <tr>\n",
       "      <th>21</th>\n",
       "      <td>Lambeth</td>\n",
       "      <td>0.201704</td>\n",
       "    </tr>\n",
       "  </tbody>\n",
       "</table>\n",
       "</div>"
      ],
      "text/plain": [
       "                Boroughs    Values\n",
       "11               Hackney  0.161335\n",
       "30        Waltham Forest  0.171387\n",
       "27             Southwark  0.181275\n",
       "22              Lewisham  0.183512\n",
       "32           Westminster  0.186791\n",
       "24                Newham  0.188488\n",
       "6         City of London  0.188622\n",
       "13              Haringey  0.194756\n",
       "19  Kensington & Chelsea  0.196755\n",
       "21               Lambeth  0.201704"
      ]
     },
     "execution_count": 64,
     "metadata": {},
     "output_type": "execute_result"
    }
   ],
   "source": [
    "bottom10 = london_priceRatios.sort_values(by='Values',ascending=True).head(10)\n",
    "bottom10"
   ]
  },
  {
   "cell_type": "code",
   "execution_count": 65,
   "metadata": {
    "ExecuteTime": {
     "end_time": "2020-09-07T01:45:40.234753Z",
     "start_time": "2020-09-07T01:45:40.227421Z"
    }
   },
   "outputs": [
    {
     "data": {
      "text/html": [
       "<div>\n",
       "<style scoped>\n",
       "    .dataframe tbody tr th:only-of-type {\n",
       "        vertical-align: middle;\n",
       "    }\n",
       "\n",
       "    .dataframe tbody tr th {\n",
       "        vertical-align: top;\n",
       "    }\n",
       "\n",
       "    .dataframe thead th {\n",
       "        text-align: right;\n",
       "    }\n",
       "</style>\n",
       "<table border=\"1\" class=\"dataframe\">\n",
       "  <thead>\n",
       "    <tr style=\"text-align: right;\">\n",
       "      <th></th>\n",
       "      <th>Boroughs</th>\n",
       "      <th>Values</th>\n",
       "    </tr>\n",
       "  </thead>\n",
       "  <tbody>\n",
       "    <tr>\n",
       "      <th>0</th>\n",
       "      <td>Barking &amp; Dagenham</td>\n",
       "      <td>0.204223</td>\n",
       "    </tr>\n",
       "    <tr>\n",
       "      <th>1</th>\n",
       "      <td>Barnet</td>\n",
       "      <td>0.229453</td>\n",
       "    </tr>\n",
       "    <tr>\n",
       "      <th>2</th>\n",
       "      <td>Bexley</td>\n",
       "      <td>0.235351</td>\n",
       "    </tr>\n",
       "    <tr>\n",
       "      <th>3</th>\n",
       "      <td>Brent</td>\n",
       "      <td>0.204309</td>\n",
       "    </tr>\n",
       "    <tr>\n",
       "      <th>4</th>\n",
       "      <td>Bromley</td>\n",
       "      <td>0.244213</td>\n",
       "    </tr>\n",
       "    <tr>\n",
       "      <th>5</th>\n",
       "      <td>Camden</td>\n",
       "      <td>0.202620</td>\n",
       "    </tr>\n",
       "    <tr>\n",
       "      <th>6</th>\n",
       "      <td>City of London</td>\n",
       "      <td>0.188622</td>\n",
       "    </tr>\n",
       "    <tr>\n",
       "      <th>7</th>\n",
       "      <td>Croydon</td>\n",
       "      <td>0.238033</td>\n",
       "    </tr>\n",
       "    <tr>\n",
       "      <th>8</th>\n",
       "      <td>Ealing</td>\n",
       "      <td>0.231940</td>\n",
       "    </tr>\n",
       "    <tr>\n",
       "      <th>9</th>\n",
       "      <td>Enfield</td>\n",
       "      <td>0.234551</td>\n",
       "    </tr>\n",
       "    <tr>\n",
       "      <th>10</th>\n",
       "      <td>Greenwich</td>\n",
       "      <td>0.209950</td>\n",
       "    </tr>\n",
       "    <tr>\n",
       "      <th>11</th>\n",
       "      <td>Hackney</td>\n",
       "      <td>0.161335</td>\n",
       "    </tr>\n",
       "    <tr>\n",
       "      <th>12</th>\n",
       "      <td>Hammersmith &amp; Fulham</td>\n",
       "      <td>0.241674</td>\n",
       "    </tr>\n",
       "    <tr>\n",
       "      <th>13</th>\n",
       "      <td>Haringey</td>\n",
       "      <td>0.194756</td>\n",
       "    </tr>\n",
       "    <tr>\n",
       "      <th>14</th>\n",
       "      <td>Harrow</td>\n",
       "      <td>0.246354</td>\n",
       "    </tr>\n",
       "    <tr>\n",
       "      <th>15</th>\n",
       "      <td>Havering</td>\n",
       "      <td>0.231202</td>\n",
       "    </tr>\n",
       "    <tr>\n",
       "      <th>16</th>\n",
       "      <td>Hillingdon</td>\n",
       "      <td>0.238080</td>\n",
       "    </tr>\n",
       "    <tr>\n",
       "      <th>17</th>\n",
       "      <td>Hounslow</td>\n",
       "      <td>0.251483</td>\n",
       "    </tr>\n",
       "    <tr>\n",
       "      <th>18</th>\n",
       "      <td>Islington</td>\n",
       "      <td>0.206439</td>\n",
       "    </tr>\n",
       "    <tr>\n",
       "      <th>19</th>\n",
       "      <td>Kensington &amp; Chelsea</td>\n",
       "      <td>0.196755</td>\n",
       "    </tr>\n",
       "    <tr>\n",
       "      <th>20</th>\n",
       "      <td>Kingston Upon Thames</td>\n",
       "      <td>0.234162</td>\n",
       "    </tr>\n",
       "    <tr>\n",
       "      <th>21</th>\n",
       "      <td>Lambeth</td>\n",
       "      <td>0.201704</td>\n",
       "    </tr>\n",
       "    <tr>\n",
       "      <th>22</th>\n",
       "      <td>Lewisham</td>\n",
       "      <td>0.183512</td>\n",
       "    </tr>\n",
       "    <tr>\n",
       "      <th>23</th>\n",
       "      <td>Merton</td>\n",
       "      <td>0.210914</td>\n",
       "    </tr>\n",
       "    <tr>\n",
       "      <th>24</th>\n",
       "      <td>Newham</td>\n",
       "      <td>0.188488</td>\n",
       "    </tr>\n",
       "    <tr>\n",
       "      <th>25</th>\n",
       "      <td>Redbridge</td>\n",
       "      <td>0.223655</td>\n",
       "    </tr>\n",
       "    <tr>\n",
       "      <th>26</th>\n",
       "      <td>Richmond Upon Thames</td>\n",
       "      <td>0.249678</td>\n",
       "    </tr>\n",
       "    <tr>\n",
       "      <th>27</th>\n",
       "      <td>Southwark</td>\n",
       "      <td>0.181275</td>\n",
       "    </tr>\n",
       "    <tr>\n",
       "      <th>28</th>\n",
       "      <td>Sutton</td>\n",
       "      <td>0.242806</td>\n",
       "    </tr>\n",
       "    <tr>\n",
       "      <th>29</th>\n",
       "      <td>Tower Hamlets</td>\n",
       "      <td>0.216137</td>\n",
       "    </tr>\n",
       "    <tr>\n",
       "      <th>30</th>\n",
       "      <td>Waltham Forest</td>\n",
       "      <td>0.171387</td>\n",
       "    </tr>\n",
       "    <tr>\n",
       "      <th>31</th>\n",
       "      <td>Wandsworth</td>\n",
       "      <td>0.210185</td>\n",
       "    </tr>\n",
       "    <tr>\n",
       "      <th>32</th>\n",
       "      <td>Westminster</td>\n",
       "      <td>0.186791</td>\n",
       "    </tr>\n",
       "  </tbody>\n",
       "</table>\n",
       "</div>"
      ],
      "text/plain": [
       "                Boroughs    Values\n",
       "0     Barking & Dagenham  0.204223\n",
       "1                 Barnet  0.229453\n",
       "2                 Bexley  0.235351\n",
       "3                  Brent  0.204309\n",
       "4                Bromley  0.244213\n",
       "5                 Camden  0.202620\n",
       "6         City of London  0.188622\n",
       "7                Croydon  0.238033\n",
       "8                 Ealing  0.231940\n",
       "9                Enfield  0.234551\n",
       "10             Greenwich  0.209950\n",
       "11               Hackney  0.161335\n",
       "12  Hammersmith & Fulham  0.241674\n",
       "13              Haringey  0.194756\n",
       "14                Harrow  0.246354\n",
       "15              Havering  0.231202\n",
       "16            Hillingdon  0.238080\n",
       "17              Hounslow  0.251483\n",
       "18             Islington  0.206439\n",
       "19  Kensington & Chelsea  0.196755\n",
       "20  Kingston Upon Thames  0.234162\n",
       "21               Lambeth  0.201704\n",
       "22              Lewisham  0.183512\n",
       "23                Merton  0.210914\n",
       "24                Newham  0.188488\n",
       "25             Redbridge  0.223655\n",
       "26  Richmond Upon Thames  0.249678\n",
       "27             Southwark  0.181275\n",
       "28                Sutton  0.242806\n",
       "29         Tower Hamlets  0.216137\n",
       "30        Waltham Forest  0.171387\n",
       "31            Wandsworth  0.210185\n",
       "32           Westminster  0.186791"
      ]
     },
     "execution_count": 65,
     "metadata": {},
     "output_type": "execute_result"
    }
   ],
   "source": [
    "pd.set_option(\"display.max_rows\", 50)\n",
    "london_priceRatios"
   ]
  },
  {
   "cell_type": "code",
   "execution_count": 66,
   "metadata": {
    "ExecuteTime": {
     "end_time": "2020-09-07T01:45:40.238674Z",
     "start_time": "2020-09-07T01:45:40.236083Z"
    }
   },
   "outputs": [
    {
     "data": {
      "text/plain": [
       "'/Users/nlac10/Documents/springboard/curriculum/04.0-python_ds_stack/4.3-london_case_study'"
      ]
     },
     "execution_count": 66,
     "metadata": {},
     "output_type": "execute_result"
    }
   ],
   "source": [
    "pwd"
   ]
  },
  {
   "cell_type": "code",
   "execution_count": 67,
   "metadata": {
    "ExecuteTime": {
     "end_time": "2020-09-07T01:45:40.242869Z",
     "start_time": "2020-09-07T01:45:40.239775Z"
    }
   },
   "outputs": [
    {
     "name": "stdout",
     "output_type": "stream",
     "text": [
      "/Users/nlac10/Documents/springboard/curriculum/04.0-python_ds_stack/4.3-london_case_study/dataset\n"
     ]
    }
   ],
   "source": [
    "cd dataset/"
   ]
  },
  {
   "cell_type": "code",
   "execution_count": 68,
   "metadata": {
    "ExecuteTime": {
     "end_time": "2020-09-07T01:45:40.282821Z",
     "start_time": "2020-09-07T01:45:40.255087Z"
    }
   },
   "outputs": [],
   "source": [
    "london_priceRatios.to_excel(\"london-housing-ratios.xls\",index=False)"
   ]
  },
  {
   "cell_type": "code",
   "execution_count": 69,
   "metadata": {
    "ExecuteTime": {
     "end_time": "2020-09-07T01:45:40.434445Z",
     "start_time": "2020-09-07T01:45:40.290161Z"
    }
   },
   "outputs": [
    {
     "name": "stdout",
     "output_type": "stream",
     "text": [
      "Mapping-template-for-London-boroughs copy.xls\r\n",
      "Mapping-template-for-London-boroughs.xls\r\n",
      "UK_House_price_index.xlsx\r\n",
      "bourough-coordinates.xlsx\r\n",
      "london-housing-ratios.xls\r\n",
      "\u001b[1m\u001b[36mtableau\u001b[m\u001b[m/\r\n"
     ]
    }
   ],
   "source": [
    "ls"
   ]
  },
  {
   "cell_type": "markdown",
   "metadata": {},
   "source": [
    "> A cool visual would be tableau mapping showing the price ratios and can filter 'inner' and 'outer' boroughs. Some kind of map like this. "
   ]
  },
  {
   "attachments": {
    "london-borough-map-homealone-label-01.jpg": {
     "image/jpeg": "[encoded data removed]"
    }
   },
   "cell_type": "markdown",
   "metadata": {},
   "source": [
    "![london-borough-map-homealone-label-01.jpg](attachment:london-borough-map-homealone-label-01.jpg)"
   ]
  },
  {
   "cell_type": "markdown",
   "metadata": {},
   "source": [
    "---"
   ]
  },
  {
   "cell_type": "code",
   "execution_count": 72,
   "metadata": {
    "ExecuteTime": {
     "end_time": "2020-09-07T01:49:18.748671Z",
     "start_time": "2020-09-07T01:49:18.739633Z"
    }
   },
   "outputs": [
    {
     "data": {
      "text/html": [
       "<div>\n",
       "<style scoped>\n",
       "    .dataframe tbody tr th:only-of-type {\n",
       "        vertical-align: middle;\n",
       "    }\n",
       "\n",
       "    .dataframe tbody tr th {\n",
       "        vertical-align: top;\n",
       "    }\n",
       "\n",
       "    .dataframe thead th {\n",
       "        text-align: right;\n",
       "    }\n",
       "</style>\n",
       "<table border=\"1\" class=\"dataframe\">\n",
       "  <thead>\n",
       "    <tr style=\"text-align: right;\">\n",
       "      <th></th>\n",
       "      <th>Values</th>\n",
       "    </tr>\n",
       "  </thead>\n",
       "  <tbody>\n",
       "    <tr>\n",
       "      <th>count</th>\n",
       "      <td>33.000000</td>\n",
       "    </tr>\n",
       "    <tr>\n",
       "      <th>mean</th>\n",
       "      <td>0.214910</td>\n",
       "    </tr>\n",
       "    <tr>\n",
       "      <th>std</th>\n",
       "      <td>0.024662</td>\n",
       "    </tr>\n",
       "    <tr>\n",
       "      <th>min</th>\n",
       "      <td>0.161335</td>\n",
       "    </tr>\n",
       "    <tr>\n",
       "      <th>25%</th>\n",
       "      <td>0.196755</td>\n",
       "    </tr>\n",
       "    <tr>\n",
       "      <th>50%</th>\n",
       "      <td>0.210914</td>\n",
       "    </tr>\n",
       "    <tr>\n",
       "      <th>75%</th>\n",
       "      <td>0.235351</td>\n",
       "    </tr>\n",
       "    <tr>\n",
       "      <th>max</th>\n",
       "      <td>0.251483</td>\n",
       "    </tr>\n",
       "  </tbody>\n",
       "</table>\n",
       "</div>"
      ],
      "text/plain": [
       "          Values\n",
       "count  33.000000\n",
       "mean    0.214910\n",
       "std     0.024662\n",
       "min     0.161335\n",
       "25%     0.196755\n",
       "50%     0.210914\n",
       "75%     0.235351\n",
       "max     0.251483"
      ]
     },
     "execution_count": 72,
     "metadata": {},
     "output_type": "execute_result"
    }
   ],
   "source": [
    "# investigating ratios (for fun!)\n",
    "london_priceRatios.describe()"
   ]
  },
  {
   "cell_type": "code",
   "execution_count": 85,
   "metadata": {
    "ExecuteTime": {
     "end_time": "2020-09-07T01:54:23.522928Z",
     "start_time": "2020-09-07T01:54:23.452780Z"
    }
   },
   "outputs": [
    {
     "data": {
      "text/plain": [
       "<AxesSubplot:ylabel='Values'>"
      ]
     },
     "execution_count": 85,
     "metadata": {},
     "output_type": "execute_result"
    },
    {
     "data": {
      "image/png": "[encoded data removed]",
      "text/plain": [
       "<Figure size 432x288 with 1 Axes>"
      ]
     },
     "metadata": {
      "needs_background": "light"
     },
     "output_type": "display_data"
    }
   ],
   "source": [
    "sns.boxplot(y='Values', data=london_priceRatios)"
   ]
  },
  {
   "cell_type": "markdown",
   "metadata": {},
   "source": [
    "> How many boroughs are above the mean? "
   ]
  },
  {
   "cell_type": "code",
   "execution_count": 92,
   "metadata": {
    "ExecuteTime": {
     "end_time": "2020-09-07T01:57:32.461340Z",
     "start_time": "2020-09-07T01:57:32.458067Z"
    }
   },
   "outputs": [
    {
     "data": {
      "text/plain": [
       "0.2149"
      ]
     },
     "execution_count": 92,
     "metadata": {},
     "output_type": "execute_result"
    }
   ],
   "source": [
    "# mean == 0.214910\n",
    "mean = round(london_priceRatios['Values'].mean(),4)\n",
    "mean"
   ]
  },
  {
   "cell_type": "code",
   "execution_count": 95,
   "metadata": {
    "ExecuteTime": {
     "end_time": "2020-09-07T01:59:33.221588Z",
     "start_time": "2020-09-07T01:59:33.213893Z"
    }
   },
   "outputs": [
    {
     "data": {
      "text/html": [
       "<div>\n",
       "<style scoped>\n",
       "    .dataframe tbody tr th:only-of-type {\n",
       "        vertical-align: middle;\n",
       "    }\n",
       "\n",
       "    .dataframe tbody tr th {\n",
       "        vertical-align: top;\n",
       "    }\n",
       "\n",
       "    .dataframe thead th {\n",
       "        text-align: right;\n",
       "    }\n",
       "</style>\n",
       "<table border=\"1\" class=\"dataframe\">\n",
       "  <thead>\n",
       "    <tr style=\"text-align: right;\">\n",
       "      <th></th>\n",
       "      <th>Boroughs</th>\n",
       "      <th>Values</th>\n",
       "    </tr>\n",
       "  </thead>\n",
       "  <tbody>\n",
       "    <tr>\n",
       "      <th>17</th>\n",
       "      <td>Hounslow</td>\n",
       "      <td>0.251483</td>\n",
       "    </tr>\n",
       "    <tr>\n",
       "      <th>26</th>\n",
       "      <td>Richmond Upon Thames</td>\n",
       "      <td>0.249678</td>\n",
       "    </tr>\n",
       "    <tr>\n",
       "      <th>14</th>\n",
       "      <td>Harrow</td>\n",
       "      <td>0.246354</td>\n",
       "    </tr>\n",
       "    <tr>\n",
       "      <th>4</th>\n",
       "      <td>Bromley</td>\n",
       "      <td>0.244213</td>\n",
       "    </tr>\n",
       "    <tr>\n",
       "      <th>28</th>\n",
       "      <td>Sutton</td>\n",
       "      <td>0.242806</td>\n",
       "    </tr>\n",
       "    <tr>\n",
       "      <th>12</th>\n",
       "      <td>Hammersmith &amp; Fulham</td>\n",
       "      <td>0.241674</td>\n",
       "    </tr>\n",
       "    <tr>\n",
       "      <th>16</th>\n",
       "      <td>Hillingdon</td>\n",
       "      <td>0.238080</td>\n",
       "    </tr>\n",
       "    <tr>\n",
       "      <th>7</th>\n",
       "      <td>Croydon</td>\n",
       "      <td>0.238033</td>\n",
       "    </tr>\n",
       "    <tr>\n",
       "      <th>2</th>\n",
       "      <td>Bexley</td>\n",
       "      <td>0.235351</td>\n",
       "    </tr>\n",
       "    <tr>\n",
       "      <th>9</th>\n",
       "      <td>Enfield</td>\n",
       "      <td>0.234551</td>\n",
       "    </tr>\n",
       "    <tr>\n",
       "      <th>20</th>\n",
       "      <td>Kingston Upon Thames</td>\n",
       "      <td>0.234162</td>\n",
       "    </tr>\n",
       "    <tr>\n",
       "      <th>8</th>\n",
       "      <td>Ealing</td>\n",
       "      <td>0.231940</td>\n",
       "    </tr>\n",
       "    <tr>\n",
       "      <th>15</th>\n",
       "      <td>Havering</td>\n",
       "      <td>0.231202</td>\n",
       "    </tr>\n",
       "    <tr>\n",
       "      <th>1</th>\n",
       "      <td>Barnet</td>\n",
       "      <td>0.229453</td>\n",
       "    </tr>\n",
       "    <tr>\n",
       "      <th>25</th>\n",
       "      <td>Redbridge</td>\n",
       "      <td>0.223655</td>\n",
       "    </tr>\n",
       "    <tr>\n",
       "      <th>29</th>\n",
       "      <td>Tower Hamlets</td>\n",
       "      <td>0.216137</td>\n",
       "    </tr>\n",
       "  </tbody>\n",
       "</table>\n",
       "</div>"
      ],
      "text/plain": [
       "                Boroughs    Values\n",
       "17              Hounslow  0.251483\n",
       "26  Richmond Upon Thames  0.249678\n",
       "14                Harrow  0.246354\n",
       "4                Bromley  0.244213\n",
       "28                Sutton  0.242806\n",
       "12  Hammersmith & Fulham  0.241674\n",
       "16            Hillingdon  0.238080\n",
       "7                Croydon  0.238033\n",
       "2                 Bexley  0.235351\n",
       "9                Enfield  0.234551\n",
       "20  Kingston Upon Thames  0.234162\n",
       "8                 Ealing  0.231940\n",
       "15              Havering  0.231202\n",
       "1                 Barnet  0.229453\n",
       "25             Redbridge  0.223655\n",
       "29         Tower Hamlets  0.216137"
      ]
     },
     "execution_count": 95,
     "metadata": {},
     "output_type": "execute_result"
    }
   ],
   "source": [
    "above_the_mean = london_priceRatios[london_priceRatios['Values'] > mean].sort_values(by='Values',ascending=False)\n",
    "above_the_mean"
   ]
  },
  {
   "cell_type": "markdown",
   "metadata": {},
   "source": [
    "---"
   ]
  },
  {
   "cell_type": "markdown",
   "metadata": {
    "colab_type": "text",
    "id": "NzYUI7FxJpgv"
   },
   "source": [
    "### 4. Conclusion\n",
    "What can you conclude? Type out your conclusion below. \n",
    "\n",
    "> Of the 32 boroughs (plus City of London), Hounslow\n",
    " has the highest increase of housing prices on average the past two decades (1998-2018) with a price ratio of 0.251483 (roughly 1:4). This means housing prices in 2018 is 4x more expensive than prices back in 1998.\n",
    "\n",
    "---\n",
    "Look back at your notebook. Think about how you might summarize what you have done, and prepare a quick presentation on it to your mentor at your next meeting. \n",
    "\n",
    "---\n",
    "We hope you enjoyed this practical project. It should have consolidated your data hygiene and pandas skills by looking at a real-world problem involving just the kind of dataset you might encounter as a budding data scientist. Congratulations, and looking forward to seeing you at the next step in the course! "
   ]
  }
 ],
 "metadata": {
  "colab": {
   "collapsed_sections": [],
   "name": "Springboard Data Science Career Track Unit 4 Challenge - Tier 3 Complete .ipynb",
   "provenance": []
  },
  "hide_input": false,
  "kernelspec": {
   "display_name": "Python 3",
   "language": "python",
   "name": "python3"
  },
  "language_info": {
   "codemirror_mode": {
    "name": "ipython",
    "version": 3
   },
   "file_extension": ".py",
   "mimetype": "text/x-python",
   "name": "python",
   "nbconvert_exporter": "python",
   "pygments_lexer": "ipython3",
   "version": "3.7.7"
  },
  "toc": {
   "base_numbering": 1,
   "nav_menu": {
    "height": "144.986px",
    "width": "180.994px"
   },
   "number_sections": false,
   "sideBar": true,
   "skip_h1_title": true,
   "title_cell": "Table of Contents",
   "title_sidebar": "Table of Contents",
   "toc_cell": false,
   "toc_position": {
    "height": "calc(100% - 180px)",
    "left": "10px",
    "top": "150px",
    "width": "165px"
   },
   "toc_section_display": true,
   "toc_window_display": true
  },
  "varInspector": {
   "cols": {
    "lenName": 16,
    "lenType": 16,
    "lenVar": 40
   },
   "kernels_config": {
    "python": {
     "delete_cmd_postfix": "",
     "delete_cmd_prefix": "del ",
     "library": "var_list.py",
     "varRefreshCmd": "print(var_dic_list())"
    },
    "r": {
     "delete_cmd_postfix": ") ",
     "delete_cmd_prefix": "rm(",
     "library": "var_list.r",
     "varRefreshCmd": "cat(var_dic_list()) "
    }
   },
   "types_to_exclude": [
    "module",
    "function",
    "builtin_function_or_method",
    "instance",
    "_Feature"
   ],
   "window_display": false
  }
 },
 "nbformat": 4,
 "nbformat_minor": 1
}
